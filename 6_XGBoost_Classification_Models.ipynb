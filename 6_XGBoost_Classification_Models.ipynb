{
  "cells": [
    {
      "cell_type": "markdown",
      "metadata": {
        "id": "view-in-github",
        "colab_type": "text"
      },
      "source": [
        "<a href=\"https://colab.research.google.com/github/YinYinTan/CIND820FinalProject/blob/main/6_XGBoost_Classification_Models.ipynb\" target=\"_parent\"><img src=\"https://colab.research.google.com/assets/colab-badge.svg\" alt=\"Open In Colab\"/></a>"
      ]
    },
    {
      "cell_type": "markdown",
      "metadata": {
        "id": "ofVkrVUQdzpi"
      },
      "source": [
        "# eXtreme Gradient Boosting (XGBoost) Classification Models"
      ]
    },
    {
      "cell_type": "code",
      "execution_count": 1,
      "metadata": {
        "id": "qULcocLREKTX"
      },
      "outputs": [],
      "source": [
        "import pandas as pd\n",
        "import numpy as np\n",
        "from imblearn.over_sampling import SMOTE\n",
        "from numpy import loadtxt\n",
        "import xgboost as xgb\n",
        "from xgboost import XGBClassifier\n",
        "from sklearn import metrics\n",
        "from sklearn.model_selection import RepeatedStratifiedKFold\n",
        "import matplotlib.pyplot as plt\n",
        "from sklearn.feature_selection import RFE\n",
        "import time"
      ]
    },
    {
      "cell_type": "code",
      "execution_count": 2,
      "metadata": {
        "id": "x2NItT3gdNOp"
      },
      "outputs": [],
      "source": [
        "#Read file\n",
        "df = pd.read_csv('3a. Working Dataset.csv', index_col=None)"
      ]
    },
    {
      "cell_type": "markdown",
      "metadata": {
        "id": "g9TAizYxQy3G"
      },
      "source": [
        "# 1. All Features in Working Dataset - Evaluation using Train-Test Split"
      ]
    },
    {
      "cell_type": "code",
      "execution_count": null,
      "metadata": {
        "id": "dmarvx_-MKaI"
      },
      "outputs": [],
      "source": [
        "#Split dataframe, using 80% for training and 20% for testing\n",
        "from sklearn.model_selection import train_test_split\n",
        "\n",
        "X = df.drop(['Worse_MH'],axis=1)\n",
        "y = df['Worse_MH']\n",
        "\n",
        "X_train, X_test, y_train, y_test = train_test_split(X, y, test_size=0.2, random_state=888, stratify=y)"
      ]
    },
    {
      "cell_type": "code",
      "execution_count": null,
      "metadata": {
        "colab": {
          "base_uri": "https://localhost:8080/"
        },
        "id": "fbEvfWsxEYPq",
        "outputId": "731392cc-46af-4e81-cbd0-a7f1de1eb691"
      },
      "outputs": [
        {
          "name": "stdout",
          "output_type": "stream",
          "text": [
            "Accuracy: 0.7580831408775982\n",
            "Precision: 0.856353591160221\n",
            "Recall: 0.779547359597653\n",
            "F1-score: 0.8161474330846862\n",
            "Area Under Curve (AUC): 0.7450612493721104\n",
            "Brier Score: 0.24191685912240185\n",
            "Execution time in seconds: 3\n"
          ]
        }
      ],
      "source": [
        "#Apply Synthetic Minority Oversampling Technique (SMOTE) to training set to correct class imbalance\n",
        "smote = SMOTE(random_state = 888)\n",
        "X_train, y_train = smote.fit_resample(X_train, y_train)\n",
        "\n",
        "#XGBoost classification model\n",
        "\n",
        "t1 = time.perf_counter() #time counter start\n",
        "\n",
        "model = XGBClassifier(random_state=888)\n",
        "model.fit(X_train, y_train)\n",
        "\n",
        "y_pred=model.predict(X_test)\n",
        "\n",
        "t2 = time.perf_counter() #time counter ends\n",
        "\n",
        "#Save results into dictionary\n",
        "xgb_all_base = {'Accuracy':metrics.accuracy_score(y_test, y_pred), 'Precision':metrics.precision_score(y_test, y_pred),'Recall':metrics.recall_score(y_test, y_pred),\\\n",
        "          'F1-Score':metrics.f1_score(y_test, y_pred),'AUC':metrics.roc_auc_score(y_test, y_pred),'Brier Score':metrics.brier_score_loss(y_test, y_pred),'Execution Time (sec)':int(t2-t1)}\n",
        "\n",
        "#Evaluation of XGBoost classification model\n",
        "print(\"Accuracy:\", metrics.accuracy_score(y_test, y_pred))\n",
        "print(\"Precision:\", metrics.precision_score(y_test, y_pred))\n",
        "print(\"Recall:\", metrics.recall_score(y_test, y_pred))\n",
        "print(\"F1-score:\", metrics.f1_score(y_test, y_pred))\n",
        "print(\"Area Under Curve (AUC):\", metrics.roc_auc_score(y_test, y_pred))\n",
        "print(\"Brier Score:\", metrics.brier_score_loss(y_test, y_pred))\n",
        "print('Execution time in seconds:', int(t2-t1))"
      ]
    },
    {
      "cell_type": "markdown",
      "metadata": {
        "id": "duYTXmuG_p4u"
      },
      "source": [
        "# 2. All Features in Working Dataset - Hyperparameter Tuning"
      ]
    },
    {
      "cell_type": "markdown",
      "metadata": {
        "id": "zu3WG9hH-_vw"
      },
      "source": [
        "### 2.1 Random Search with Cross Validation\n",
        "In this section, a grid of hyperparameter ranges will be defined, and randomly sampled from the grid, where k-fold cross validation will be performed with each combination of values."
      ]
    },
    {
      "cell_type": "code",
      "execution_count": null,
      "metadata": {
        "colab": {
          "base_uri": "https://localhost:8080/"
        },
        "id": "VlKu7C3k5YdK",
        "outputId": "642005a6-3026-479f-8978-1f625c4ef491"
      },
      "outputs": [
        {
          "name": "stdout",
          "output_type": "stream",
          "text": [
            "Parameters currently in use:\n",
            "\n",
            "{'base_score': 0.5,\n",
            " 'booster': 'gbtree',\n",
            " 'colsample_bylevel': 1,\n",
            " 'colsample_bynode': 1,\n",
            " 'colsample_bytree': 1,\n",
            " 'gamma': 0,\n",
            " 'learning_rate': 0.1,\n",
            " 'max_delta_step': 0,\n",
            " 'max_depth': 3,\n",
            " 'min_child_weight': 1,\n",
            " 'missing': None,\n",
            " 'n_estimators': 100,\n",
            " 'n_jobs': 1,\n",
            " 'nthread': None,\n",
            " 'objective': 'binary:logistic',\n",
            " 'random_state': 888,\n",
            " 'reg_alpha': 0,\n",
            " 'reg_lambda': 1,\n",
            " 'scale_pos_weight': 1,\n",
            " 'seed': None,\n",
            " 'silent': None,\n",
            " 'subsample': 1,\n",
            " 'verbosity': 1}\n"
          ]
        }
      ],
      "source": [
        "from pprint import pprint\n",
        "\n",
        "#Look at parameters currently used by the model\n",
        "print('Parameters currently in use:\\n')\n",
        "pprint(model.get_params())"
      ]
    },
    {
      "cell_type": "markdown",
      "metadata": {
        "id": "8V8XA7Gl50wK"
      },
      "source": [
        "The following set of hyperparameters will be adjusted to narrow down the best combination of parameters:\n",
        "*   learning_rate: step size shrinkage used to prevent overfitting (range is 0 to 1). Makes the model more robust by shrinking the weights on each step.\n",
        "Typical values used are 0.01 to 0.2.\n",
        "*   min_child_weight = minimum sum of weights of all observations required in a child, used to control over-fitting. Higher values prevent a model from learning relations which might be highly specific to the particular sample selected for a tree. High values can lead to under-fitting.\n",
        "*   max_depth = how deeply each tree is allowed to grow during any boosting round. Used to control over-fitting as higher depths will allow models to learn relations very specific to a particular sample.\n",
        "*   gamma = the minimum loss reduction required to make a split\n",
        "*   subsample = percentage of samples used per tree (a low value prevents overfitting, but values that are too small can lead to underfitting)\n",
        "*   colsample_bytree = percentage of features used per tree (a high value can lead to overfitting)\n",
        "*   n_estimators = number of trees to build\n",
        "*   reg_alpha = regularization term on weight. Can be used in case of very high dimensionality so that the algorithm runs faster when implemented"
      ]
    },
    {
      "cell_type": "code",
      "execution_count": null,
      "metadata": {
        "colab": {
          "base_uri": "https://localhost:8080/"
        },
        "id": "scIYgq3n5yf7",
        "outputId": "0afd245d-be61-4c4d-c7ad-bb8d3523a001"
      },
      "outputs": [
        {
          "name": "stdout",
          "output_type": "stream",
          "text": [
            "{'colsample_bytree': [0.6, 0.7, 0.8, 0.9],\n",
            " 'gamma': [0.0, 0.1, 0.2, 0.3, 0.4],\n",
            " 'learning_rate': [0.01, 0.2],\n",
            " 'max_depth': [10, 20, 30, 40, 50],\n",
            " 'min_child_weight': range(1, 6, 2),\n",
            " 'n_estimators': [200, 288, 377, 466, 555, 644, 733, 822, 911, 1000],\n",
            " 'reg_alpha': [1e-05, 0.01, 0.1, 1, 100],\n",
            " 'subsample': [0.6, 0.7, 0.8, 0.9]}\n"
          ]
        }
      ],
      "source": [
        "#Creation of a parameter grid to sample from during fitting. On each iteration, the algorithm will choose a different, random combination of parameter values.\n",
        "\n",
        "from sklearn.model_selection import RandomizedSearchCV\n",
        "\n",
        "# Step size shrinkage used to prevent overfitting\n",
        "learning_rate = [0.01, 0.2]\n",
        "\n",
        "# Minimum sum of weights of all observations required in a child\n",
        "min_child_weight = range(1,6,2)\n",
        "\n",
        "# Maximum number of levels in tree\n",
        "max_depth = [10, 20, 30, 40, 50]\n",
        "\n",
        "# Minimum loss reduction required to make a split\n",
        "gamma = [i/10.0 for i in range(0,5)]\n",
        "\n",
        "# Percentage of samples used per tree\n",
        "subsample = [i/10.0 for i in range(6,10)]\n",
        "\n",
        "# Percentage of features used per tree\n",
        "colsample_bytree = [i/10.0 for i in range(6,10)]\n",
        "\n",
        "# Number of trees\n",
        "n_estimators = [int(x) for x in np.linspace(start = 200, stop = 1000, num = 10)]\n",
        "\n",
        "# Regularization\n",
        "reg_alpha = [1e-5, 1e-2, 0.1, 1, 100]\n",
        "\n",
        "# Create the random grid\n",
        "random_grid = {'learning_rate': learning_rate,\n",
        "               'min_child_weight': min_child_weight,\n",
        "               'max_depth': max_depth,\n",
        "               'gamma': gamma,\n",
        "               'subsample': subsample,\n",
        "               'colsample_bytree': colsample_bytree,\n",
        "               'n_estimators': n_estimators,\n",
        "               'reg_alpha': reg_alpha}\n",
        "\n",
        "pprint(random_grid)"
      ]
    },
    {
      "cell_type": "code",
      "execution_count": null,
      "metadata": {
        "colab": {
          "base_uri": "https://localhost:8080/"
        },
        "id": "eXYWbga57b3z",
        "outputId": "468534f6-a65b-4639-d9f6-6ac8f2567540"
      },
      "outputs": [
        {
          "name": "stdout",
          "output_type": "stream",
          "text": [
            "Fitting 3 folds for each of 50 candidates, totalling 150 fits\n"
          ]
        },
        {
          "data": {
            "text/plain": [
              "{'colsample_bytree': 0.8,\n",
              " 'gamma': 0.1,\n",
              " 'learning_rate': 0.01,\n",
              " 'max_depth': 40,\n",
              " 'min_child_weight': 1,\n",
              " 'n_estimators': 911,\n",
              " 'reg_alpha': 0.1,\n",
              " 'subsample': 0.7}"
            ]
          },
          "execution_count": 12,
          "metadata": {},
          "output_type": "execute_result"
        }
      ],
      "source": [
        "#Using the random grid to search for best parameters\n",
        "\n",
        "#Create the base model to tune\n",
        "model = XGBClassifier(random_state=888)\n",
        "\n",
        "#Random search of parameters across 50 different combinations, using 3 fold cross validation\n",
        "model_random = RandomizedSearchCV(estimator = model, param_distributions = random_grid, n_iter = 50, cv = 3, scoring = 'recall', verbose=2, random_state=42, n_jobs = -1)\n",
        "\n",
        "#Fit the random search model\n",
        "model_random.fit(X_train, y_train)\n",
        "\n",
        "#View the best parameters from fitting the random search (based on model with the best recall)\n",
        "model_random.best_params_"
      ]
    },
    {
      "cell_type": "code",
      "execution_count": null,
      "metadata": {
        "colab": {
          "base_uri": "https://localhost:8080/"
        },
        "id": "1-d3wDrE9kGu",
        "outputId": "93d42d55-d192-4290-c1fc-5e55324b0451"
      },
      "outputs": [
        {
          "name": "stdout",
          "output_type": "stream",
          "text": [
            "Accuracy: 0.7655889145496536\n",
            "Precision: 0.8249380677126342\n",
            "Recall: 0.837384744341995\n",
            "F1-score: 0.8311148086522463\n",
            "Area Under Curve (AUC): 0.7220318897962293\n",
            "Brier Score: 0.23441108545034642\n"
          ]
        }
      ],
      "source": [
        "#Evaluation of best model from random search\n",
        "best = model_random.best_estimator_\n",
        "y_pred=best.predict(X_test)\n",
        "\n",
        "print(\"Accuracy:\", metrics.accuracy_score(y_test, y_pred))\n",
        "print(\"Precision:\", metrics.precision_score(y_test, y_pred))\n",
        "print(\"Recall:\", metrics.recall_score(y_test, y_pred))\n",
        "print(\"F1-score:\", metrics.f1_score(y_test, y_pred))\n",
        "print(\"Area Under Curve (AUC):\", metrics.roc_auc_score(y_test, y_pred))\n",
        "print(\"Brier Score:\", metrics.brier_score_loss(y_test, y_pred))"
      ]
    },
    {
      "cell_type": "markdown",
      "metadata": {
        "id": "gm5d7menMdol"
      },
      "source": [
        "Compared to the default XGBoost parameters used in the prior \"All Features in Working Dataset - Evaluation using Train-Test Split\" section, the best model from the grid search resulted in a 5.8% increase in Recall (the metric chosen for scoring).\n",
        "*   Accuracy, F1-score, and Brier Score improved very slightly.\n",
        "*   Accuracy increased by 0.8%, the F1-score increased by 1.5%, and the Brier Score decreased by 0.8%.\n",
        "*   Precision and AUC decreased slightly by 3.1% and 2.3%, respectively.\n",
        "\n",
        "The best model found in the random search has the same values for 1 of the 6 parameters as the default model (i.e. min_child_weight = 1)."
      ]
    },
    {
      "cell_type": "markdown",
      "metadata": {
        "id": "joxQEDTQ_IOm"
      },
      "source": [
        "### 2.2 Grid Search with Cross Validation\n",
        "The random search above narrowed down the range for each hyperparameter. In this section, every combination of settings is defined."
      ]
    },
    {
      "cell_type": "code",
      "execution_count": null,
      "metadata": {
        "colab": {
          "base_uri": "https://localhost:8080/"
        },
        "id": "Ea7Vp_MD-1Dh",
        "outputId": "406418bd-9dd6-4fa6-b7b3-1e566c4a2e6f"
      },
      "outputs": [
        {
          "output_type": "stream",
          "name": "stdout",
          "text": [
            "Fitting 3 folds for each of 54 candidates, totalling 162 fits\n"
          ]
        },
        {
          "output_type": "execute_result",
          "data": {
            "text/plain": [
              "{'colsample_bytree': 0.8,\n",
              " 'gamma': 0.15,\n",
              " 'learning_rate': 0.01,\n",
              " 'max_depth': 40,\n",
              " 'min_child_weight': 1,\n",
              " 'n_estimators': 800,\n",
              " 'reg_alpha': 0.5,\n",
              " 'subsample': 0.7}"
            ]
          },
          "metadata": {},
          "execution_count": 4
        }
      ],
      "source": [
        "from sklearn.model_selection import GridSearchCV\n",
        "\n",
        "#Create the parameter grid based on the results of previous random search. This will try out 3 * 1 * 1 * 3 * 1 * 1 * 2 * 3 = 54 combinations of settings.\n",
        "param_grid = {'learning_rate': [0.01, 0.05, 0.1],\n",
        "               'min_child_weight': [1],\n",
        "               'max_depth': [40],\n",
        "               'gamma': [0.05, 0.1, 0.15],\n",
        "               'subsample': [0.7],\n",
        "               'colsample_bytree': [0.8],\n",
        "               'n_estimators': [800, 900],\n",
        "               'reg_alpha': [0.05, 0.1, 0.5]}\n",
        "\n",
        "#Create the base model to tune\n",
        "model = XGBClassifier(random_state=888)\n",
        "\n",
        "#Instantiate the grid search model\n",
        "grid_search = GridSearchCV(estimator = model, param_grid = param_grid, cv = 3, scoring = 'recall', n_jobs = -1, verbose = 2)\n",
        "\n",
        "#Fit the grid search model\n",
        "grid_search.fit(X_train, y_train)\n",
        "\n",
        "#View the best parameters from fitting the grid search (based on model with the best recall)\n",
        "grid_search.best_params_"
      ]
    },
    {
      "cell_type": "code",
      "execution_count": null,
      "metadata": {
        "colab": {
          "base_uri": "https://localhost:8080/"
        },
        "id": "9U_mq3VmBcTD",
        "outputId": "3fb31cf3-ab21-415e-e545-f3590c0193f7"
      },
      "outputs": [
        {
          "output_type": "stream",
          "name": "stdout",
          "text": [
            "Accuracy: 0.7846420323325635\n",
            "Precision: 0.8134556574923547\n",
            "Recall: 0.8918692372170998\n",
            "F1-score: 0.8508596561375449\n",
            "Area Under Curve (AUC): 0.7195895351206092\n",
            "Brier Score: 0.21535796766743648\n"
          ]
        }
      ],
      "source": [
        "#Evaluate performance of best model from grid search\n",
        "best = grid_search.best_estimator_\n",
        "y_pred=best.predict(X_test)\n",
        "\n",
        "print(\"Accuracy:\", metrics.accuracy_score(y_test, y_pred))\n",
        "print(\"Precision:\", metrics.precision_score(y_test, y_pred))\n",
        "print(\"Recall:\", metrics.recall_score(y_test, y_pred))\n",
        "print(\"F1-score:\", metrics.f1_score(y_test, y_pred))\n",
        "print(\"Area Under Curve (AUC):\", metrics.roc_auc_score(y_test, y_pred))\n",
        "print(\"Brier Score:\", metrics.brier_score_loss(y_test, y_pred))"
      ]
    },
    {
      "cell_type": "markdown",
      "metadata": {
        "id": "cfXclwtMUzVk"
      },
      "source": [
        "Compared to the default XGBoost parameters used in the prior \"All Features in Working Dataset - Evaluation using Train-Test Split\" section, the best model from the random search resulted in a 11.2% increase in Recall (the metric chosen for scoring).\n",
        "*   Accuracy, F1-score, and Brier Score also improved.\n",
        "*   Accuracy increased by 2.7%, the F1-score increased by 3.5%, and the Brier Score decreased by 2.\\%.\n",
        "*   Precision and AUC decreased by 4.3% and 2.5%, respectively."
      ]
    },
    {
      "cell_type": "markdown",
      "metadata": {
        "id": "FU8T_RVC5Hab"
      },
      "source": [
        "# 3. All Features in Working Dataset, Using Parameters from Grid Search - Evaluation using Repeated 10-fold Cross Validation"
      ]
    },
    {
      "cell_type": "code",
      "execution_count": null,
      "metadata": {
        "id": "oxghPk-35Haj"
      },
      "outputs": [],
      "source": [
        "X = df.drop(['Worse_MH'],axis=1)\n",
        "y = df['Worse_MH']"
      ]
    },
    {
      "cell_type": "code",
      "execution_count": null,
      "metadata": {
        "colab": {
          "base_uri": "https://localhost:8080/"
        },
        "id": "UIkjlOBt5Hak",
        "outputId": "628f3cb1-0074-46ac-d8f2-5a7157bc7288"
      },
      "outputs": [
        {
          "output_type": "stream",
          "name": "stdout",
          "text": [
            "Accuracy: 0.7620916458423114\n",
            "Precision: 0.8182458055013232\n",
            "Recall: 0.8415903686868401\n",
            "F1-score: 0.8297102380678496\n",
            "Area Under Curve (AUC): 0.7138687774170133\n",
            "Brier Score: 0.2379083541576887\n",
            "Execution time in seconds: 237.32520521553354\n"
          ]
        }
      ],
      "source": [
        "from sklearn.model_selection import RepeatedStratifiedKFold\n",
        "\n",
        "#Set cross-validation to 10-folds, repeated 3 times\n",
        "folds = 10\n",
        "repeats = 3\n",
        "rkf = RepeatedStratifiedKFold(n_splits=folds, n_repeats=repeats, random_state=888)\n",
        "\n",
        "#XGBoost classification model\n",
        "model = XGBClassifier(colsample_bytree=0.8, gamma=0.15, learning_rate=0.01, max_depth=40, min_child_weight=1, n_estimators=800, reg_alpha=0.5, subsample=0.7, random_state=888)\n",
        "\n",
        "#Performance metrics\n",
        "accuracy = precision = recall = f1 = auc = brier = ex_time = 0\n",
        "\n",
        "for train_index, test_index in rkf.split(X, y):\n",
        "  X_train, X_test = X.iloc[train_index], X.iloc[test_index]\n",
        "  y_train, y_test = y.iloc[train_index], y.iloc[test_index]\n",
        "\n",
        "  #Apply Synthetic Minority Oversampling Technique (SMOTE) to training set to correct class imbalance\n",
        "  smote = SMOTE(random_state = 888)\n",
        "  X_train, y_train = smote.fit_resample(X_train, y_train)\n",
        "\n",
        "  t1 = time.perf_counter() #time counter start\n",
        "\n",
        "  model.fit(X_train, y_train)\n",
        "  y_pred=model.predict(X_test)\n",
        "\n",
        "  t2 = time.perf_counter() #time counter ends\n",
        "\n",
        "  accuracy = accuracy + metrics.accuracy_score(y_test, y_pred)\n",
        "  precision = precision + metrics.precision_score(y_test, y_pred)\n",
        "  recall = recall + metrics.recall_score(y_test, y_pred)\n",
        "  f1 = f1 + metrics.f1_score(y_test, y_pred)\n",
        "  auc = auc + metrics.roc_auc_score(y_test, y_pred)\n",
        "  brier = brier + metrics.brier_score_loss(y_test, y_pred)\n",
        "  ex_time = ex_time + t2-t1\n",
        "\n",
        "#Save results into dictionary\n",
        "xgb_all_tuned = {'Accuracy':accuracy/(folds*repeats), 'Precision':precision/(folds*repeats),'Recall':recall/(folds*repeats),\\\n",
        "          'F1-Score':f1/(folds*repeats),'AUC':auc/(folds*repeats),'Brier Score':brier/(folds*repeats),'Execution Time (sec)':ex_time/(folds*repeats)}\n",
        "\n",
        "#Evaluation of XGBoost classification model\n",
        "print(\"Accuracy:\", accuracy/(folds*repeats))\n",
        "print(\"Precision:\", precision/(folds*repeats))\n",
        "print(\"Recall:\", recall/(folds*repeats))\n",
        "print(\"F1-score:\", f1/(folds*repeats))\n",
        "print(\"Area Under Curve (AUC):\", auc/(folds*repeats))\n",
        "print(\"Brier Score:\", brier/(folds*repeats))\n",
        "print('Execution time in seconds:', ex_time/(folds*repeats))"
      ]
    },
    {
      "cell_type": "markdown",
      "metadata": {
        "id": "sJ0GaV2p_-_p"
      },
      "source": [
        "# 4A. Selected Features - Filter Method"
      ]
    },
    {
      "cell_type": "markdown",
      "metadata": {
        "id": "jDNqtF89m3xB"
      },
      "source": [
        "## 4A.1 Top Features Ranked by Importance"
      ]
    },
    {
      "cell_type": "code",
      "execution_count": null,
      "metadata": {
        "id": "lTH62GKeQaii"
      },
      "outputs": [],
      "source": [
        "#Identify top features based on model above\n",
        "feature_names = df.drop(['Worse_MH'],axis=1).columns\n",
        "\n",
        "feature_imp = pd.Series(model.feature_importances_,index=feature_names).sort_values(ascending=False)"
      ]
    },
    {
      "cell_type": "code",
      "execution_count": null,
      "metadata": {
        "id": "K0kI7wzsBz8b",
        "colab": {
          "base_uri": "https://localhost:8080/",
          "height": 898
        },
        "outputId": "9d920665-fdc4-4849-a50b-5086291504af"
      },
      "outputs": [
        {
          "output_type": "display_data",
          "data": {
            "text/plain": [
              "<Figure size 1080x1080 with 1 Axes>"
            ],
            "image/png": "[encoded data removed]"
          },
          "metadata": {}
        }
      ],
      "source": [
        "#Plot features in terms of importance\n",
        "import seaborn as sns\n",
        "\n",
        "%matplotlib inline\n",
        "# Creating a bar plot\n",
        "sns.set(rc = {'figure.figsize':(15,15)})\n",
        "sns.barplot(x=feature_imp, y=feature_imp.index)\n",
        "# Add labels to your graph\n",
        "plt.xlabel('Feature Importance Score')\n",
        "plt.ylabel('Features')\n",
        "plt.title(\"Visualizing Important Features\")\n",
        "plt.show()"
      ]
    },
    {
      "cell_type": "markdown",
      "source": [
        "After the top 21 features, the importance of the remaining features tapers off at a steady rate."
      ],
      "metadata": {
        "id": "fozIM--Q-LwC"
      }
    },
    {
      "cell_type": "markdown",
      "metadata": {
        "id": "8GQ7eAJts4XL"
      },
      "source": [
        "## 4A.2 Top 1 to 21 Features - Filter Method\n",
        "Based on the bar graph above, it was decided to build XGBoost models using only the top 1 to 21 features to compare performance."
      ]
    },
    {
      "cell_type": "code",
      "execution_count": null,
      "metadata": {
        "id": "0jcbKYH2HVd7"
      },
      "outputs": [],
      "source": [
        "#Build classification model using 1 to 21 of the top features and compare performance on Recall\n",
        "\n",
        "recall_test = []\n",
        "\n",
        "for n in range(1, 22):\n",
        "  #Obtain names of top n variables\n",
        "  top = feature_imp[:n].index\n",
        "\n",
        "  #Split dataframe, using 80% for training and 20% for testing\n",
        "  #Only select top n variables for X\n",
        "  X = df.loc[:,top]\n",
        "  y = df['Worse_MH']\n",
        "  X_train, X_test, y_train, y_test = train_test_split(X, y, test_size=0.2, random_state=888, stratify=y)\n",
        "\n",
        "  #Apply Synthetic Minority Oversampling Technique (SMOTE) to training set to correct class imbalance\n",
        "  smote = SMOTE(random_state = 888)\n",
        "  X_train, y_train = smote.fit_resample(X_train, y_train)\n",
        "\n",
        "  #XGBoost classification model, using the parameters identified during hyperparameter tuning\n",
        "  model = XGBClassifier(colsample_bytree=0.8, gamma=0.15, learning_rate=0.01, max_depth=40, min_child_weight=1, n_estimators=800, reg_alpha=0.5, subsample=0.7, random_state=888)\n",
        "  model.fit(X_train, y_train)\n",
        "  y_pred=model.predict(X_test)\n",
        "\n",
        "  #Save results into list\n",
        "  recall_test.append(metrics.recall_score(y_test, y_pred))"
      ]
    },
    {
      "cell_type": "code",
      "execution_count": null,
      "metadata": {
        "colab": {
          "base_uri": "https://localhost:8080/",
          "height": 285
        },
        "id": "DihJZArvw_eH",
        "outputId": "63172c71-c9b5-432a-f76f-d50133116424"
      },
      "outputs": [
        {
          "output_type": "display_data",
          "data": {
            "text/plain": [
              "<Figure size 432x288 with 1 Axes>"
            ],
            "image/png": "[encoded data removed]"
          },
          "metadata": {
            "needs_background": "light"
          }
        }
      ],
      "source": [
        "#Plot recall scores against number of features used\n",
        "plt.plot(range(1,22), recall_test, marker='o')\n",
        "plt.ylabel('Recall Score')\n",
        "plt.xlabel('Number of Features')\n",
        "plt.show()"
      ]
    },
    {
      "cell_type": "markdown",
      "metadata": {
        "id": "4fD6ecliZ4fO"
      },
      "source": [
        "Based on the plot above, it appears that model performance is unstable when less than 6 features are used, and then Recall experiences a sharp decline after 14 features are used.\n",
        "\n"
      ]
    },
    {
      "cell_type": "markdown",
      "metadata": {
        "id": "asxAnAY_WvIG"
      },
      "source": [
        "## 4A.3 Top 6 Features, Filter Method - Evaluation using Repeated 10-fold Cross Validation\n",
        "Based on the results above, it was decided to build a XGBoost model using the top 6 features."
      ]
    },
    {
      "cell_type": "code",
      "execution_count": null,
      "metadata": {
        "id": "04Dt9u07WvIQ"
      },
      "outputs": [],
      "source": [
        "#Obtain names of top 6 variables\n",
        "top_six = feature_imp[:6].index\n",
        "top_six\n",
        "\n",
        "#Only select top 11 variables for X\n",
        "X = df.loc[:,top_six]\n",
        "y = df['Worse_MH']"
      ]
    },
    {
      "cell_type": "code",
      "execution_count": null,
      "metadata": {
        "colab": {
          "base_uri": "https://localhost:8080/"
        },
        "id": "lKxGcX4HaZc4",
        "outputId": "b78af4ab-106a-44fc-bff7-fc022ff96e51"
      },
      "outputs": [
        {
          "output_type": "stream",
          "name": "stdout",
          "text": [
            "Accuracy: 0.7585104237406101\n",
            "Precision: 0.8357421156625889\n",
            "Recall: 0.808697219612542\n",
            "F1-score: 0.8215101609705653\n",
            "Area Under Curve (AUC): 0.7280653692373165\n",
            "Brier Score: 0.2414895762593898\n",
            "Execution time in seconds: 10.361842602833105\n"
          ]
        }
      ],
      "source": [
        "#Set cross-validation to 10-folds, repeated 3 times\n",
        "folds = 10\n",
        "repeats = 3\n",
        "rkf = RepeatedStratifiedKFold(n_splits=folds, n_repeats=repeats, random_state=888)\n",
        "\n",
        "#XGBoost classification model, using the parameters identified during hyperparameter tuning\n",
        "model = XGBClassifier(colsample_bytree=0.8, gamma=0.15, learning_rate=0.01, max_depth=40, min_child_weight=1, n_estimators=800, reg_alpha=0.5, subsample=0.7, random_state=888)\n",
        "\n",
        "#Performance metrics\n",
        "accuracy = precision = recall = f1 = auc = brier = ex_time = 0\n",
        "\n",
        "for train_index, test_index in rkf.split(X, y):\n",
        "  X_train, X_test = X.iloc[train_index], X.iloc[test_index]\n",
        "  y_train, y_test = y.iloc[train_index], y.iloc[test_index]\n",
        "\n",
        "  #Apply Synthetic Minority Oversampling Technique (SMOTE) to training set to correct class imbalance\n",
        "  smote = SMOTE(random_state = 888)\n",
        "  X_train, y_train = smote.fit_resample(X_train, y_train)\n",
        "\n",
        "  t1 = time.perf_counter() #time counter start\n",
        "\n",
        "  model.fit(X_train, y_train)\n",
        "  y_pred=model.predict(X_test)\n",
        "\n",
        "  t2 = time.perf_counter() #time counter ends\n",
        "\n",
        "  accuracy = accuracy + metrics.accuracy_score(y_test, y_pred)\n",
        "  precision = precision + metrics.precision_score(y_test, y_pred)\n",
        "  recall = recall + metrics.recall_score(y_test, y_pred)\n",
        "  f1 = f1 + metrics.f1_score(y_test, y_pred)\n",
        "  auc = auc + metrics.roc_auc_score(y_test, y_pred)\n",
        "  brier = brier + metrics.brier_score_loss(y_test, y_pred)\n",
        "  ex_time = ex_time + t2-t1\n",
        "\n",
        "#Save results into dictionary\n",
        "xgb_six_features_filter = {'Accuracy':accuracy/(folds*repeats), 'Precision':precision/(folds*repeats),'Recall':recall/(folds*repeats),\\\n",
        "          'F1-Score':f1/(folds*repeats),'AUC':auc/(folds*repeats),'Brier Score':brier/(folds*repeats),'Execution Time (sec)':ex_time/(folds*repeats)}\n",
        "\n",
        "#Evaluation of XGBoost classification model\n",
        "print(\"Accuracy:\", accuracy/(folds*repeats))\n",
        "print(\"Precision:\", precision/(folds*repeats))\n",
        "print(\"Recall:\", recall/(folds*repeats))\n",
        "print(\"F1-score:\", f1/(folds*repeats))\n",
        "print(\"Area Under Curve (AUC):\", auc/(folds*repeats))\n",
        "print(\"Brier Score:\", brier/(folds*repeats))\n",
        "print('Execution time in seconds:', ex_time/(folds*repeats))"
      ]
    },
    {
      "cell_type": "markdown",
      "source": [
        "This model performed slightly better than the base model (section 1) but not as well as the tuned model using all features."
      ],
      "metadata": {
        "id": "Kw3v97BqJjmC"
      }
    },
    {
      "cell_type": "markdown",
      "metadata": {
        "id": "-BLzkAIPL13c"
      },
      "source": [
        "# 4B. 6 Selected Features using Recursive Feature Elimination (RFE) - Wrapper Method\n",
        "Based on the results in previous sections, it was decided to try building a model using RFE with only 6 features.\n",
        "\n"
      ]
    },
    {
      "cell_type": "code",
      "execution_count": 8,
      "metadata": {
        "id": "AXhqkw7tMcG0"
      },
      "outputs": [],
      "source": [
        "X = df.drop(['Worse_MH'],axis=1)\n",
        "y = df['Worse_MH']"
      ]
    },
    {
      "cell_type": "code",
      "execution_count": null,
      "metadata": {
        "id": "ZOMEadLPMdzr"
      },
      "outputs": [],
      "source": [
        "#XGBoost classification model with RFE for 6 features\n",
        "\n",
        "#Set cross-validation to 5-folds, repeated 2 times.\n",
        "#Originally, the number of repeats was set to 3, and folds was set to 10, but execution runtime exceeded 5 hours before the decision was made to interrupt execution.\n",
        "#Thus, the number of folds and repeats was changed to reduce runtime.\n",
        "folds = 5\n",
        "repeats = 2\n",
        "rkf = RepeatedStratifiedKFold(n_splits=folds, n_repeats=repeats)\n",
        "\n",
        "#Performance metrics\n",
        "accuracy = precision = recall = f1 = auc = brier = ex_time = 0\n",
        "\n",
        "for train_index, test_index in rkf.split(X, y):\n",
        "  X_train, X_test = X.iloc[train_index], X.iloc[test_index]\n",
        "  y_train, y_test = y.iloc[train_index], y.iloc[test_index]\n",
        "\n",
        "  #Apply Synthetic Minority Oversampling Technique (SMOTE) to training set to correct class imbalance\n",
        "  smote = SMOTE()\n",
        "  X_train, y_train = smote.fit_resample(X_train, y_train)\n",
        "\n",
        "  t1 = time.perf_counter() #time counter start\n",
        "\n",
        "  #XGBoost classification model, using the parameters identified during hyperparameter tuning\n",
        "  model = XGBClassifier(colsample_bytree=0.8, gamma=0.15, learning_rate=0.01, max_depth=40, min_child_weight=1, n_estimators=800, reg_alpha=0.5, subsample=0.7)\n",
        "\n",
        "  #6 chosen as the number of features\n",
        "  rfe = RFE(estimator=model, n_features_to_select=6) \n",
        "  rfe_fitted = rfe.fit(X_train, y_train)\n",
        "\n",
        "  y_pred=rfe_fitted.predict(X_test)\n",
        "\n",
        "  t2 = time.perf_counter() #time counter ends\n",
        "\n",
        "  accuracy = accuracy + metrics.accuracy_score(y_test, y_pred)\n",
        "  precision = precision + metrics.precision_score(y_test, y_pred)\n",
        "  recall = recall + metrics.recall_score(y_test, y_pred)\n",
        "  f1 = f1 + metrics.f1_score(y_test, y_pred)\n",
        "  auc = auc + metrics.roc_auc_score(y_test, y_pred)\n",
        "  brier = brier + metrics.brier_score_loss(y_test, y_pred)\n",
        "  ex_time = ex_time + t2-t1\n",
        "\n",
        "#Save results into dictionary\n",
        "xgb_six_features_rfe = {'Accuracy':accuracy/(folds*repeats), 'Precision':precision/(folds*repeats),'Recall':recall/(folds*repeats),\\\n",
        "          'F1-Score':f1/(folds*repeats),'AUC':auc/(folds*repeats),'Brier Score':brier/(folds*repeats),'Execution Time (sec)':ex_time/(folds*repeats)}\n",
        "\n",
        "#Evaluation of XGBoost classification model\n",
        "print(\"Accuracy:\", accuracy/(folds*repeats))\n",
        "print(\"Precision:\", precision/(folds*repeats))\n",
        "print(\"Recall:\", recall/(folds*repeats))\n",
        "print(\"F1-score:\", f1/(folds*repeats))\n",
        "print(\"Area Under Curve (AUC):\", auc/(folds*repeats))\n",
        "print(\"Brier Score:\", brier/(folds*repeats))\n",
        "print('Execution time in seconds:', ex_time/(folds*repeats))"
      ]
    },
    {
      "cell_type": "markdown",
      "source": [
        "Even after the reduction in repeats and folds during cross-validation, the code did not finish executing after 8 hours, at which the execution was interrupted. Results were obtained for 4 out of 10 intended runs."
      ],
      "metadata": {
        "id": "OW1cpUE2FcYc"
      }
    },
    {
      "cell_type": "markdown",
      "metadata": {
        "id": "o-gMsEa1Xgno"
      },
      "source": [
        "# 5. Comparison of Models"
      ]
    },
    {
      "cell_type": "code",
      "execution_count": 6,
      "metadata": {
        "colab": {
          "base_uri": "https://localhost:8080/",
          "height": 143
        },
        "id": "F5_U_uSHXlO6",
        "outputId": "7dd16684-26cd-4acc-9bd7-58d8c58c112b"
      },
      "outputs": [
        {
          "output_type": "execute_result",
          "data": {
            "text/plain": [
              "                              Accuracy  Precision    Recall  F1-Score  \\\n",
              "XGBoost All Features - Base   0.758083   0.856354  0.779547  0.816147   \n",
              "XGBoost All Features - Tuned  0.762092   0.818246  0.841590  0.829710   \n",
              "XGBoost 6 Features - Filter   0.758510   0.835742  0.808697  0.821510   \n",
              "\n",
              "                                   AUC  Brier Score  Execution Time (sec)  \n",
              "XGBoost All Features - Base   0.745061     0.241917              3.000000  \n",
              "XGBoost All Features - Tuned  0.713869     0.237908            237.325205  \n",
              "XGBoost 6 Features - Filter   0.728065     0.241490             10.361843  "
            ],
            "text/html": [
              "\n",
              "  <div id=\"df-93541913-77ce-402e-8e60-3813a39dea21\">\n",
              "    <div class=\"colab-df-container\">\n",
              "      <div>\n",
              "<style scoped>\n",
              "    .dataframe tbody tr th:only-of-type {\n",
              "        vertical-align: middle;\n",
              "    }\n",
              "\n",
              "    .dataframe tbody tr th {\n",
              "        vertical-align: top;\n",
              "    }\n",
              "\n",
              "    .dataframe thead th {\n",
              "        text-align: right;\n",
              "    }\n",
              "</style>\n",
              "<table border=\"1\" class=\"dataframe\">\n",
              "  <thead>\n",
              "    <tr style=\"text-align: right;\">\n",
              "      <th></th>\n",
              "      <th>Accuracy</th>\n",
              "      <th>Precision</th>\n",
              "      <th>Recall</th>\n",
              "      <th>F1-Score</th>\n",
              "      <th>AUC</th>\n",
              "      <th>Brier Score</th>\n",
              "      <th>Execution Time (sec)</th>\n",
              "    </tr>\n",
              "  </thead>\n",
              "  <tbody>\n",
              "    <tr>\n",
              "      <th>XGBoost All Features - Base</th>\n",
              "      <td>0.758083</td>\n",
              "      <td>0.856354</td>\n",
              "      <td>0.779547</td>\n",
              "      <td>0.816147</td>\n",
              "      <td>0.745061</td>\n",
              "      <td>0.241917</td>\n",
              "      <td>3.000000</td>\n",
              "    </tr>\n",
              "    <tr>\n",
              "      <th>XGBoost All Features - Tuned</th>\n",
              "      <td>0.762092</td>\n",
              "      <td>0.818246</td>\n",
              "      <td>0.841590</td>\n",
              "      <td>0.829710</td>\n",
              "      <td>0.713869</td>\n",
              "      <td>0.237908</td>\n",
              "      <td>237.325205</td>\n",
              "    </tr>\n",
              "    <tr>\n",
              "      <th>XGBoost 6 Features - Filter</th>\n",
              "      <td>0.758510</td>\n",
              "      <td>0.835742</td>\n",
              "      <td>0.808697</td>\n",
              "      <td>0.821510</td>\n",
              "      <td>0.728065</td>\n",
              "      <td>0.241490</td>\n",
              "      <td>10.361843</td>\n",
              "    </tr>\n",
              "  </tbody>\n",
              "</table>\n",
              "</div>\n",
              "      <button class=\"colab-df-convert\" onclick=\"convertToInteractive('df-93541913-77ce-402e-8e60-3813a39dea21')\"\n",
              "              title=\"Convert this dataframe to an interactive table.\"\n",
              "              style=\"display:none;\">\n",
              "        \n",
              "  <svg xmlns=\"http://www.w3.org/2000/svg\" height=\"24px\"viewBox=\"0 0 24 24\"\n",
              "       width=\"24px\">\n",
              "    <path d=\"M0 0h24v24H0V0z\" fill=\"none\"/>\n",
              "    <path d=\"M18.56 5.44l.94 2.06.94-2.06 2.06-.94-2.06-.94-.94-2.06-.94 2.06-2.06.94zm-11 1L8.5 8.5l.94-2.06 2.06-.94-2.06-.94L8.5 2.5l-.94 2.06-2.06.94zm10 10l.94 2.06.94-2.06 2.06-.94-2.06-.94-.94-2.06-.94 2.06-2.06.94z\"/><path d=\"M17.41 7.96l-1.37-1.37c-.4-.4-.92-.59-1.43-.59-.52 0-1.04.2-1.43.59L10.3 9.45l-7.72 7.72c-.78.78-.78 2.05 0 2.83L4 21.41c.39.39.9.59 1.41.59.51 0 1.02-.2 1.41-.59l7.78-7.78 2.81-2.81c.8-.78.8-2.07 0-2.86zM5.41 20L4 18.59l7.72-7.72 1.47 1.35L5.41 20z\"/>\n",
              "  </svg>\n",
              "      </button>\n",
              "      \n",
              "  <style>\n",
              "    .colab-df-container {\n",
              "      display:flex;\n",
              "      flex-wrap:wrap;\n",
              "      gap: 12px;\n",
              "    }\n",
              "\n",
              "    .colab-df-convert {\n",
              "      background-color: #E8F0FE;\n",
              "      border: none;\n",
              "      border-radius: 50%;\n",
              "      cursor: pointer;\n",
              "      display: none;\n",
              "      fill: #1967D2;\n",
              "      height: 32px;\n",
              "      padding: 0 0 0 0;\n",
              "      width: 32px;\n",
              "    }\n",
              "\n",
              "    .colab-df-convert:hover {\n",
              "      background-color: #E2EBFA;\n",
              "      box-shadow: 0px 1px 2px rgba(60, 64, 67, 0.3), 0px 1px 3px 1px rgba(60, 64, 67, 0.15);\n",
              "      fill: #174EA6;\n",
              "    }\n",
              "\n",
              "    [theme=dark] .colab-df-convert {\n",
              "      background-color: #3B4455;\n",
              "      fill: #D2E3FC;\n",
              "    }\n",
              "\n",
              "    [theme=dark] .colab-df-convert:hover {\n",
              "      background-color: #434B5C;\n",
              "      box-shadow: 0px 1px 3px 1px rgba(0, 0, 0, 0.15);\n",
              "      filter: drop-shadow(0px 1px 2px rgba(0, 0, 0, 0.3));\n",
              "      fill: #FFFFFF;\n",
              "    }\n",
              "  </style>\n",
              "\n",
              "      <script>\n",
              "        const buttonEl =\n",
              "          document.querySelector('#df-93541913-77ce-402e-8e60-3813a39dea21 button.colab-df-convert');\n",
              "        buttonEl.style.display =\n",
              "          google.colab.kernel.accessAllowed ? 'block' : 'none';\n",
              "\n",
              "        async function convertToInteractive(key) {\n",
              "          const element = document.querySelector('#df-93541913-77ce-402e-8e60-3813a39dea21');\n",
              "          const dataTable =\n",
              "            await google.colab.kernel.invokeFunction('convertToInteractive',\n",
              "                                                     [key], {});\n",
              "          if (!dataTable) return;\n",
              "\n",
              "          const docLinkHtml = 'Like what you see? Visit the ' +\n",
              "            '<a target=\"_blank\" href=https://colab.research.google.com/notebooks/data_table.ipynb>data table notebook</a>'\n",
              "            + ' to learn more about interactive tables.';\n",
              "          element.innerHTML = '';\n",
              "          dataTable['output_type'] = 'display_data';\n",
              "          await google.colab.output.renderOutput(dataTable, element);\n",
              "          const docLink = document.createElement('div');\n",
              "          docLink.innerHTML = docLinkHtml;\n",
              "          element.appendChild(docLink);\n",
              "        }\n",
              "      </script>\n",
              "    </div>\n",
              "  </div>\n",
              "  "
            ]
          },
          "metadata": {},
          "execution_count": 6
        }
      ],
      "source": [
        "#Combine performance metrics for all models into one dataframe\n",
        "comparison = pd.DataFrame([xgb_all_base, xgb_all_tuned, xgb_six_features_filter], index=['XGBoost All Features - Base','XGBoost All Features - Tuned','XGBoost 6 Features - Filter'])\n",
        "comparison"
      ]
    },
    {
      "cell_type": "markdown",
      "metadata": {
        "id": "gsxLJXpE85p9"
      },
      "source": [
        "'XGBoost All Features - Tuned', the XGBoost model using all features and the parameters identified during hyperparameter tuning, had the best Accuracy, Recall, F1-Score, and Brier Score. However, execution time was significantly greater at 237 seconds, but still considered reasonable."
      ]
    },
    {
      "cell_type": "markdown",
      "metadata": {
        "id": "_NNehIPfbl-s"
      },
      "source": [
        "# 6. Stability of Best Model by Varying k-folds for Cross Validation"
      ]
    },
    {
      "cell_type": "markdown",
      "metadata": {
        "id": "UB4q5YNU1wN8"
      },
      "source": [
        "The stability of the best model identified above was tested by performing repeated k-folds cross-validation, with values of k from 5 to 12, and 2 repeats.\n",
        "*   Originally, values of k from 3 to 15 were used, and the number of repeats was set to 3, but execution runtime exceeded 5 hours before the decision was made to interrupt execution. Thus, values of k and the number of repeats were then changed to reduce runtime."
      ]
    },
    {
      "cell_type": "code",
      "execution_count": 3,
      "metadata": {
        "id": "04-J0JugxZZa"
      },
      "outputs": [],
      "source": [
        "X = df.drop(['Worse_MH'],axis=1)\n",
        "y = df['Worse_MH']"
      ]
    },
    {
      "cell_type": "code",
      "execution_count": 4,
      "metadata": {
        "colab": {
          "base_uri": "https://localhost:8080/",
          "height": 296
        },
        "id": "d9QaiTshb7V_",
        "outputId": "b0eb3a67-0932-4fcc-d745-0f62cf393b4d"
      },
      "outputs": [
        {
          "output_type": "display_data",
          "data": {
            "text/plain": [
              "<Figure size 432x288 with 1 Axes>"
            ],
            "image/png": "[encoded data removed]"
          },
          "metadata": {
            "needs_background": "light"
          }
        },
        {
          "output_type": "stream",
          "name": "stdout",
          "text": [
            "Range of Recall Scores: 0.4652632254015798\n"
          ]
        }
      ],
      "source": [
        "recall_test = []\n",
        "\n",
        "for k in range(5, 13):\n",
        "  #Set cross-validation to k-folds, repeated 2 times\n",
        "  repeats = 2\n",
        "  rkf = RepeatedStratifiedKFold(n_splits=k, n_repeats=repeats)\n",
        "\n",
        "  #Best XGBoost classification model identified in section 5, 'XGBoost All Features - Tuned'\n",
        "  model = XGBClassifier(colsample_bytree=0.8, gamma=0.15, learning_rate=0.01, max_depth=40, min_child_weight=1, n_estimators=800, reg_alpha=0.5, subsample=0.7)\n",
        "\n",
        "  #Performance metrics\n",
        "  recall = 0\n",
        "\n",
        "  for train_index, test_index in rkf.split(X, y):\n",
        "    X_train, X_test = X.iloc[train_index], X.iloc[test_index]\n",
        "    y_train, y_test = y.iloc[train_index], y.iloc[test_index]\n",
        "\n",
        "    #Apply Synthetic Minority Oversampling Technique (SMOTE) to training set to correct class imbalance\n",
        "    smote = SMOTE()\n",
        "    X_train, y_train = smote.fit_resample(X_train, y_train)\n",
        "\n",
        "    model.fit(X_train, y_train)\n",
        "    y_pred=model.predict(X_test)\n",
        "\n",
        "    recall = recall + metrics.recall_score(y_test, y_pred)\n",
        "\n",
        "  #Calculate average recall, append to list\n",
        "  recall_test.append(recall/(k*repeats))\n",
        "\n",
        "#Plot recall scores against number of folds used\n",
        "plt.plot(range(5, 13), recall_test, marker='o')\n",
        "plt.ylabel('Recall Score')\n",
        "plt.xlabel('Number of Folds')\n",
        "plt.show()\n",
        "\n",
        "print(\"Range of Recall Scores:\", (max(recall_test)-min(recall_test))*100)"
      ]
    },
    {
      "cell_type": "markdown",
      "metadata": {
        "id": "5VceQ5ad4R0A"
      },
      "source": [
        "The model appears to be quite stable, with Recall ranging by less than 0.5%."
      ]
    }
  ],
  "metadata": {
    "colab": {
      "name": "6. XGBoost Classification Models.ipynb",
      "provenance": [],
      "collapsed_sections": [
        "ofVkrVUQdzpi",
        "g9TAizYxQy3G",
        "duYTXmuG_p4u",
        "zu3WG9hH-_vw",
        "joxQEDTQ_IOm",
        "FU8T_RVC5Hab",
        "sJ0GaV2p_-_p",
        "jDNqtF89m3xB",
        "8GQ7eAJts4XL",
        "asxAnAY_WvIG",
        "-BLzkAIPL13c"
      ],
      "authorship_tag": "ABX9TyMm2sroS9mEYwHpRO8Q+BHI",
      "include_colab_link": true
    },
    "kernelspec": {
      "display_name": "Python 3",
      "name": "python3"
    },
    "language_info": {
      "name": "python"
    }
  },
  "nbformat": 4,
  "nbformat_minor": 0
}