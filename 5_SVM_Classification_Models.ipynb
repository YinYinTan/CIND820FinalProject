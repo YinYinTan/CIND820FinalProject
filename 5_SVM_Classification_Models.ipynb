{
  "cells": [
    {
      "cell_type": "markdown",
      "metadata": {
        "id": "view-in-github",
        "colab_type": "text"
      },
      "source": [
        "<a href=\"https://colab.research.google.com/github/YinYinTan/CIND820FinalProject/blob/main/5_SVM_Classification_Models.ipynb\" target=\"_parent\"><img src=\"https://colab.research.google.com/assets/colab-badge.svg\" alt=\"Open In Colab\"/></a>"
      ]
    },
    {
      "cell_type": "markdown",
      "metadata": {
        "id": "ofVkrVUQdzpi"
      },
      "source": [
        "# Support Vector Machine (SVM) Classification Models"
      ]
    },
    {
      "cell_type": "code",
      "execution_count": null,
      "metadata": {
        "id": "qULcocLREKTX"
      },
      "outputs": [],
      "source": [
        "import pandas as pd\n",
        "import numpy as np\n",
        "from imblearn.over_sampling import SMOTE\n",
        "from sklearn import svm\n",
        "from sklearn import metrics\n",
        "from sklearn.model_selection import RepeatedStratifiedKFold\n",
        "import matplotlib.pyplot as plt\n",
        "from sklearn.feature_selection import RFE\n",
        "import time"
      ]
    },
    {
      "cell_type": "code",
      "execution_count": null,
      "metadata": {
        "id": "x2NItT3gdNOp"
      },
      "outputs": [],
      "source": [
        "#Read file\n",
        "df = pd.read_csv('3a. Working Dataset.csv', index_col=None)"
      ]
    },
    {
      "cell_type": "markdown",
      "metadata": {
        "id": "g9TAizYxQy3G"
      },
      "source": [
        "# 1. All Features in Working Dataset - Evaluation using Train-Test Split"
      ]
    },
    {
      "cell_type": "code",
      "execution_count": null,
      "metadata": {
        "id": "dmarvx_-MKaI"
      },
      "outputs": [],
      "source": [
        "#Split dataframe, using 80% for training and 20% for testing\n",
        "from sklearn.model_selection import train_test_split\n",
        "\n",
        "X = df.drop(['Worse_MH'],axis=1)\n",
        "y = df['Worse_MH']\n",
        "\n",
        "X_train, X_test, y_train, y_test = train_test_split(X, y, test_size=0.2, random_state=888, stratify=y)"
      ]
    },
    {
      "cell_type": "code",
      "execution_count": null,
      "metadata": {
        "colab": {
          "base_uri": "https://localhost:8080/"
        },
        "id": "fbEvfWsxEYPq",
        "outputId": "f978bd9b-c923-4f14-edcb-e0d457ea4dd6"
      },
      "outputs": [
        {
          "output_type": "stream",
          "name": "stdout",
          "text": [
            "Accuracy: 0.7673210161662818\n",
            "Precision: 0.8378956372968349\n",
            "Recall: 0.8210393964794636\n",
            "F1-score: 0.8293818797629128\n",
            "Area Under Curve (AUC): 0.734731201022663\n",
            "Brier Score: 0.23267898383371824\n",
            "Execution time in seconds: 38\n"
          ]
        }
      ],
      "source": [
        "#Apply Synthetic Minority Oversampling Technique (SMOTE) to training set to correct class imbalance\n",
        "smote = SMOTE(random_state = 888)\n",
        "X_train, y_train = smote.fit_resample(X_train, y_train)\n",
        "\n",
        "#SVM classification model\n",
        "\n",
        "t1 = time.perf_counter() #time counter start\n",
        "\n",
        "model = svm.SVC(random_state=888)\n",
        "model.fit(X_train, y_train)\n",
        "y_pred=model.predict(X_test)\n",
        "\n",
        "t2 = time.perf_counter() #time counter ends\n",
        "\n",
        "#Save results into dictionary\n",
        "svm_all_base = {'Accuracy':metrics.accuracy_score(y_test, y_pred), 'Precision':metrics.precision_score(y_test, y_pred),'Recall':metrics.recall_score(y_test, y_pred),\\\n",
        "          'F1-Score':metrics.f1_score(y_test, y_pred),'AUC':metrics.roc_auc_score(y_test, y_pred),'Brier Score':metrics.brier_score_loss(y_test, y_pred),'Execution Time (sec)':int(t2-t1)}\n",
        "\n",
        "#Evaluation of random forest classification model\n",
        "print(\"Accuracy:\", metrics.accuracy_score(y_test, y_pred))\n",
        "print(\"Precision:\", metrics.precision_score(y_test, y_pred))\n",
        "print(\"Recall:\", metrics.recall_score(y_test, y_pred))\n",
        "print(\"F1-score:\", metrics.f1_score(y_test, y_pred))\n",
        "print(\"Area Under Curve (AUC):\", metrics.roc_auc_score(y_test, y_pred))\n",
        "print(\"Brier Score:\", metrics.brier_score_loss(y_test, y_pred))\n",
        "print('Execution time in seconds:', int(t2-t1))"
      ]
    },
    {
      "cell_type": "markdown",
      "metadata": {
        "id": "duYTXmuG_p4u"
      },
      "source": [
        "# 2. All Features in Working Dataset - Hyperparameter Tuning\n",
        "In this section, a grid of hyperparameter ranges will be defined, and where k-fold cross validation will be performed with all combinations."
      ]
    },
    {
      "cell_type": "code",
      "execution_count": null,
      "metadata": {
        "colab": {
          "base_uri": "https://localhost:8080/"
        },
        "id": "VlKu7C3k5YdK",
        "outputId": "b4e39d82-c035-400d-ddbc-9718412e8723"
      },
      "outputs": [
        {
          "output_type": "stream",
          "name": "stdout",
          "text": [
            "Parameters currently in use:\n",
            "\n",
            "{'C': 1.0,\n",
            " 'break_ties': False,\n",
            " 'cache_size': 200,\n",
            " 'class_weight': None,\n",
            " 'coef0': 0.0,\n",
            " 'decision_function_shape': 'ovr',\n",
            " 'degree': 3,\n",
            " 'gamma': 'scale',\n",
            " 'kernel': 'rbf',\n",
            " 'max_iter': -1,\n",
            " 'probability': False,\n",
            " 'random_state': 888,\n",
            " 'shrinking': True,\n",
            " 'tol': 0.001,\n",
            " 'verbose': False}\n"
          ]
        }
      ],
      "source": [
        "from pprint import pprint\n",
        "\n",
        "#Look at parameters currently used by the model\n",
        "print('Parameters currently in use:\\n')\n",
        "pprint(model.get_params())"
      ]
    },
    {
      "cell_type": "markdown",
      "metadata": {
        "id": "8V8XA7Gl50wK"
      },
      "source": [
        "The following set of hyperparameters will be adjusted to narrow down the best combination of parameters:\n",
        "*   C = Regularization parameter of the error term. The C value adds a penalty each time an item is misclassified. Thus, a low C value has more misclassified items, while a large C value has a plane with a very little margin that leads to overfitting.\n",
        "*   gamma = Coefficient of the RBF kernel. A non-linear kernel like the RBF kernel uses a gamma value. It determines the influence of training points on the decision boundary. If the gamma value is low, all training points have an influence on the decision line, and the radius of similarity is high. If the gamma value is high, the radius of similarity is low and influence is limited only to the nearby points. A larger gamma value, therefore, results in overfitting."
      ]
    },
    {
      "cell_type": "code",
      "execution_count": null,
      "metadata": {
        "colab": {
          "base_uri": "https://localhost:8080/"
        },
        "id": "Ea7Vp_MD-1Dh",
        "outputId": "e30b1c1f-e743-4c3d-fe0e-22702a28f711"
      },
      "outputs": [
        {
          "output_type": "stream",
          "name": "stdout",
          "text": [
            "Fitting 3 folds for each of 25 candidates, totalling 75 fits\n"
          ]
        },
        {
          "output_type": "execute_result",
          "data": {
            "text/plain": [
              "{'C': 1, 'gamma': 1}"
            ]
          },
          "metadata": {},
          "execution_count": 6
        }
      ],
      "source": [
        "from sklearn.model_selection import GridSearchCV\n",
        "\n",
        "#Create the parameter grid. This will try out 5 * 5 = 25 combinations of settings.\n",
        "param_grid = {\n",
        "    'C': [0.1, 1, 10, 100, 1000],\n",
        "    'gamma': [1, 0.1, 0.01, 0.001, 0.0001],\n",
        "}\n",
        "\n",
        "#Create the base model to tune\n",
        "model = svm.SVC(random_state=888)\n",
        "\n",
        "#Instantiate the grid search model\n",
        "grid_search = GridSearchCV(estimator = model, param_grid = param_grid, cv = 3, scoring = 'recall', n_jobs = -1, verbose = 2)\n",
        "\n",
        "#Fit the grid search model\n",
        "grid_search.fit(X_train, y_train)\n",
        "\n",
        "#View the best parameters from fitting the grid search (based on model with the best recall)\n",
        "grid_search.best_params_"
      ]
    },
    {
      "cell_type": "code",
      "execution_count": null,
      "metadata": {
        "colab": {
          "base_uri": "https://localhost:8080/"
        },
        "id": "9U_mq3VmBcTD",
        "outputId": "1828592f-e299-4b35-de66-4f3e86c23ac3"
      },
      "outputs": [
        {
          "output_type": "stream",
          "name": "stdout",
          "text": [
            "Accuracy: 0.6885103926096998\n",
            "Precision: 0.6894752102058568\n",
            "Recall: 0.9966471081307627\n",
            "F1-score: 0.8150814053127677\n",
            "Area Under Curve (AUC): 0.5015703073121346\n",
            "Brier Score: 0.31148960739030024\n"
          ]
        }
      ],
      "source": [
        "#Evaluate performance of best model from grid search\n",
        "best = grid_search.best_estimator_\n",
        "y_pred=best.predict(X_test)\n",
        "\n",
        "print(\"Accuracy:\", metrics.accuracy_score(y_test, y_pred))\n",
        "print(\"Precision:\", metrics.precision_score(y_test, y_pred))\n",
        "print(\"Recall:\", metrics.recall_score(y_test, y_pred))\n",
        "print(\"F1-score:\", metrics.f1_score(y_test, y_pred))\n",
        "print(\"Area Under Curve (AUC):\", metrics.roc_auc_score(y_test, y_pred))\n",
        "print(\"Brier Score:\", metrics.brier_score_loss(y_test, y_pred))"
      ]
    },
    {
      "cell_type": "markdown",
      "metadata": {
        "id": "gm5d7menMdol"
      },
      "source": [
        "Compared to the default SVC parameters used in the prior \"All Features in Working Dataset - Evaluation using Train-Test Split\" section, the best model from the grid search resulted in an 18% increase in Recall (the metric chosen for scoring).\n",
        "*   However, performance reduced for all other metrics. AUC was 23% lower, followed by Precision (15% lower), Accuracy (8% lower) and Brier Score (8% higher), and F1-score (1% lower).\n",
        "\n",
        "The best model found in the grid search has the same values for C as the default model (i.e. C = 1). Thus, the only parameter \"tuned\" was gamma."
      ]
    },
    {
      "cell_type": "code",
      "source": [
        "from sklearn.metrics import confusion_matrix\n",
        "print(confusion_matrix(y_test, y_pred))"
      ],
      "metadata": {
        "colab": {
          "base_uri": "https://localhost:8080/"
        },
        "id": "W6SJFBoEtiH9",
        "outputId": "5059476c-f962-4c6e-9ab1-df4a55c8af4b"
      },
      "execution_count": null,
      "outputs": [
        {
          "output_type": "stream",
          "name": "stdout",
          "text": [
            "[[   7 1071]\n",
            " [   8 2378]]\n"
          ]
        }
      ]
    },
    {
      "cell_type": "markdown",
      "metadata": {
        "id": "FU8T_RVC5Hab"
      },
      "source": [
        "# 3. All Features in Working Dataset, Using Parameters from Grid Search - Evaluation using Repeated 10-fold Cross Validation"
      ]
    },
    {
      "cell_type": "code",
      "execution_count": null,
      "metadata": {
        "id": "oxghPk-35Haj"
      },
      "outputs": [],
      "source": [
        "X = df.drop(['Worse_MH'],axis=1)\n",
        "y = df['Worse_MH']"
      ]
    },
    {
      "cell_type": "code",
      "execution_count": null,
      "metadata": {
        "colab": {
          "base_uri": "https://localhost:8080/"
        },
        "id": "UIkjlOBt5Hak",
        "outputId": "791bac23-f797-4fff-e0ba-754f6a17d907"
      },
      "outputs": [
        {
          "output_type": "stream",
          "name": "stdout",
          "text": [
            "Accuracy: 0.6867217550362031\n",
            "Precision: 0.6890722024539117\n",
            "Recall: 0.9934334512846189\n",
            "F1-score: 0.8137226958621465\n",
            "Area Under Curve (AUC): 0.5006746724573992\n",
            "Brier Score: 0.31327824496379697\n",
            "Execution time in seconds: 128.38463339133335\n"
          ]
        }
      ],
      "source": [
        "from sklearn.model_selection import RepeatedStratifiedKFold\n",
        "\n",
        "#Set cross-validation to 10-folds, repeated 3 times\n",
        "folds = 10\n",
        "repeats = 3\n",
        "rkf = RepeatedStratifiedKFold(n_splits=folds, n_repeats=repeats)\n",
        "\n",
        "#SVM classification model\n",
        "model = svm.SVC(C=1, gamma=1)\n",
        "\n",
        "#Performance metrics\n",
        "accuracy = precision = recall = f1 = auc = brier = ex_time = 0\n",
        "\n",
        "for train_index, test_index in rkf.split(X, y):\n",
        "  X_train, X_test = X.iloc[train_index], X.iloc[test_index]\n",
        "  y_train, y_test = y.iloc[train_index], y.iloc[test_index]\n",
        "\n",
        "  #Apply Synthetic Minority Oversampling Technique (SMOTE) to training set to correct class imbalance\n",
        "  smote = SMOTE()\n",
        "  X_train, y_train = smote.fit_resample(X_train, y_train)\n",
        "\n",
        "  t1 = time.perf_counter() #time counter start\n",
        "\n",
        "  model.fit(X_train, y_train)\n",
        "  y_pred=model.predict(X_test)\n",
        "\n",
        "  t2 = time.perf_counter() #time counter ends\n",
        "\n",
        "  accuracy = accuracy + metrics.accuracy_score(y_test, y_pred)\n",
        "  precision = precision + metrics.precision_score(y_test, y_pred)\n",
        "  recall = recall + metrics.recall_score(y_test, y_pred)\n",
        "  f1 = f1 + metrics.f1_score(y_test, y_pred)\n",
        "  auc = auc + metrics.roc_auc_score(y_test, y_pred)\n",
        "  brier = brier + metrics.brier_score_loss(y_test, y_pred)\n",
        "  ex_time = ex_time + t2-t1\n",
        "\n",
        "#Save results into dictionary\n",
        "svm_all_tuned = {'Accuracy':accuracy/(folds*repeats), 'Precision':precision/(folds*repeats),'Recall':recall/(folds*repeats),\\\n",
        "          'F1-Score':f1/(folds*repeats),'AUC':auc/(folds*repeats),'Brier Score':brier/(folds*repeats),'Execution Time (sec)':ex_time/(folds*repeats)}\n",
        "\n",
        "#Evaluation of SVM classification model\n",
        "print(\"Accuracy:\", accuracy/(folds*repeats))\n",
        "print(\"Precision:\", precision/(folds*repeats))\n",
        "print(\"Recall:\", recall/(folds*repeats))\n",
        "print(\"F1-score:\", f1/(folds*repeats))\n",
        "print(\"Area Under Curve (AUC):\", auc/(folds*repeats))\n",
        "print(\"Brier Score:\", brier/(folds*repeats))\n",
        "print('Execution time in seconds:', ex_time/(folds*repeats))"
      ]
    },
    {
      "cell_type": "markdown",
      "metadata": {
        "id": "sJ0GaV2p_-_p"
      },
      "source": [
        "# 4. Selected Features - Filter Method"
      ]
    },
    {
      "cell_type": "markdown",
      "metadata": {
        "id": "8GQ7eAJts4XL"
      },
      "source": [
        "## 4.1 Top 1 to 40 Features - Filter Method\n",
        "SVM models were built using the top 1 to 40 features to compare performance."
      ]
    },
    {
      "cell_type": "code",
      "execution_count": null,
      "metadata": {
        "id": "0jcbKYH2HVd7"
      },
      "outputs": [],
      "source": [
        "#Build classification model using 1 to 40 of the top features (based on correlation with target variable, identified during EDA), and compare performance on Recall\n",
        "\n",
        "top_forty = ['GEN_05', 'GEN_20', 'AGEDVG4', 'PPE_50E', 'PPE_50F', 'PPE_50C',\n",
        "       'PPE_50D', 'PPE_50B', 'PPE_30C', 'PPE_50A', 'PPE_30F', 'PPE_30E',\n",
        "       'ENVDVCON', 'PPE_30D', 'PPE_30H', 'PPE_40B', 'PPE_40A', 'PPE_30A',\n",
        "       'PPE_45I', 'PPE_40D', 'EMPDVGOC_5', 'PPE_30G', 'ENVDVTYP_1', 'ENV_30',\n",
        "       'PPE_40I', 'PPE_15C', 'PPE_15E', 'PPE_45A', 'EMPDVGOC_2', 'PPE_45B',\n",
        "       'ENVDVTYP_3', 'PPE_30B', 'PPE_40F', 'PPE_15F', 'GEODVGPR_30', 'PPE_40H',\n",
        "       'ENVDVGRW_30', 'EMP_10', 'ENVDVTYP_2', 'ENVDVTYP_6']\n",
        "\n",
        "recall_test = []\n",
        "\n",
        "for n in range(1, 41):\n",
        "  #Obtain names of top n variables\n",
        "  top = top_forty[:n]\n",
        "\n",
        "  #Split dataframe, using 80% for training and 20% for testing\n",
        "  #Only select top n variables for X\n",
        "  X = df[top]\n",
        "  y = df['Worse_MH']\n",
        "  X_train, X_test, y_train, y_test = train_test_split(X, y, test_size=0.2, random_state=888, stratify=y)\n",
        "\n",
        "  #Apply Synthetic Minority Oversampling Technique (SMOTE) to training set to correct class imbalance\n",
        "  smote = SMOTE(random_state = 888)\n",
        "  X_train, y_train = smote.fit_resample(X_train, y_train)\n",
        "\n",
        "  #SVM classification model, using the parameters identified during hyperparameter tuning\n",
        "  model = svm.SVC(C=1, gamma=1, random_state=888)\n",
        "  model.fit(X_train, y_train)\n",
        "  y_pred=model.predict(X_test)\n",
        "\n",
        "  #Save results into list\n",
        "  recall_test.append(metrics.recall_score(y_test, y_pred))"
      ]
    },
    {
      "cell_type": "code",
      "execution_count": null,
      "metadata": {
        "colab": {
          "base_uri": "https://localhost:8080/",
          "height": 278
        },
        "id": "DihJZArvw_eH",
        "outputId": "0da12126-3986-4703-f736-25b47cc5f831"
      },
      "outputs": [
        {
          "output_type": "display_data",
          "data": {
            "text/plain": [
              "<Figure size 432x288 with 1 Axes>"
            ],
            "image/png": "[encoded data removed]"
          },
          "metadata": {
            "needs_background": "light"
          }
        }
      ],
      "source": [
        "#Plot recall scores against number of features used\n",
        "plt.plot(range(1,41), recall_test, marker='o')\n",
        "plt.ylabel('Recall Score')\n",
        "plt.xlabel('Number of Features')\n",
        "plt.show()"
      ]
    },
    {
      "cell_type": "markdown",
      "metadata": {
        "id": "4fD6ecliZ4fO"
      },
      "source": [
        "Based on the plot above, it appears that model performance is more unstable when less than 6 features are used, and then performance increases thereafter, tapering off when about 25 features are used.\n",
        "\n"
      ]
    },
    {
      "cell_type": "code",
      "source": [
        "from sklearn.metrics import confusion_matrix\n",
        "print(confusion_matrix(y_test, y_pred))"
      ],
      "metadata": {
        "colab": {
          "base_uri": "https://localhost:8080/"
        },
        "id": "fP3A0wwkYMwk",
        "outputId": "c930f724-a348-4dcb-df76-8bb100c7beb8"
      },
      "execution_count": null,
      "outputs": [
        {
          "output_type": "stream",
          "name": "stdout",
          "text": [
            "[[   9 1069]\n",
            " [  16 2370]]\n"
          ]
        }
      ]
    },
    {
      "cell_type": "markdown",
      "metadata": {
        "id": "asxAnAY_WvIG"
      },
      "source": [
        "## 4.2 Top 25 Features, Filter Method - Evaluation using Repeated 10-fold Cross Validation\n",
        "Based on the results above, it was decided to build a SVM model using the top 25 features."
      ]
    },
    {
      "cell_type": "code",
      "execution_count": null,
      "metadata": {
        "id": "04Dt9u07WvIQ"
      },
      "outputs": [],
      "source": [
        "#Only select top 25 variables for X\n",
        "X = df.iloc[:,:25]\n",
        "y = df['Worse_MH']"
      ]
    },
    {
      "cell_type": "code",
      "execution_count": null,
      "metadata": {
        "colab": {
          "base_uri": "https://localhost:8080/"
        },
        "id": "lKxGcX4HaZc4",
        "outputId": "180e8eff-9d3e-4d53-993d-d9c0b8fd3a6f"
      },
      "outputs": [
        {
          "output_type": "stream",
          "name": "stdout",
          "text": [
            "Accuracy: 0.6143346724072065\n",
            "Precision: 0.7061777048513801\n",
            "Recall: 0.7536535598223041\n",
            "F1-score: 0.7291005212428068\n",
            "Area Under Curve (AUC): 0.5298261614819623\n",
            "Brier Score: 0.3856653275927935\n",
            "Execution time in seconds: 85.54859645826649\n"
          ]
        }
      ],
      "source": [
        "#Set cross-validation to 10-folds, repeated 3 times\n",
        "folds = 10\n",
        "repeats = 3\n",
        "rkf = RepeatedStratifiedKFold(n_splits=folds, n_repeats=repeats)\n",
        "\n",
        "#SVM classification model, using the parameters identified during hyperparameter tuning\n",
        "model = svm.SVC(C=1, gamma=1)\n",
        "\n",
        "#Performance metrics\n",
        "accuracy = precision = recall = f1 = auc = brier = ex_time = 0\n",
        "\n",
        "for train_index, test_index in rkf.split(X, y):\n",
        "  X_train, X_test = X.iloc[train_index], X.iloc[test_index]\n",
        "  y_train, y_test = y.iloc[train_index], y.iloc[test_index]\n",
        "\n",
        "  #Apply Synthetic Mifilnority Oversampling Technique (SMOTE) to training set to correct class imbalance\n",
        "  smote = SMOTE()\n",
        "  X_train, y_train = smote.fit_resample(X_train, y_train)\n",
        "\n",
        "  t1 = time.perf_counter() #time counter start\n",
        "\n",
        "  model.fit(X_train, y_train)\n",
        "  y_pred=model.predict(X_test)\n",
        "\n",
        "  t2 = time.perf_counter() #time counter ends\n",
        "\n",
        "  accuracy = accuracy + metrics.accuracy_score(y_test, y_pred)\n",
        "  precision = precision + metrics.precision_score(y_test, y_pred)\n",
        "  recall = recall + metrics.recall_score(y_test, y_pred)\n",
        "  f1 = f1 + metrics.f1_score(y_test, y_pred)\n",
        "  auc = auc + metrics.roc_auc_score(y_test, y_pred)\n",
        "  brier = brier + metrics.brier_score_loss(y_test, y_pred)\n",
        "  ex_time = ex_time + t2-t1\n",
        "\n",
        "#Save results into dictionary\n",
        "svm_25_features_tuned = {'Accuracy':accuracy/(folds*repeats), 'Precision':precision/(folds*repeats),'Recall':recall/(folds*repeats),\\\n",
        "          'F1-Score':f1/(folds*repeats),'AUC':auc/(folds*repeats),'Brier Score':brier/(folds*repeats),'Execution Time (sec)':ex_time/(folds*repeats)}\n",
        "\n",
        "#Evaluation of SVM classification model\n",
        "print(\"Accuracy:\", accuracy/(folds*repeats))\n",
        "print(\"Precision:\", precision/(folds*repeats))\n",
        "print(\"Recall:\", recall/(folds*repeats))\n",
        "print(\"F1-score:\", f1/(folds*repeats))\n",
        "print(\"Area Under Curve (AUC):\", auc/(folds*repeats))\n",
        "print(\"Brier Score:\", brier/(folds*repeats))\n",
        "print('Execution time in seconds:', ex_time/(folds*repeats))"
      ]
    },
    {
      "cell_type": "markdown",
      "metadata": {
        "id": "o-gMsEa1Xgno"
      },
      "source": [
        "# 5. Comparison of Models"
      ]
    },
    {
      "cell_type": "code",
      "execution_count": null,
      "metadata": {
        "colab": {
          "base_uri": "https://localhost:8080/",
          "height": 143
        },
        "id": "F5_U_uSHXlO6",
        "outputId": "a7c7c87a-bf97-473f-c16f-f075b6756131"
      },
      "outputs": [
        {
          "output_type": "execute_result",
          "data": {
            "text/plain": [
              "                          Accuracy  Precision    Recall  F1-Score       AUC  \\\n",
              "SVM All Features - Base   0.767321   0.837896  0.821039  0.829382  0.734731   \n",
              "SVM All Features - Tuned  0.686722   0.689072  0.993433  0.813723  0.500675   \n",
              "SVM 25 Features - Tuned   0.614335   0.706178  0.753654  0.729101  0.529826   \n",
              "\n",
              "                          Brier Score  Execution Time (sec)  \n",
              "SVM All Features - Base      0.232679             25.000000  \n",
              "SVM All Features - Tuned     0.313278            128.384633  \n",
              "SVM 25 Features - Tuned      0.385665             85.548596  "
            ],
            "text/html": [
              "\n",
              "  <div id=\"df-4f904023-2041-48d0-982b-ec63749df853\">\n",
              "    <div class=\"colab-df-container\">\n",
              "      <div>\n",
              "<style scoped>\n",
              "    .dataframe tbody tr th:only-of-type {\n",
              "        vertical-align: middle;\n",
              "    }\n",
              "\n",
              "    .dataframe tbody tr th {\n",
              "        vertical-align: top;\n",
              "    }\n",
              "\n",
              "    .dataframe thead th {\n",
              "        text-align: right;\n",
              "    }\n",
              "</style>\n",
              "<table border=\"1\" class=\"dataframe\">\n",
              "  <thead>\n",
              "    <tr style=\"text-align: right;\">\n",
              "      <th></th>\n",
              "      <th>Accuracy</th>\n",
              "      <th>Precision</th>\n",
              "      <th>Recall</th>\n",
              "      <th>F1-Score</th>\n",
              "      <th>AUC</th>\n",
              "      <th>Brier Score</th>\n",
              "      <th>Execution Time (sec)</th>\n",
              "    </tr>\n",
              "  </thead>\n",
              "  <tbody>\n",
              "    <tr>\n",
              "      <th>SVM All Features - Base</th>\n",
              "      <td>0.767321</td>\n",
              "      <td>0.837896</td>\n",
              "      <td>0.821039</td>\n",
              "      <td>0.829382</td>\n",
              "      <td>0.734731</td>\n",
              "      <td>0.232679</td>\n",
              "      <td>25.000000</td>\n",
              "    </tr>\n",
              "    <tr>\n",
              "      <th>SVM All Features - Tuned</th>\n",
              "      <td>0.686722</td>\n",
              "      <td>0.689072</td>\n",
              "      <td>0.993433</td>\n",
              "      <td>0.813723</td>\n",
              "      <td>0.500675</td>\n",
              "      <td>0.313278</td>\n",
              "      <td>128.384633</td>\n",
              "    </tr>\n",
              "    <tr>\n",
              "      <th>SVM 25 Features - Tuned</th>\n",
              "      <td>0.614335</td>\n",
              "      <td>0.706178</td>\n",
              "      <td>0.753654</td>\n",
              "      <td>0.729101</td>\n",
              "      <td>0.529826</td>\n",
              "      <td>0.385665</td>\n",
              "      <td>85.548596</td>\n",
              "    </tr>\n",
              "  </tbody>\n",
              "</table>\n",
              "</div>\n",
              "      <button class=\"colab-df-convert\" onclick=\"convertToInteractive('df-4f904023-2041-48d0-982b-ec63749df853')\"\n",
              "              title=\"Convert this dataframe to an interactive table.\"\n",
              "              style=\"display:none;\">\n",
              "        \n",
              "  <svg xmlns=\"http://www.w3.org/2000/svg\" height=\"24px\"viewBox=\"0 0 24 24\"\n",
              "       width=\"24px\">\n",
              "    <path d=\"M0 0h24v24H0V0z\" fill=\"none\"/>\n",
              "    <path d=\"M18.56 5.44l.94 2.06.94-2.06 2.06-.94-2.06-.94-.94-2.06-.94 2.06-2.06.94zm-11 1L8.5 8.5l.94-2.06 2.06-.94-2.06-.94L8.5 2.5l-.94 2.06-2.06.94zm10 10l.94 2.06.94-2.06 2.06-.94-2.06-.94-.94-2.06-.94 2.06-2.06.94z\"/><path d=\"M17.41 7.96l-1.37-1.37c-.4-.4-.92-.59-1.43-.59-.52 0-1.04.2-1.43.59L10.3 9.45l-7.72 7.72c-.78.78-.78 2.05 0 2.83L4 21.41c.39.39.9.59 1.41.59.51 0 1.02-.2 1.41-.59l7.78-7.78 2.81-2.81c.8-.78.8-2.07 0-2.86zM5.41 20L4 18.59l7.72-7.72 1.47 1.35L5.41 20z\"/>\n",
              "  </svg>\n",
              "      </button>\n",
              "      \n",
              "  <style>\n",
              "    .colab-df-container {\n",
              "      display:flex;\n",
              "      flex-wrap:wrap;\n",
              "      gap: 12px;\n",
              "    }\n",
              "\n",
              "    .colab-df-convert {\n",
              "      background-color: #E8F0FE;\n",
              "      border: none;\n",
              "      border-radius: 50%;\n",
              "      cursor: pointer;\n",
              "      display: none;\n",
              "      fill: #1967D2;\n",
              "      height: 32px;\n",
              "      padding: 0 0 0 0;\n",
              "      width: 32px;\n",
              "    }\n",
              "\n",
              "    .colab-df-convert:hover {\n",
              "      background-color: #E2EBFA;\n",
              "      box-shadow: 0px 1px 2px rgba(60, 64, 67, 0.3), 0px 1px 3px 1px rgba(60, 64, 67, 0.15);\n",
              "      fill: #174EA6;\n",
              "    }\n",
              "\n",
              "    [theme=dark] .colab-df-convert {\n",
              "      background-color: #3B4455;\n",
              "      fill: #D2E3FC;\n",
              "    }\n",
              "\n",
              "    [theme=dark] .colab-df-convert:hover {\n",
              "      background-color: #434B5C;\n",
              "      box-shadow: 0px 1px 3px 1px rgba(0, 0, 0, 0.15);\n",
              "      filter: drop-shadow(0px 1px 2px rgba(0, 0, 0, 0.3));\n",
              "      fill: #FFFFFF;\n",
              "    }\n",
              "  </style>\n",
              "\n",
              "      <script>\n",
              "        const buttonEl =\n",
              "          document.querySelector('#df-4f904023-2041-48d0-982b-ec63749df853 button.colab-df-convert');\n",
              "        buttonEl.style.display =\n",
              "          google.colab.kernel.accessAllowed ? 'block' : 'none';\n",
              "\n",
              "        async function convertToInteractive(key) {\n",
              "          const element = document.querySelector('#df-4f904023-2041-48d0-982b-ec63749df853');\n",
              "          const dataTable =\n",
              "            await google.colab.kernel.invokeFunction('convertToInteractive',\n",
              "                                                     [key], {});\n",
              "          if (!dataTable) return;\n",
              "\n",
              "          const docLinkHtml = 'Like what you see? Visit the ' +\n",
              "            '<a target=\"_blank\" href=https://colab.research.google.com/notebooks/data_table.ipynb>data table notebook</a>'\n",
              "            + ' to learn more about interactive tables.';\n",
              "          element.innerHTML = '';\n",
              "          dataTable['output_type'] = 'display_data';\n",
              "          await google.colab.output.renderOutput(dataTable, element);\n",
              "          const docLink = document.createElement('div');\n",
              "          docLink.innerHTML = docLinkHtml;\n",
              "          element.appendChild(docLink);\n",
              "        }\n",
              "      </script>\n",
              "    </div>\n",
              "  </div>\n",
              "  "
            ]
          },
          "metadata": {},
          "execution_count": 19
        }
      ],
      "source": [
        "#Combine performance metrics for all models into one dataframe\n",
        "comparison = pd.DataFrame([svm_all_base, svm_all_tuned, svm_25_features_tuned], index=['SVM All Features - Base','SVM All Features - Tuned','SVM 25 Features - Tuned'])\n",
        "comparison"
      ]
    },
    {
      "cell_type": "markdown",
      "metadata": {
        "id": "gsxLJXpE85p9"
      },
      "source": [
        "'SVM All Features - Tuned', the SVM model using all features and the parameters identified during hyperparameter tuning, had the best Recall with a reasonable execution time of 128 seconds."
      ]
    },
    {
      "cell_type": "markdown",
      "metadata": {
        "id": "_NNehIPfbl-s"
      },
      "source": [
        "# 6. Stability of Best Model by Varying k-folds for Cross Validation"
      ]
    },
    {
      "cell_type": "markdown",
      "metadata": {
        "id": "UB4q5YNU1wN8"
      },
      "source": [
        "The stability of the best model identified above was tested by performing repeated k-folds cross-validation, with values of k from 5 to 12, and 2 repeats.\n",
        "*   Originally, values of k from 3 to 15 were used, and the number of repeats was set to 3, but execution runtime exceeded 5 hours before the decision was made to interrupt execution. Thus, values of k and the number of repeats were then changed to reduce runtime.\n",
        "\n"
      ]
    },
    {
      "cell_type": "code",
      "execution_count": null,
      "metadata": {
        "id": "1TH4b1CYxQgi"
      },
      "outputs": [],
      "source": [
        "X = df.drop(['Worse_MH'],axis=1)\n",
        "y = df['Worse_MH']"
      ]
    },
    {
      "cell_type": "code",
      "execution_count": null,
      "metadata": {
        "id": "d9QaiTshb7V_",
        "colab": {
          "base_uri": "https://localhost:8080/",
          "height": 300
        },
        "outputId": "3c66a327-07a0-434b-fca0-b9f485ff7459"
      },
      "outputs": [
        {
          "output_type": "display_data",
          "data": {
            "text/plain": [
              "<Figure size 432x288 with 1 Axes>"
            ],
            "image/png": "[encoded data removed]"
          },
          "metadata": {
            "needs_background": "light"
          }
        },
        {
          "output_type": "stream",
          "name": "stdout",
          "text": [
            "Range of Recall Scores (percent): 0.09640938650455899\n"
          ]
        }
      ],
      "source": [
        "recall_test = []\n",
        "\n",
        "for k in range(5, 13):\n",
        "  #Set cross-validation to k-folds, repeated 2 times\n",
        "  repeats = 2\n",
        "  rkf = RepeatedStratifiedKFold(n_splits=k, n_repeats=repeats)\n",
        "\n",
        "  #Best SVM classification model identified in section 5, 'SVM All Features - Tuned'\n",
        "  model = svm.SVC(C=1, gamma=1)\n",
        "\n",
        "  #Performance metrics\n",
        "  recall = 0\n",
        "\n",
        "  for train_index, test_index in rkf.split(X, y):\n",
        "    X_train, X_test = X.iloc[train_index], X.iloc[test_index]\n",
        "    y_train, y_test = y.iloc[train_index], y.iloc[test_index]\n",
        "\n",
        "    #Apply Synthetic Minority Oversampling Technique (SMOTE) to training set to correct class imbalance\n",
        "    smote = SMOTE()\n",
        "    X_train, y_train = smote.fit_resample(X_train, y_train)\n",
        "\n",
        "    model.fit(X_train, y_train)\n",
        "    y_pred=model.predict(X_test)\n",
        "\n",
        "    recall = recall + metrics.recall_score(y_test, y_pred)\n",
        "\n",
        "  #Calculate average recall, append to list\n",
        "  recall_test.append(recall/(k*repeats))\n",
        "\n",
        "#Plot recall scores against number of folds used\n",
        "plt.plot(range(5, 13), recall_test, marker='o')\n",
        "plt.ylabel('Recall Score')\n",
        "plt.xlabel('Number of Folds')\n",
        "plt.show()\n",
        "\n",
        "print(\"Range of Recall Scores (percent):\", (max(recall_test)-min(recall_test))*100)"
      ]
    },
    {
      "cell_type": "markdown",
      "metadata": {
        "id": "5VceQ5ad4R0A"
      },
      "source": [
        "The model appears to be quite stable, with Recall ranging by less than 0.1%."
      ]
    }
  ],
  "metadata": {
    "colab": {
      "collapsed_sections": [
        "g9TAizYxQy3G"
      ],
      "name": "5. SVM Classification Models.ipynb",
      "provenance": [],
      "authorship_tag": "ABX9TyPNRSMwaU/o/8GY9b3lMj5w",
      "include_colab_link": true
    },
    "kernelspec": {
      "display_name": "Python 3",
      "name": "python3"
    },
    "language_info": {
      "name": "python"
    }
  },
  "nbformat": 4,
  "nbformat_minor": 0
}