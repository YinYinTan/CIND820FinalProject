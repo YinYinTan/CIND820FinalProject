{
  "cells": [
    {
      "cell_type": "markdown",
      "metadata": {
        "id": "view-in-github",
        "colab_type": "text"
      },
      "source": [
        "<a href=\"https://colab.research.google.com/github/YinYinTan/CIND820FinalProject/blob/main/6a_XGBoost_Classification_Models_PCA.ipynb\" target=\"_parent\"><img src=\"https://colab.research.google.com/assets/colab-badge.svg\" alt=\"Open In Colab\"/></a>"
      ]
    },
    {
      "cell_type": "markdown",
      "metadata": {
        "id": "ofVkrVUQdzpi"
      },
      "source": [
        "# eXtreme Gradient Boosting (XGBoost) Classification Models using Working Dataset with Principal Components"
      ]
    },
    {
      "cell_type": "code",
      "execution_count": null,
      "metadata": {
        "id": "qULcocLREKTX"
      },
      "outputs": [],
      "source": [
        "import pandas as pd\n",
        "import numpy as np\n",
        "from imblearn.over_sampling import SMOTE\n",
        "from numpy import loadtxt\n",
        "import xgboost as xgb\n",
        "from xgboost import XGBClassifier\n",
        "from sklearn import metrics\n",
        "from sklearn.model_selection import RepeatedStratifiedKFold\n",
        "import matplotlib.pyplot as plt\n",
        "from sklearn.feature_selection import RFE\n",
        "import time"
      ]
    },
    {
      "cell_type": "code",
      "execution_count": null,
      "metadata": {
        "id": "x2NItT3gdNOp"
      },
      "outputs": [],
      "source": [
        "#Read file\n",
        "df = pd.read_csv('3b. Working Dataset - PCA.csv', index_col=None)"
      ]
    },
    {
      "cell_type": "markdown",
      "metadata": {
        "id": "g9TAizYxQy3G"
      },
      "source": [
        "# 1. All Principal Components in Working Dataset - Evaluation using Train-Test Split"
      ]
    },
    {
      "cell_type": "code",
      "execution_count": null,
      "metadata": {
        "id": "dmarvx_-MKaI"
      },
      "outputs": [],
      "source": [
        "#Split dataframe, using 80% for training and 20% for testing\n",
        "from sklearn.model_selection import train_test_split\n",
        "\n",
        "X = df.drop(['Worse_MH'],axis=1)\n",
        "y = df['Worse_MH']\n",
        "\n",
        "X_train, X_test, y_train, y_test = train_test_split(X, y, test_size=0.2, random_state=888, stratify=y)"
      ]
    },
    {
      "cell_type": "code",
      "execution_count": null,
      "metadata": {
        "colab": {
          "base_uri": "https://localhost:8080/"
        },
        "id": "fbEvfWsxEYPq",
        "outputId": "0b79fc7b-2710-457d-a089-27648eaff991"
      },
      "outputs": [
        {
          "output_type": "stream",
          "name": "stdout",
          "text": [
            "Accuracy: 0.6391454965357968\n",
            "Precision: 0.7927835051546391\n",
            "Recall: 0.644593461860855\n",
            "F1-score: 0.7110494683310217\n",
            "Area Under Curve (AUC): 0.6358403301883124\n",
            "Brier Score: 0.3608545034642032\n",
            "Execution time in seconds: 3\n"
          ]
        }
      ],
      "source": [
        "#Apply Synthetic Minority Oversampling Technique (SMOTE) to training set to correct class imbalance\n",
        "smote = SMOTE(random_state = 888)\n",
        "X_train, y_train = smote.fit_resample(X_train, y_train)\n",
        "\n",
        "#XGBoost classification model\n",
        "\n",
        "t1 = time.perf_counter() #time counter start\n",
        "\n",
        "model = XGBClassifier(random_state=888)\n",
        "model.fit(X_train, y_train)\n",
        "\n",
        "y_pred=model.predict(X_test)\n",
        "\n",
        "t2 = time.perf_counter() #time counter ends\n",
        "\n",
        "#Save results into dictionary\n",
        "xgb_all_base_pca = {'Accuracy':metrics.accuracy_score(y_test, y_pred), 'Precision':metrics.precision_score(y_test, y_pred),'Recall':metrics.recall_score(y_test, y_pred),\\\n",
        "          'F1-Score':metrics.f1_score(y_test, y_pred),'AUC':metrics.roc_auc_score(y_test, y_pred),'Brier Score':metrics.brier_score_loss(y_test, y_pred),'Execution Time (sec)':int(t2-t1)}\n",
        "\n",
        "#Evaluation of XGBoost classification model\n",
        "print(\"Accuracy:\", metrics.accuracy_score(y_test, y_pred))\n",
        "print(\"Precision:\", metrics.precision_score(y_test, y_pred))\n",
        "print(\"Recall:\", metrics.recall_score(y_test, y_pred))\n",
        "print(\"F1-score:\", metrics.f1_score(y_test, y_pred))\n",
        "print(\"Area Under Curve (AUC):\", metrics.roc_auc_score(y_test, y_pred))\n",
        "print(\"Brier Score:\", metrics.brier_score_loss(y_test, y_pred))\n",
        "print('Execution time in seconds:', int(t2-t1))"
      ]
    },
    {
      "cell_type": "markdown",
      "metadata": {
        "id": "duYTXmuG_p4u"
      },
      "source": [
        "# 2. All Principal Components in Working Dataset - Hyperparameter Tuning"
      ]
    },
    {
      "cell_type": "markdown",
      "metadata": {
        "id": "zu3WG9hH-_vw"
      },
      "source": [
        "### 2.1 Random Search with Cross Validation\n",
        "In this section, a grid of hyperparameter ranges will be defined, and randomly sampled from the grid, where k-fold cross validation will be performed with each combination of values."
      ]
    },
    {
      "cell_type": "code",
      "execution_count": null,
      "metadata": {
        "colab": {
          "base_uri": "https://localhost:8080/"
        },
        "id": "VlKu7C3k5YdK",
        "outputId": "c1b8768a-a15b-41df-8af2-ba8dcd9d2a13"
      },
      "outputs": [
        {
          "name": "stdout",
          "output_type": "stream",
          "text": [
            "Parameters currently in use:\n",
            "\n",
            "{'base_score': 0.5,\n",
            " 'booster': 'gbtree',\n",
            " 'colsample_bylevel': 1,\n",
            " 'colsample_bynode': 1,\n",
            " 'colsample_bytree': 1,\n",
            " 'gamma': 0,\n",
            " 'learning_rate': 0.1,\n",
            " 'max_delta_step': 0,\n",
            " 'max_depth': 3,\n",
            " 'min_child_weight': 1,\n",
            " 'missing': None,\n",
            " 'n_estimators': 100,\n",
            " 'n_jobs': 1,\n",
            " 'nthread': None,\n",
            " 'objective': 'binary:logistic',\n",
            " 'random_state': 888,\n",
            " 'reg_alpha': 0,\n",
            " 'reg_lambda': 1,\n",
            " 'scale_pos_weight': 1,\n",
            " 'seed': None,\n",
            " 'silent': None,\n",
            " 'subsample': 1,\n",
            " 'verbosity': 1}\n"
          ]
        }
      ],
      "source": [
        "from pprint import pprint\n",
        "\n",
        "#Look at parameters currently used by the model\n",
        "print('Parameters currently in use:\\n')\n",
        "pprint(model.get_params())"
      ]
    },
    {
      "cell_type": "markdown",
      "metadata": {
        "id": "8V8XA7Gl50wK"
      },
      "source": [
        "The following set of hyperparameters will be adjusted to narrow down the best combination of parameters:\n",
        "*   learning_rate: step size shrinkage used to prevent overfitting (range is 0 to 1). Makes the model more robust by shrinking the weights on each step.\n",
        "Typical values used are 0.01 to 0.2.\n",
        "*   min_child_weight = minimum sum of weights of all observations required in a child, used to control over-fitting. Higher values prevent a model from learning relations which might be highly specific to the particular sample selected for a tree. High values can lead to under-fitting.\n",
        "*   max_depth = how deeply each tree is allowed to grow during any boosting round. Used to control over-fitting as higher depths will allow models to learn relations very specific to a particular sample.\n",
        "*   gamma = the minimum loss reduction required to make a split\n",
        "*   subsample = percentage of samples used per tree (a low value prevents overfitting, but values that are too small can lead to underfitting)\n",
        "*   colsample_bytree = percentage of features used per tree (a high value can lead to overfitting)\n",
        "*   n_estimators = number of trees to build\n",
        "*   reg_alpha = regularization term on weight. Can be used in case of very high dimensionality so that the algorithm runs faster when implemented"
      ]
    },
    {
      "cell_type": "code",
      "execution_count": null,
      "metadata": {
        "colab": {
          "base_uri": "https://localhost:8080/"
        },
        "id": "scIYgq3n5yf7",
        "outputId": "d2717083-50ee-4365-e3c6-d314d67b3768"
      },
      "outputs": [
        {
          "name": "stdout",
          "output_type": "stream",
          "text": [
            "{'colsample_bytree': [0.6, 0.7, 0.8, 0.9],\n",
            " 'gamma': [0.0, 0.1, 0.2, 0.3, 0.4],\n",
            " 'learning_rate': [0.01, 0.2],\n",
            " 'max_depth': [10, 20, 30, 40, 50],\n",
            " 'min_child_weight': range(1, 6, 2),\n",
            " 'n_estimators': [200, 288, 377, 466, 555, 644, 733, 822, 911, 1000],\n",
            " 'reg_alpha': [1e-05, 0.01, 0.1, 1, 100],\n",
            " 'subsample': [0.6, 0.7, 0.8, 0.9]}\n"
          ]
        }
      ],
      "source": [
        "#Creation of a parameter grid to sample from during fitting. On each iteration, the algorithm will choose a different, random combination of parameter values.\n",
        "\n",
        "from sklearn.model_selection import RandomizedSearchCV\n",
        "\n",
        "# Step size shrinkage used to prevent overfitting\n",
        "learning_rate = [0.01, 0.2]\n",
        "\n",
        "# Minimum sum of weights of all observations required in a child\n",
        "min_child_weight = range(1,6,2)\n",
        "\n",
        "# Maximum number of levels in tree\n",
        "max_depth = [10, 20, 30, 40, 50]\n",
        "\n",
        "# Minimum loss reduction required to make a split\n",
        "gamma = [i/10.0 for i in range(0,5)]\n",
        "\n",
        "# Percentage of samples used per tree\n",
        "subsample = [i/10.0 for i in range(6,10)]\n",
        "\n",
        "# Percentage of features used per tree\n",
        "colsample_bytree = [i/10.0 for i in range(6,10)]\n",
        "\n",
        "# Number of trees\n",
        "n_estimators = [int(x) for x in np.linspace(start = 200, stop = 1000, num = 10)]\n",
        "\n",
        "# Regularization\n",
        "reg_alpha = [1e-5, 1e-2, 0.1, 1, 100]\n",
        "\n",
        "# Create the random grid\n",
        "random_grid = {'learning_rate': learning_rate,\n",
        "               'min_child_weight': min_child_weight,\n",
        "               'max_depth': max_depth,\n",
        "               'gamma': gamma,\n",
        "               'subsample': subsample,\n",
        "               'colsample_bytree': colsample_bytree,\n",
        "               'n_estimators': n_estimators,\n",
        "               'reg_alpha': reg_alpha}\n",
        "\n",
        "pprint(random_grid)"
      ]
    },
    {
      "cell_type": "code",
      "execution_count": null,
      "metadata": {
        "colab": {
          "base_uri": "https://localhost:8080/"
        },
        "id": "eXYWbga57b3z",
        "outputId": "33f11288-31f2-49a1-ec26-07a3a36ea061"
      },
      "outputs": [
        {
          "name": "stdout",
          "output_type": "stream",
          "text": [
            "Fitting 3 folds for each of 50 candidates, totalling 150 fits\n"
          ]
        },
        {
          "data": {
            "text/plain": [
              "{'colsample_bytree': 0.8,\n",
              " 'gamma': 0.1,\n",
              " 'learning_rate': 0.01,\n",
              " 'max_depth': 40,\n",
              " 'min_child_weight': 1,\n",
              " 'n_estimators': 911,\n",
              " 'reg_alpha': 0.1,\n",
              " 'subsample': 0.7}"
            ]
          },
          "execution_count": 11,
          "metadata": {},
          "output_type": "execute_result"
        }
      ],
      "source": [
        "#Using the random grid to search for best parameters\n",
        "\n",
        "#Create the base model to tune\n",
        "model = XGBClassifier(random_state=888)\n",
        "\n",
        "#Random search of parameters across 50 different combinations, using 3 fold cross validation\n",
        "model_random = RandomizedSearchCV(estimator = model, param_distributions = random_grid, n_iter = 50, cv = 3, scoring = 'recall', verbose=2, random_state=42, n_jobs = -1)\n",
        "\n",
        "#Fit the random search model\n",
        "model_random.fit(X_train, y_train)\n",
        "\n",
        "#View the best parameters from fitting the random search (based on model with the best recall)\n",
        "model_random.best_params_"
      ]
    },
    {
      "cell_type": "code",
      "execution_count": null,
      "metadata": {
        "colab": {
          "base_uri": "https://localhost:8080/"
        },
        "id": "1-d3wDrE9kGu",
        "outputId": "c25fa9ef-1624-4a4a-a442-337569a99732"
      },
      "outputs": [
        {
          "name": "stdout",
          "output_type": "stream",
          "text": [
            "Accuracy: 0.667147806004619\n",
            "Precision: 0.7498986623429267\n",
            "Recall: 0.7753562447611064\n",
            "F1-score: 0.7624150010302906\n",
            "Area Under Curve (AUC): 0.6015000147738742\n",
            "Brier Score: 0.3328521939953811\n"
          ]
        }
      ],
      "source": [
        "#Evaluation of best model from random search\n",
        "best = model_random.best_estimator_\n",
        "y_pred=best.predict(X_test)\n",
        "\n",
        "print(\"Accuracy:\", metrics.accuracy_score(y_test, y_pred))\n",
        "print(\"Precision:\", metrics.precision_score(y_test, y_pred))\n",
        "print(\"Recall:\", metrics.recall_score(y_test, y_pred))\n",
        "print(\"F1-score:\", metrics.f1_score(y_test, y_pred))\n",
        "print(\"Area Under Curve (AUC):\", metrics.roc_auc_score(y_test, y_pred))\n",
        "print(\"Brier Score:\", metrics.brier_score_loss(y_test, y_pred))"
      ]
    },
    {
      "cell_type": "markdown",
      "metadata": {
        "id": "gm5d7menMdol"
      },
      "source": [
        "Compared to the default XGBoost parameters used in the prior \"All Principal Components in Working Dataset - Evaluation using Train-Test Split\" section, the best model from the grid search resulted in a 13.1% increase in Recall (the metric chosen for scoring).\n",
        "*   Accuracy, F1-score, and Brier Score also improved.\n",
        "*   Accuracy increased by 2.8%, the F1-score increased by 5.1%, and the Brier Score decreased by 2.8%.\n",
        "*   Precision and AUC decreased slightly by 4.3% and 3.4%, respectively.\n",
        "\n",
        "The best model found in the random search has the same values for 1 of the 8 parameters as the default model (i.e. min_child_weight = 1)."
      ]
    },
    {
      "cell_type": "markdown",
      "metadata": {
        "id": "joxQEDTQ_IOm"
      },
      "source": [
        "### 2.2 Grid Search with Cross Validation\n",
        "The random search above narrowed down the range for each hyperparameter. In this section, every combination of settings is defined."
      ]
    },
    {
      "cell_type": "code",
      "execution_count": null,
      "metadata": {
        "colab": {
          "base_uri": "https://localhost:8080/"
        },
        "id": "Ea7Vp_MD-1Dh",
        "outputId": "bd8fc0b3-0639-43a3-f1f1-b66292c469dd"
      },
      "outputs": [
        {
          "output_type": "stream",
          "name": "stdout",
          "text": [
            "Fitting 3 folds for each of 54 candidates, totalling 162 fits\n"
          ]
        },
        {
          "output_type": "execute_result",
          "data": {
            "text/plain": [
              "{'colsample_bytree': 0.8,\n",
              " 'gamma': 0.05,\n",
              " 'learning_rate': 0.01,\n",
              " 'max_depth': 40,\n",
              " 'min_child_weight': 1,\n",
              " 'n_estimators': 800,\n",
              " 'reg_alpha': 0.05,\n",
              " 'subsample': 0.7}"
            ]
          },
          "metadata": {},
          "execution_count": 6
        }
      ],
      "source": [
        "from sklearn.model_selection import GridSearchCV\n",
        "\n",
        "#Create the parameter grid based on the results of previous random search. This will try out 3 * 1 * 1 * 3 * 1 * 1 * 2 * 3 = 54 combinations of settings.\n",
        "param_grid = {'learning_rate': [0.01, 0.05, 0.1],\n",
        "               'min_child_weight': [1],\n",
        "               'max_depth': [40],\n",
        "               'gamma': [0.05, 0.1, 0.15],\n",
        "               'subsample': [0.7],\n",
        "               'colsample_bytree': [0.8],\n",
        "               'n_estimators': [800, 900],\n",
        "               'reg_alpha': [0.05, 0.1, 0.5]}\n",
        "\n",
        "#Create the base model to tune\n",
        "model = XGBClassifier(random_state=888)\n",
        "\n",
        "#Instantiate the grid search model\n",
        "grid_search = GridSearchCV(estimator = model, param_grid = param_grid, cv = 3, scoring = 'recall', n_jobs = -1, verbose = 2)\n",
        "\n",
        "#Fit the grid search model\n",
        "grid_search.fit(X_train, y_train)\n",
        "\n",
        "#View the best parameters from fitting the grid search (based on model with the best recall)\n",
        "grid_search.best_params_"
      ]
    },
    {
      "cell_type": "code",
      "execution_count": null,
      "metadata": {
        "colab": {
          "base_uri": "https://localhost:8080/"
        },
        "id": "9U_mq3VmBcTD",
        "outputId": "72f5e979-8449-4463-fd46-9642712ecd59"
      },
      "outputs": [
        {
          "output_type": "stream",
          "name": "stdout",
          "text": [
            "Accuracy: 0.6963048498845266\n",
            "Precision: 0.7244279946164199\n",
            "Recall: 0.902347024308466\n",
            "F1-score: 0.8036580813736469\n",
            "Area Under Curve (AUC): 0.5713033822841032\n",
            "Brier Score: 0.30369515011547343\n"
          ]
        }
      ],
      "source": [
        "#Evaluate performance of best model from grid search\n",
        "best = grid_search.best_estimator_\n",
        "y_pred=best.predict(X_test)\n",
        "\n",
        "print(\"Accuracy:\", metrics.accuracy_score(y_test, y_pred))\n",
        "print(\"Precision:\", metrics.precision_score(y_test, y_pred))\n",
        "print(\"Recall:\", metrics.recall_score(y_test, y_pred))\n",
        "print(\"F1-score:\", metrics.f1_score(y_test, y_pred))\n",
        "print(\"Area Under Curve (AUC):\", metrics.roc_auc_score(y_test, y_pred))\n",
        "print(\"Brier Score:\", metrics.brier_score_loss(y_test, y_pred))"
      ]
    },
    {
      "cell_type": "markdown",
      "metadata": {
        "id": "cfXclwtMUzVk"
      },
      "source": [
        "Compared to the default XGBoost parameters used in the prior \"All Features in Working Dataset - Evaluation using Train-Test Split\" section, the best model from the random search resulted in a large 25.8% increase in Recall (the metric chosen for scoring).\n",
        "*   Accuracy, F1-score, and Brier Score also improved.\n",
        "*   Accuracy increased by 5.7%, the F1-score increased by 9.3%, and the Brier Score decreased by 5.7%.\n",
        "*   Precision and AUC decreased by 6.8% and 6.5%, respectively."
      ]
    },
    {
      "cell_type": "markdown",
      "metadata": {
        "id": "FU8T_RVC5Hab"
      },
      "source": [
        "# 3. All Features in Working Dataset, Using Parameters from Grid Search - Evaluation using Repeated 10-fold Cross Validation"
      ]
    },
    {
      "cell_type": "code",
      "execution_count": null,
      "metadata": {
        "id": "oxghPk-35Haj"
      },
      "outputs": [],
      "source": [
        "X = df.drop(['Worse_MH'],axis=1)\n",
        "y = df['Worse_MH']"
      ]
    },
    {
      "cell_type": "code",
      "execution_count": null,
      "metadata": {
        "colab": {
          "base_uri": "https://localhost:8080/"
        },
        "id": "UIkjlOBt5Hak",
        "outputId": "de8b00e1-dc59-4b0b-ee69-ea3df12b0d2e"
      },
      "outputs": [
        {
          "output_type": "stream",
          "name": "stdout",
          "text": [
            "Accuracy: 0.6682446146860513\n",
            "Precision: 0.7553335567697148\n",
            "Recall: 0.7667588102484476\n",
            "F1-score: 0.7609506970770661\n",
            "Area Under Curve (AUC): 0.608487630232449\n",
            "Brier Score: 0.3317553853139485\n",
            "Execution time in seconds: 217.45120371689973\n"
          ]
        }
      ],
      "source": [
        "from sklearn.model_selection import RepeatedStratifiedKFold\n",
        "\n",
        "#Set cross-validation to 10-folds, repeated 3 times\n",
        "folds = 10\n",
        "repeats = 3\n",
        "rkf = RepeatedStratifiedKFold(n_splits=folds, n_repeats=repeats)\n",
        "\n",
        "#XGBoost classification model\n",
        "model = XGBClassifier(colsample_bytree=0.8, gamma=0.05, learning_rate=0.01, max_depth=40, min_child_weight=1, n_estimators=800, reg_alpha=0.05, subsample=0.7)\n",
        "\n",
        "#Performance metrics\n",
        "accuracy = precision = recall = f1 = auc = brier = ex_time = 0\n",
        "\n",
        "for train_index, test_index in rkf.split(X, y):\n",
        "  X_train, X_test = X.iloc[train_index], X.iloc[test_index]\n",
        "  y_train, y_test = y.iloc[train_index], y.iloc[test_index]\n",
        "\n",
        "  #Apply Synthetic Minority Oversampling Technique (SMOTE) to training set to correct class imbalance\n",
        "  smote = SMOTE()\n",
        "  X_train, y_train = smote.fit_resample(X_train, y_train)\n",
        "\n",
        "  t1 = time.perf_counter() #time counter start\n",
        "\n",
        "  model.fit(X_train, y_train)\n",
        "  y_pred=model.predict(X_test)\n",
        "\n",
        "  t2 = time.perf_counter() #time counter ends\n",
        "\n",
        "  accuracy = accuracy + metrics.accuracy_score(y_test, y_pred)\n",
        "  precision = precision + metrics.precision_score(y_test, y_pred)\n",
        "  recall = recall + metrics.recall_score(y_test, y_pred)\n",
        "  f1 = f1 + metrics.f1_score(y_test, y_pred)\n",
        "  auc = auc + metrics.roc_auc_score(y_test, y_pred)\n",
        "  brier = brier + metrics.brier_score_loss(y_test, y_pred)\n",
        "  ex_time = ex_time + t2-t1\n",
        "\n",
        "#Save results into dictionary\n",
        "xgb_all_tuned_pca = {'Accuracy':accuracy/(folds*repeats), 'Precision':precision/(folds*repeats),'Recall':recall/(folds*repeats),\\\n",
        "          'F1-Score':f1/(folds*repeats),'AUC':auc/(folds*repeats),'Brier Score':brier/(folds*repeats),'Execution Time (sec)':ex_time/(folds*repeats)}\n",
        "\n",
        "#Evaluation of XGBoost classification model\n",
        "print(\"Accuracy:\", accuracy/(folds*repeats))\n",
        "print(\"Precision:\", precision/(folds*repeats))\n",
        "print(\"Recall:\", recall/(folds*repeats))\n",
        "print(\"F1-score:\", f1/(folds*repeats))\n",
        "print(\"Area Under Curve (AUC):\", auc/(folds*repeats))\n",
        "print(\"Brier Score:\", brier/(folds*repeats))\n",
        "print('Execution time in seconds:', ex_time/(folds*repeats))"
      ]
    },
    {
      "cell_type": "markdown",
      "metadata": {
        "id": "sJ0GaV2p_-_p"
      },
      "source": [
        "# 4. Selected Features - Filter Method"
      ]
    },
    {
      "cell_type": "markdown",
      "metadata": {
        "id": "jDNqtF89m3xB"
      },
      "source": [
        "## 4.1 Top 1 to All Principal Components\n",
        "It was decided to build XGBoost models using the top 1 to all principal components to compare performance."
      ]
    },
    {
      "cell_type": "code",
      "execution_count": null,
      "metadata": {
        "id": "lTH62GKeQaii"
      },
      "outputs": [],
      "source": [
        "#Build classification model using 1 to all of the principal components and compare performance on Recall\n",
        "\n",
        "recall_test = []\n",
        "components = len(df.columns)\n",
        "\n",
        "for n in range(1, components):\n",
        "\n",
        "  #Split dataframe, using 80% for training and 20% for testing\n",
        "  #Only select top n variables for X\n",
        "  X = df.iloc[:,:n]\n",
        "  y = df['Worse_MH']\n",
        "  X_train, X_test, y_train, y_test = train_test_split(X, y, test_size=0.2, random_state=888, stratify=y)\n",
        "\n",
        "  #Apply Synthetic Minority Oversampling Technique (SMOTE) to training set to correct class imbalance\n",
        "  smote = SMOTE(random_state = 888)\n",
        "  X_train, y_train = smote.fit_resample(X_train, y_train)\n",
        "\n",
        "  #SVM classification model, using the parameters identified during hyperparameter tuning\n",
        "  model = XGBClassifier(colsample_bytree=0.8, gamma=0.05, learning_rate=0.01, max_depth=40, min_child_weight=1, n_estimators=800, reg_alpha=0.05, subsample=0.7, random_state=888)\n",
        "  model.fit(X_train, y_train)\n",
        "  y_pred=model.predict(X_test)\n",
        "\n",
        "  #Save results into list\n",
        "  recall_test.append(metrics.recall_score(y_test, y_pred))"
      ]
    },
    {
      "cell_type": "code",
      "source": [
        "#Plot recall scores against number of features used\n",
        "plt.plot(range(1,components), recall_test, marker='o')\n",
        "plt.ylabel('Recall Score')\n",
        "plt.xlabel('Number of Principal Components')\n",
        "plt.show()"
      ],
      "metadata": {
        "colab": {
          "base_uri": "https://localhost:8080/",
          "height": 278
        },
        "id": "BvTDL--Q2P5V",
        "outputId": "de0e1932-3ea8-491c-e8b3-478e16899147"
      },
      "execution_count": null,
      "outputs": [
        {
          "output_type": "display_data",
          "data": {
            "text/plain": [
              "<Figure size 432x288 with 1 Axes>"
            ],
            "image/png": "[encoded data removed]"
          },
          "metadata": {
            "needs_background": "light"
          }
        }
      ]
    },
    {
      "cell_type": "markdown",
      "source": [
        "Based on the plot above, it appears that model performance increases as more principal components are used, until 22 components are reached. After that,Recall performance plateaus."
      ],
      "metadata": {
        "id": "X8abdZtA2WxO"
      }
    },
    {
      "cell_type": "markdown",
      "metadata": {
        "id": "8GQ7eAJts4XL"
      },
      "source": [
        "## 4.2 Top 22 Principal Components, Filter Method - Evaluation using Repeated 10-fold Cross Validation\n",
        "Based on the results above, it was decided to build a XGBoost model using the top 22 principal components."
      ]
    },
    {
      "cell_type": "code",
      "execution_count": null,
      "metadata": {
        "id": "0jcbKYH2HVd7"
      },
      "outputs": [],
      "source": [
        "#Only select top 22 components for X\n",
        "X = df.iloc[:,:22]\n",
        "y = df['Worse_MH']"
      ]
    },
    {
      "cell_type": "code",
      "execution_count": null,
      "metadata": {
        "colab": {
          "base_uri": "https://localhost:8080/"
        },
        "id": "DihJZArvw_eH",
        "outputId": "247c2e47-385f-4524-ee0f-2d1b629b0918"
      },
      "outputs": [
        {
          "output_type": "stream",
          "name": "stdout",
          "text": [
            "Accuracy: 0.6644148456195917\n",
            "Precision: 0.7553692116900464\n",
            "Recall: 0.7584322745845923\n",
            "F1-score: 0.756849629289127\n",
            "Area Under Curve (AUC): 0.607385586890317\n",
            "Brier Score: 0.33558515438040815\n",
            "Execution time in seconds: 194.9798847585332\n"
          ]
        }
      ],
      "source": [
        "#Set cross-validation to 10-folds, repeated 3 times\n",
        "folds = 10\n",
        "repeats = 3\n",
        "rkf = RepeatedStratifiedKFold(n_splits=folds, n_repeats=repeats)\n",
        "\n",
        "#XGBoost classification model, using the parameters identified during hyperparameter tuning\n",
        "model = XGBClassifier(colsample_bytree=0.8, gamma=0.05, learning_rate=0.01, max_depth=40, min_child_weight=1, n_estimators=800, reg_alpha=0.05, subsample=0.7)\n",
        "\n",
        "#Performance metrics\n",
        "accuracy = precision = recall = f1 = auc = brier = ex_time = 0\n",
        "\n",
        "for train_index, test_index in rkf.split(X, y):\n",
        "  X_train, X_test = X.iloc[train_index], X.iloc[test_index]\n",
        "  y_train, y_test = y.iloc[train_index], y.iloc[test_index]\n",
        "\n",
        "  #Apply Synthetic Mifilnority Oversampling Technique (SMOTE) to training set to correct class imbalance\n",
        "  smote = SMOTE()\n",
        "  X_train, y_train = smote.fit_resample(X_train, y_train)\n",
        "\n",
        "  t1 = time.perf_counter() #time counter start\n",
        "\n",
        "  model.fit(X_train, y_train)\n",
        "  y_pred=model.predict(X_test)\n",
        "\n",
        "  t2 = time.perf_counter() #time counter ends\n",
        "\n",
        "  accuracy = accuracy + metrics.accuracy_score(y_test, y_pred)\n",
        "  precision = precision + metrics.precision_score(y_test, y_pred)\n",
        "  recall = recall + metrics.recall_score(y_test, y_pred)\n",
        "  f1 = f1 + metrics.f1_score(y_test, y_pred)\n",
        "  auc = auc + metrics.roc_auc_score(y_test, y_pred)\n",
        "  brier = brier + metrics.brier_score_loss(y_test, y_pred)\n",
        "  ex_time = ex_time + t2-t1\n",
        "\n",
        "#Save results into dictionary\n",
        "xgb_22_tuned_pca = {'Accuracy':accuracy/(folds*repeats), 'Precision':precision/(folds*repeats),'Recall':recall/(folds*repeats),\\\n",
        "          'F1-Score':f1/(folds*repeats),'AUC':auc/(folds*repeats),'Brier Score':brier/(folds*repeats),'Execution Time (sec)':ex_time/(folds*repeats)}\n",
        "\n",
        "#Evaluation of XGBoost classification model\n",
        "print(\"Accuracy:\", accuracy/(folds*repeats))\n",
        "print(\"Precision:\", precision/(folds*repeats))\n",
        "print(\"Recall:\", recall/(folds*repeats))\n",
        "print(\"F1-score:\", f1/(folds*repeats))\n",
        "print(\"Area Under Curve (AUC):\", auc/(folds*repeats))\n",
        "print(\"Brier Score:\", brier/(folds*repeats))\n",
        "print('Execution time in seconds:', ex_time/(folds*repeats))"
      ]
    },
    {
      "cell_type": "markdown",
      "source": [
        "The model performed better than the base model in section 1, and less than 1% worse for all metrics compared to the tuned model using all principal components (section 4.1)."
      ],
      "metadata": {
        "id": "XSPUYVo4d1UM"
      }
    },
    {
      "cell_type": "markdown",
      "metadata": {
        "id": "o-gMsEa1Xgno"
      },
      "source": [
        "# 5. Comparison of Models"
      ]
    },
    {
      "cell_type": "code",
      "execution_count": null,
      "metadata": {
        "colab": {
          "base_uri": "https://localhost:8080/",
          "height": 143
        },
        "id": "F5_U_uSHXlO6",
        "outputId": "22669126-34a5-4e75-b49b-bff230709031"
      },
      "outputs": [
        {
          "output_type": "execute_result",
          "data": {
            "text/plain": [
              "                                      Accuracy  Precision    Recall  F1-Score  \\\n",
              "XGBoost All Components - Base (PCA)   0.639145   0.792784  0.644593  0.711049   \n",
              "XGBoost All Components - Tuned (PCA)  0.668245   0.755334  0.766759  0.760951   \n",
              "XGBoost 22 Components - Tuned (PCA)   0.664415   0.755369  0.758432  0.756850   \n",
              "\n",
              "                                           AUC  Brier Score  \\\n",
              "XGBoost All Components - Base (PCA)   0.635840     0.360855   \n",
              "XGBoost All Components - Tuned (PCA)  0.608488     0.331755   \n",
              "XGBoost 22 Components - Tuned (PCA)   0.607386     0.335585   \n",
              "\n",
              "                                      Execution Time (sec)  \n",
              "XGBoost All Components - Base (PCA)               3.000000  \n",
              "XGBoost All Components - Tuned (PCA)            217.451204  \n",
              "XGBoost 22 Components - Tuned (PCA)             194.979885  "
            ],
            "text/html": [
              "\n",
              "  <div id=\"df-a63f803e-e9c8-41fa-8833-4f901433f817\">\n",
              "    <div class=\"colab-df-container\">\n",
              "      <div>\n",
              "<style scoped>\n",
              "    .dataframe tbody tr th:only-of-type {\n",
              "        vertical-align: middle;\n",
              "    }\n",
              "\n",
              "    .dataframe tbody tr th {\n",
              "        vertical-align: top;\n",
              "    }\n",
              "\n",
              "    .dataframe thead th {\n",
              "        text-align: right;\n",
              "    }\n",
              "</style>\n",
              "<table border=\"1\" class=\"dataframe\">\n",
              "  <thead>\n",
              "    <tr style=\"text-align: right;\">\n",
              "      <th></th>\n",
              "      <th>Accuracy</th>\n",
              "      <th>Precision</th>\n",
              "      <th>Recall</th>\n",
              "      <th>F1-Score</th>\n",
              "      <th>AUC</th>\n",
              "      <th>Brier Score</th>\n",
              "      <th>Execution Time (sec)</th>\n",
              "    </tr>\n",
              "  </thead>\n",
              "  <tbody>\n",
              "    <tr>\n",
              "      <th>XGBoost All Components - Base (PCA)</th>\n",
              "      <td>0.639145</td>\n",
              "      <td>0.792784</td>\n",
              "      <td>0.644593</td>\n",
              "      <td>0.711049</td>\n",
              "      <td>0.635840</td>\n",
              "      <td>0.360855</td>\n",
              "      <td>3.000000</td>\n",
              "    </tr>\n",
              "    <tr>\n",
              "      <th>XGBoost All Components - Tuned (PCA)</th>\n",
              "      <td>0.668245</td>\n",
              "      <td>0.755334</td>\n",
              "      <td>0.766759</td>\n",
              "      <td>0.760951</td>\n",
              "      <td>0.608488</td>\n",
              "      <td>0.331755</td>\n",
              "      <td>217.451204</td>\n",
              "    </tr>\n",
              "    <tr>\n",
              "      <th>XGBoost 22 Components - Tuned (PCA)</th>\n",
              "      <td>0.664415</td>\n",
              "      <td>0.755369</td>\n",
              "      <td>0.758432</td>\n",
              "      <td>0.756850</td>\n",
              "      <td>0.607386</td>\n",
              "      <td>0.335585</td>\n",
              "      <td>194.979885</td>\n",
              "    </tr>\n",
              "  </tbody>\n",
              "</table>\n",
              "</div>\n",
              "      <button class=\"colab-df-convert\" onclick=\"convertToInteractive('df-a63f803e-e9c8-41fa-8833-4f901433f817')\"\n",
              "              title=\"Convert this dataframe to an interactive table.\"\n",
              "              style=\"display:none;\">\n",
              "        \n",
              "  <svg xmlns=\"http://www.w3.org/2000/svg\" height=\"24px\"viewBox=\"0 0 24 24\"\n",
              "       width=\"24px\">\n",
              "    <path d=\"M0 0h24v24H0V0z\" fill=\"none\"/>\n",
              "    <path d=\"M18.56 5.44l.94 2.06.94-2.06 2.06-.94-2.06-.94-.94-2.06-.94 2.06-2.06.94zm-11 1L8.5 8.5l.94-2.06 2.06-.94-2.06-.94L8.5 2.5l-.94 2.06-2.06.94zm10 10l.94 2.06.94-2.06 2.06-.94-2.06-.94-.94-2.06-.94 2.06-2.06.94z\"/><path d=\"M17.41 7.96l-1.37-1.37c-.4-.4-.92-.59-1.43-.59-.52 0-1.04.2-1.43.59L10.3 9.45l-7.72 7.72c-.78.78-.78 2.05 0 2.83L4 21.41c.39.39.9.59 1.41.59.51 0 1.02-.2 1.41-.59l7.78-7.78 2.81-2.81c.8-.78.8-2.07 0-2.86zM5.41 20L4 18.59l7.72-7.72 1.47 1.35L5.41 20z\"/>\n",
              "  </svg>\n",
              "      </button>\n",
              "      \n",
              "  <style>\n",
              "    .colab-df-container {\n",
              "      display:flex;\n",
              "      flex-wrap:wrap;\n",
              "      gap: 12px;\n",
              "    }\n",
              "\n",
              "    .colab-df-convert {\n",
              "      background-color: #E8F0FE;\n",
              "      border: none;\n",
              "      border-radius: 50%;\n",
              "      cursor: pointer;\n",
              "      display: none;\n",
              "      fill: #1967D2;\n",
              "      height: 32px;\n",
              "      padding: 0 0 0 0;\n",
              "      width: 32px;\n",
              "    }\n",
              "\n",
              "    .colab-df-convert:hover {\n",
              "      background-color: #E2EBFA;\n",
              "      box-shadow: 0px 1px 2px rgba(60, 64, 67, 0.3), 0px 1px 3px 1px rgba(60, 64, 67, 0.15);\n",
              "      fill: #174EA6;\n",
              "    }\n",
              "\n",
              "    [theme=dark] .colab-df-convert {\n",
              "      background-color: #3B4455;\n",
              "      fill: #D2E3FC;\n",
              "    }\n",
              "\n",
              "    [theme=dark] .colab-df-convert:hover {\n",
              "      background-color: #434B5C;\n",
              "      box-shadow: 0px 1px 3px 1px rgba(0, 0, 0, 0.15);\n",
              "      filter: drop-shadow(0px 1px 2px rgba(0, 0, 0, 0.3));\n",
              "      fill: #FFFFFF;\n",
              "    }\n",
              "  </style>\n",
              "\n",
              "      <script>\n",
              "        const buttonEl =\n",
              "          document.querySelector('#df-a63f803e-e9c8-41fa-8833-4f901433f817 button.colab-df-convert');\n",
              "        buttonEl.style.display =\n",
              "          google.colab.kernel.accessAllowed ? 'block' : 'none';\n",
              "\n",
              "        async function convertToInteractive(key) {\n",
              "          const element = document.querySelector('#df-a63f803e-e9c8-41fa-8833-4f901433f817');\n",
              "          const dataTable =\n",
              "            await google.colab.kernel.invokeFunction('convertToInteractive',\n",
              "                                                     [key], {});\n",
              "          if (!dataTable) return;\n",
              "\n",
              "          const docLinkHtml = 'Like what you see? Visit the ' +\n",
              "            '<a target=\"_blank\" href=https://colab.research.google.com/notebooks/data_table.ipynb>data table notebook</a>'\n",
              "            + ' to learn more about interactive tables.';\n",
              "          element.innerHTML = '';\n",
              "          dataTable['output_type'] = 'display_data';\n",
              "          await google.colab.output.renderOutput(dataTable, element);\n",
              "          const docLink = document.createElement('div');\n",
              "          docLink.innerHTML = docLinkHtml;\n",
              "          element.appendChild(docLink);\n",
              "        }\n",
              "      </script>\n",
              "    </div>\n",
              "  </div>\n",
              "  "
            ]
          },
          "metadata": {},
          "execution_count": 18
        }
      ],
      "source": [
        "#Combine performance metrics for all models into one dataframe\n",
        "comparison = pd.DataFrame([xgb_all_base_pca, xgb_all_tuned_pca, xgb_22_tuned_pca], index=['XGBoost All Components - Base (PCA)','XGBoost All Components - Tuned (PCA)','XGBoost 22 Components - Tuned (PCA)'])\n",
        "comparison"
      ]
    },
    {
      "cell_type": "markdown",
      "metadata": {
        "id": "gsxLJXpE85p9"
      },
      "source": [
        "'XGBoost All Components - Tuned (PCA)', the XGBoost model using all features and the parameters identified during hyperparameter tuning, had the best Accuracy, Recall, F1-Score, and Brier Score. However, it's performance was within 1% for all metrics compared to the 'XGBoost 22 Components - Tuned (PCA)'. Since the best model had a reasonable execution time of 217 seconds, it was selected as the best model to use."
      ]
    },
    {
      "cell_type": "markdown",
      "metadata": {
        "id": "_NNehIPfbl-s"
      },
      "source": [
        "# 6. Stability of Best Model by Varying k-folds for Cross Validation"
      ]
    },
    {
      "cell_type": "markdown",
      "metadata": {
        "id": "UB4q5YNU1wN8"
      },
      "source": [
        "The stability of the best model identified above was tested by performing repeated k-folds cross-validation, with values of k from 5 to 12, and 2 repeats.\n",
        "*   Originally, values of k from 3 to 15 were used, and the number of repeats was set to 3, but execution runtime exceeded 5 hours before the decision was made to interrupt execution. Thus, values of k and the number of repeats were then changed to reduce runtime."
      ]
    },
    {
      "cell_type": "code",
      "execution_count": null,
      "metadata": {
        "id": "04-J0JugxZZa"
      },
      "outputs": [],
      "source": [
        "X = df.drop(['Worse_MH'],axis=1)\n",
        "y = df['Worse_MH']"
      ]
    },
    {
      "cell_type": "code",
      "execution_count": null,
      "metadata": {
        "colab": {
          "base_uri": "https://localhost:8080/",
          "height": 297
        },
        "id": "d9QaiTshb7V_",
        "outputId": "d08b2f2e-acb4-4ee1-fa1c-104db83d8851"
      },
      "outputs": [
        {
          "output_type": "display_data",
          "data": {
            "text/plain": [
              "<Figure size 432x288 with 1 Axes>"
            ],
            "image/png": "[encoded data removed]"
          },
          "metadata": {
            "needs_background": "light"
          }
        },
        {
          "output_type": "stream",
          "name": "stdout",
          "text": [
            "Range of Recall Scores: 0.4568569752266938\n"
          ]
        }
      ],
      "source": [
        "recall_test = []\n",
        "\n",
        "for k in range(5, 13):\n",
        "  #Set cross-validation to k-folds, repeated 2 times.\n",
        "  repeats = 2\n",
        "  rkf = RepeatedStratifiedKFold(n_splits=k, n_repeats=repeats)\n",
        "\n",
        "  #Best XGBoost classification model identified in section 5, 'XGBoost All Components - Tuned (PCA)'\n",
        "  model = XGBClassifier(colsample_bytree=0.8, gamma=0.05, learning_rate=0.01, max_depth=40, min_child_weight=1, n_estimators=800, reg_alpha=0.05, subsample=0.7)\n",
        "\n",
        "  #Performance metrics\n",
        "  recall = 0\n",
        "\n",
        "  for train_index, test_index in rkf.split(X, y):\n",
        "    X_train, X_test = X.iloc[train_index], X.iloc[test_index]\n",
        "    y_train, y_test = y.iloc[train_index], y.iloc[test_index]\n",
        "\n",
        "    #Apply Synthetic Minority Oversampling Technique (SMOTE) to training set to correct class imbalance\n",
        "    smote = SMOTE()\n",
        "    X_train, y_train = smote.fit_resample(X_train, y_train)\n",
        "\n",
        "    model.fit(X_train, y_train)\n",
        "    y_pred=model.predict(X_test)\n",
        "\n",
        "    recall = recall + metrics.recall_score(y_test, y_pred)\n",
        "\n",
        "  #Calculate average recall, append to list\n",
        "  recall_test.append(recall/(k*repeats))\n",
        "\n",
        "#Plot recall scores against number of folds used\n",
        "plt.plot(range(5, 13), recall_test, marker='o')\n",
        "plt.ylabel('Recall Score')\n",
        "plt.xlabel('Number of Folds')\n",
        "plt.show()\n",
        "\n",
        "print(\"Range of Recall Scores:\", (max(recall_test)-min(recall_test))*100)"
      ]
    },
    {
      "cell_type": "markdown",
      "metadata": {
        "id": "5VceQ5ad4R0A"
      },
      "source": [
        "The model appears to be quite stable, with Recall ranging by less than 1%."
      ]
    }
  ],
  "metadata": {
    "colab": {
      "name": "6a. XGBoost Classification Models PCA.ipynb",
      "provenance": [],
      "collapsed_sections": [
        "ofVkrVUQdzpi",
        "g9TAizYxQy3G",
        "duYTXmuG_p4u",
        "jDNqtF89m3xB",
        "o-gMsEa1Xgno"
      ],
      "authorship_tag": "ABX9TyOwMh8l39XCTRTEQklVz/Z3",
      "include_colab_link": true
    },
    "kernelspec": {
      "display_name": "Python 3",
      "name": "python3"
    },
    "language_info": {
      "name": "python"
    }
  },
  "nbformat": 4,
  "nbformat_minor": 0
}