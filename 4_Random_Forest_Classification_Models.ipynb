{
  "nbformat": 4,
  "nbformat_minor": 0,
  "metadata": {
    "colab": {
      "name": "4. Random Forest Classification Models.ipynb",
      "provenance": [],
      "collapsed_sections": [
        "g9TAizYxQy3G",
        "sJ0GaV2p_-_p"
      ],
      "authorship_tag": "ABX9TyOoA0G6G4NG0KrlwSszjeMu",
      "include_colab_link": true
    },
    "kernelspec": {
      "name": "python3",
      "display_name": "Python 3"
    },
    "language_info": {
      "name": "python"
    }
  },
  "cells": [
    {
      "cell_type": "markdown",
      "metadata": {
        "id": "view-in-github",
        "colab_type": "text"
      },
      "source": [
        "<a href=\"https://colab.research.google.com/github/YinYinTan/CIND820FinalProject/blob/main/4_Random_Forest_Classification_Models.ipynb\" target=\"_parent\"><img src=\"https://colab.research.google.com/assets/colab-badge.svg\" alt=\"Open In Colab\"/></a>"
      ]
    },
    {
      "cell_type": "markdown",
      "source": [
        "# Random Forest Classification Models\n",
        "Evaluations using Train-Test Split"
      ],
      "metadata": {
        "id": "ofVkrVUQdzpi"
      }
    },
    {
      "cell_type": "code",
      "source": [
        "from imblearn.over_sampling import SMOTE\n",
        "from sklearn.ensemble import RandomForestClassifier\n",
        "from sklearn import metrics\n",
        "from sklearn.feature_selection import RFE"
      ],
      "metadata": {
        "id": "qULcocLREKTX"
      },
      "execution_count": 1,
      "outputs": []
    },
    {
      "cell_type": "code",
      "source": [
        "import pandas as pd\n",
        "\n",
        "#Read file\n",
        "df = pd.read_csv('3a. Working Dataset.csv', index_col=None)"
      ],
      "metadata": {
        "id": "x2NItT3gdNOp"
      },
      "execution_count": 2,
      "outputs": []
    },
    {
      "cell_type": "markdown",
      "source": [
        "# All Features"
      ],
      "metadata": {
        "id": "g9TAizYxQy3G"
      }
    },
    {
      "cell_type": "code",
      "source": [
        "#Split dataframe, using 80% for training and 20% for testing\n",
        "from sklearn.model_selection import train_test_split\n",
        "\n",
        "X = df.drop(['Worse_MH'],axis=1)\n",
        "y = df['Worse_MH']\n",
        "\n",
        "X_train, X_test, y_train, y_test = train_test_split(X, y, test_size=0.2, random_state=888, stratify=y)"
      ],
      "metadata": {
        "id": "dmarvx_-MKaI"
      },
      "execution_count": 20,
      "outputs": []
    },
    {
      "cell_type": "code",
      "source": [
        "#Apply Synthetic Minority Oversampling Technique (SMOTE) to training set to correct class imbalance\n",
        "smote = SMOTE(random_state = 888)\n",
        "X_train, y_train = smote.fit_resample(X_train, y_train)\n",
        "\n",
        "#Random forest classification model\n",
        "model = RandomForestClassifier(random_state=888)\n",
        "model.fit(X_train, y_train)\n",
        "y_pred=model.predict(X_test)\n",
        "\n",
        "#Evaluation of random forest classification model\n",
        "print(\"Accuracy:\", metrics.accuracy_score(y_test, y_pred))\n",
        "print(\"Precision:\", metrics.precision_score(y_test, y_pred))\n",
        "print(\"Recall:\", metrics.recall_score(y_test, y_pred))\n",
        "print(\"F1-score:\", metrics.f1_score(y_test, y_pred))\n",
        "print(\"Area Under Curve (AUC):\", metrics.roc_auc_score(y_test, y_pred))"
      ],
      "metadata": {
        "colab": {
          "base_uri": "https://localhost:8080/"
        },
        "id": "fbEvfWsxEYPq",
        "outputId": "622fb186-cf47-447f-8577-67d482da10b7"
      },
      "execution_count": 21,
      "outputs": [
        {
          "output_type": "stream",
          "name": "stdout",
          "text": [
            "Accuracy: 0.7517321016166282\n",
            "Precision: 0.8331877729257642\n",
            "Recall: 0.7996647108130763\n",
            "F1-score: 0.8160821214713431\n",
            "Area Under Curve (AUC): 0.7226523925122894\n"
          ]
        }
      ]
    },
    {
      "cell_type": "markdown",
      "source": [
        "# 5 Selected Features - Filter Method\n",
        "[Previous \"All Features\" section must be run first]"
      ],
      "metadata": {
        "id": "sJ0GaV2p_-_p"
      }
    },
    {
      "cell_type": "code",
      "source": [
        "#Identify top 20 features\n",
        "model = RandomForestClassifier(random_state=888)\n",
        "model.fit(X_train, y_train)\n",
        "\n",
        "feature_names = df.drop(['Worse_MH'],axis=1).columns\n",
        "\n",
        "feature_imp = pd.Series(model.feature_importances_,index=feature_names).sort_values(ascending=False)\n",
        "feature_imp = feature_imp[:20]"
      ],
      "metadata": {
        "id": "K0kI7wzsBz8b"
      },
      "execution_count": 24,
      "outputs": []
    },
    {
      "cell_type": "code",
      "source": [
        "#Plot top 15 features\n",
        "import matplotlib.pyplot as plt\n",
        "import seaborn as sns\n",
        "%matplotlib inline\n",
        "# Creating a bar plot\n",
        "sns.barplot(x=feature_imp, y=feature_imp.index)\n",
        "# Add labels to your graph\n",
        "plt.xlabel('Feature Importance Score')\n",
        "plt.ylabel('Features')\n",
        "plt.title(\"Visualizing Important Features\")\n",
        "plt.show()"
      ],
      "metadata": {
        "colab": {
          "base_uri": "https://localhost:8080/",
          "height": 295
        },
        "id": "YM5hdPAjDLmn",
        "outputId": "0329762a-6f26-454e-f888-8f618aa99f7d"
      },
      "execution_count": 25,
      "outputs": [
        {
          "output_type": "display_data",
          "data": {
            "image/png": "[encoded data removed]",
            "text/plain": [
              "<Figure size 432x288 with 1 Axes>"
            ]
          },
          "metadata": {
            "needs_background": "light"
          }
        }
      ]
    },
    {
      "cell_type": "markdown",
      "source": [
        "Based on the bar graph above, it was decided to build a random forest model using only the top 5 features"
      ],
      "metadata": {
        "id": "kH0SaBPuJCNH"
      }
    },
    {
      "cell_type": "code",
      "source": [
        "#Obtain names of top 5 variables\n",
        "top_five = feature_imp[:5].index\n",
        "top_five"
      ],
      "metadata": {
        "colab": {
          "base_uri": "https://localhost:8080/"
        },
        "id": "0jcbKYH2HVd7",
        "outputId": "e37e0f4e-43ac-4f33-ac38-d0c5c3204e46"
      },
      "execution_count": 26,
      "outputs": [
        {
          "output_type": "execute_result",
          "data": {
            "text/plain": [
              "Index(['GEN_05', 'GEN_20', 'PPE_50E', 'PPE_50F', 'AGEDVG4'], dtype='object')"
            ]
          },
          "metadata": {},
          "execution_count": 26
        }
      ]
    },
    {
      "cell_type": "code",
      "source": [
        "#Split dataframe, using 80% for training and 20% for testing\n",
        "from sklearn.model_selection import train_test_split\n",
        "\n",
        "#Only select top 5 variables for X\n",
        "X = df.loc[:,top_five]\n",
        "y = df['Worse_MH']\n",
        "X_train, X_test, y_train, y_test = train_test_split(X, y, test_size=0.2, random_state=888, stratify=y)"
      ],
      "metadata": {
        "id": "xUi1EVsCAnCM"
      },
      "execution_count": 27,
      "outputs": []
    },
    {
      "cell_type": "code",
      "source": [
        "#Apply Synthetic Minority Oversampling Technique (SMOTE) to training set to correct class imbalance\n",
        "smote = SMOTE(random_state = 888)\n",
        "X_train, y_train = smote.fit_resample(X_train, y_train)\n",
        "\n",
        "#Random forest classification model\n",
        "model = RandomForestClassifier(random_state=888)\n",
        "model.fit(X_train, y_train)\n",
        "y_pred=model.predict(X_test)\n",
        "\n",
        "#Evaluation of random forest classification model\n",
        "print(\"Accuracy:\", metrics.accuracy_score(y_test, y_pred))\n",
        "print(\"Precision:\", metrics.precision_score(y_test, y_pred))\n",
        "print(\"Recall:\", metrics.recall_score(y_test, y_pred))\n",
        "print(\"F1-score:\", metrics.f1_score(y_test, y_pred))\n",
        "print(\"Area Under Curve (AUC):\", metrics.roc_auc_score(y_test, y_pred))"
      ],
      "metadata": {
        "colab": {
          "base_uri": "https://localhost:8080/"
        },
        "id": "gMkTSCYRGaN8",
        "outputId": "ca4512af-fdf1-4fd4-ab8d-9283aab1d3e8"
      },
      "execution_count": 28,
      "outputs": [
        {
          "output_type": "stream",
          "name": "stdout",
          "text": [
            "Accuracy: 0.7323903002309469\n",
            "Precision: 0.8505526189332052\n",
            "Recall: 0.7418273260687342\n",
            "F1-score: 0.7924781732706514\n",
            "Area Under Curve (AUC): 0.7266650545000444\n"
          ]
        }
      ]
    },
    {
      "cell_type": "markdown",
      "source": [
        "# 5 Selected Features using Recursive Feature Elimination (RFE) - Wrapper Method"
      ],
      "metadata": {
        "id": "-BLzkAIPL13c"
      }
    },
    {
      "cell_type": "code",
      "source": [
        "#Split dataframe, using 80% for training and 20% for testing\n",
        "from sklearn.model_selection import train_test_split\n",
        "\n",
        "X = df.drop(['Worse_MH'],axis=1)\n",
        "y = df['Worse_MH']\n",
        "\n",
        "X_train, X_test, y_train, y_test = train_test_split(X, y, test_size=0.2, random_state=888, stratify=y)"
      ],
      "metadata": {
        "id": "AXhqkw7tMcG0"
      },
      "execution_count": 29,
      "outputs": []
    },
    {
      "cell_type": "code",
      "source": [
        "#Apply Synthetic Minority Oversampling Technique (SMOTE) to training set to correct class imbalance\n",
        "smote = SMOTE(random_state = 888)\n",
        "X_train, y_train = smote.fit_resample(X_train, y_train)"
      ],
      "metadata": {
        "id": "ZOMEadLPMdzr"
      },
      "execution_count": 30,
      "outputs": []
    },
    {
      "cell_type": "code",
      "source": [
        "#Random forest classification model with RFE for 5 features\n",
        "model = RandomForestClassifier(random_state=888)\n",
        "\n",
        "rfe = RFE(estimator=model, n_features_to_select=5)\n",
        "fit = rfe.fit(X_train, y_train)\n",
        "\n",
        "for feature in fit.support_.nonzero():\n",
        "  print('5 selected features:', X_train.columns[feature])"
      ],
      "metadata": {
        "colab": {
          "base_uri": "https://localhost:8080/"
        },
        "id": "E1LgoyU1cGnG",
        "outputId": "72aa659e-c0d1-4a58-ec40-9d9309533b43"
      },
      "execution_count": 33,
      "outputs": [
        {
          "output_type": "stream",
          "name": "stdout",
          "text": [
            "5 selected features: Index(['PPE_50A', 'PPE_50C', 'PPE_50E', 'GEN_05', 'GEN_20'], dtype='object')\n"
          ]
        }
      ]
    },
    {
      "cell_type": "code",
      "source": [
        "y_pred=fit.predict(X_test)\n",
        "\n",
        "#Evaluation of random forest classification model\n",
        "print(\"Accuracy:\", metrics.accuracy_score(y_test, y_pred))\n",
        "print(\"Precision:\", metrics.precision_score(y_test, y_pred))\n",
        "print(\"Recall:\", metrics.recall_score(y_test, y_pred))\n",
        "print(\"F1-score:\", metrics.f1_score(y_test, y_pred))\n",
        "print(\"Area Under Curve (AUC):\", metrics.roc_auc_score(y_test, y_pred))"
      ],
      "metadata": {
        "colab": {
          "base_uri": "https://localhost:8080/"
        },
        "id": "S0ImhnnlJqIW",
        "outputId": "afd4b79a-2865-4987-b9aa-86ae3f34cebb"
      },
      "execution_count": 32,
      "outputs": [
        {
          "output_type": "stream",
          "name": "stdout",
          "text": [
            "Accuracy: 0.6986143187066974\n",
            "Precision: 0.8465909090909091\n",
            "Recall: 0.6869237217099748\n",
            "F1-score: 0.7584451642757983\n",
            "Area Under Curve (AUC): 0.7057067588141711\n"
          ]
        }
      ]
    }
  ]
}