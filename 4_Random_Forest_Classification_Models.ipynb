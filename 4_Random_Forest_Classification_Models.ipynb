{
  "cells": [
    {
      "cell_type": "markdown",
      "metadata": {
        "id": "view-in-github",
        "colab_type": "text"
      },
      "source": [
        "<a href=\"https://colab.research.google.com/github/YinYinTan/CIND820FinalProject/blob/main/4_Random_Forest_Classification_Models.ipynb\" target=\"_parent\"><img src=\"https://colab.research.google.com/assets/colab-badge.svg\" alt=\"Open In Colab\"/></a>"
      ]
    },
    {
      "cell_type": "markdown",
      "metadata": {
        "id": "ofVkrVUQdzpi"
      },
      "source": [
        "# Random Forest Classification Models"
      ]
    },
    {
      "cell_type": "code",
      "execution_count": 1,
      "metadata": {
        "id": "qULcocLREKTX"
      },
      "outputs": [],
      "source": [
        "import pandas as pd\n",
        "import numpy as np\n",
        "from imblearn.over_sampling import SMOTE\n",
        "from sklearn.ensemble import RandomForestClassifier\n",
        "from sklearn import metrics\n",
        "from sklearn.model_selection import RepeatedStratifiedKFold\n",
        "import matplotlib.pyplot as plt\n",
        "from sklearn.feature_selection import RFE\n",
        "import time"
      ]
    },
    {
      "cell_type": "code",
      "execution_count": 2,
      "metadata": {
        "id": "x2NItT3gdNOp"
      },
      "outputs": [],
      "source": [
        "#Read file\n",
        "df = pd.read_csv('3a. Working Dataset.csv', index_col=None)"
      ]
    },
    {
      "cell_type": "markdown",
      "metadata": {
        "id": "g9TAizYxQy3G"
      },
      "source": [
        "# 1. All Features in Working Dataset - Evaluation using Train-Test Split"
      ]
    },
    {
      "cell_type": "code",
      "execution_count": 20,
      "metadata": {
        "id": "dmarvx_-MKaI"
      },
      "outputs": [],
      "source": [
        "#Split dataframe, using 80% for training and 20% for testing\n",
        "from sklearn.model_selection import train_test_split\n",
        "\n",
        "X = df.drop(['Worse_MH'],axis=1)\n",
        "y = df['Worse_MH']\n",
        "\n",
        "X_train, X_test, y_train, y_test = train_test_split(X, y, test_size=0.2, random_state=888, stratify=y)"
      ]
    },
    {
      "cell_type": "code",
      "execution_count": 21,
      "metadata": {
        "colab": {
          "base_uri": "https://localhost:8080/"
        },
        "id": "fbEvfWsxEYPq",
        "outputId": "76330d7a-24e3-4bc9-8601-ff32f91ff29f"
      },
      "outputs": [
        {
          "output_type": "stream",
          "name": "stdout",
          "text": [
            "Accuracy: 0.7517321016166282\n",
            "Precision: 0.8331877729257642\n",
            "Recall: 0.7996647108130763\n",
            "F1-score: 0.8160821214713431\n",
            "Area Under Curve (AUC): 0.7226523925122894\n",
            "Brier Score: 0.24826789838337182\n",
            "Execution time in seconds: 3\n"
          ]
        }
      ],
      "source": [
        "#Apply Synthetic Minority Oversampling Technique (SMOTE) to training set to correct class imbalance\n",
        "smote = SMOTE(random_state = 888)\n",
        "X_train, y_train = smote.fit_resample(X_train, y_train)\n",
        "\n",
        "#Random forest classification model\n",
        "\n",
        "t1 = time.perf_counter() #time counter start\n",
        "\n",
        "model = RandomForestClassifier(random_state=888)\n",
        "model.fit(X_train, y_train)\n",
        "y_pred=model.predict(X_test)\n",
        "\n",
        "t2 = time.perf_counter() #time counter ends\n",
        "\n",
        "#Save results into dictionary\n",
        "rf_all_base = {'Accuracy':metrics.accuracy_score(y_test, y_pred), 'Precision':metrics.precision_score(y_test, y_pred),'Recall':metrics.recall_score(y_test, y_pred),\\\n",
        "          'F1-Score':metrics.f1_score(y_test, y_pred),'AUC':metrics.roc_auc_score(y_test, y_pred),'Brier Score':metrics.brier_score_loss(y_test, y_pred),'Execution Time (sec)':int(t2-t1)}\n",
        "\n",
        "#Evaluation of random forest classification model\n",
        "print(\"Accuracy:\", metrics.accuracy_score(y_test, y_pred))\n",
        "print(\"Precision:\", metrics.precision_score(y_test, y_pred))\n",
        "print(\"Recall:\", metrics.recall_score(y_test, y_pred))\n",
        "print(\"F1-score:\", metrics.f1_score(y_test, y_pred))\n",
        "print(\"Area Under Curve (AUC):\", metrics.roc_auc_score(y_test, y_pred))\n",
        "print(\"Brier Score:\", metrics.brier_score_loss(y_test, y_pred))\n",
        "print('Execution time in seconds:', int(t2-t1))"
      ]
    },
    {
      "cell_type": "markdown",
      "metadata": {
        "id": "duYTXmuG_p4u"
      },
      "source": [
        "# 2. All Features in Working Dataset - Hyperparameter Tuning"
      ]
    },
    {
      "cell_type": "markdown",
      "metadata": {
        "id": "zu3WG9hH-_vw"
      },
      "source": [
        "### 2.1 Random Search with Cross Validation\n",
        "In this section, a grid of hyperparameter ranges will be defined, and randomly sampled from the grid, where k-fold cross validation will be performed with each combination of values."
      ]
    },
    {
      "cell_type": "code",
      "execution_count": null,
      "metadata": {
        "colab": {
          "base_uri": "https://localhost:8080/"
        },
        "id": "VlKu7C3k5YdK",
        "outputId": "f81a29eb-28d3-4bca-fc30-573f4cca2ce1"
      },
      "outputs": [
        {
          "output_type": "stream",
          "name": "stdout",
          "text": [
            "Parameters currently in use:\n",
            "\n",
            "{'bootstrap': True,\n",
            " 'ccp_alpha': 0.0,\n",
            " 'class_weight': None,\n",
            " 'criterion': 'gini',\n",
            " 'max_depth': None,\n",
            " 'max_features': 'auto',\n",
            " 'max_leaf_nodes': None,\n",
            " 'max_samples': None,\n",
            " 'min_impurity_decrease': 0.0,\n",
            " 'min_samples_leaf': 1,\n",
            " 'min_samples_split': 2,\n",
            " 'min_weight_fraction_leaf': 0.0,\n",
            " 'n_estimators': 100,\n",
            " 'n_jobs': None,\n",
            " 'oob_score': False,\n",
            " 'random_state': 888,\n",
            " 'verbose': 0,\n",
            " 'warm_start': False}\n"
          ]
        }
      ],
      "source": [
        "from pprint import pprint\n",
        "\n",
        "#Look at parameters currently used by the model\n",
        "print('Parameters currently in use:\\n')\n",
        "pprint(model.get_params())"
      ]
    },
    {
      "cell_type": "markdown",
      "metadata": {
        "id": "8V8XA7Gl50wK"
      },
      "source": [
        "The following set of hyperparameters will be adjusted to narrow down the best combination of parameters:\n",
        "*   n_estimators = number of trees in the foreset\n",
        "*   max_features = max number of features considered for splitting a node\n",
        "*   max_depth = max number of levels in each decision tree\n",
        "*   min_samples_split = min number of data points placed in a node before the node is split\n",
        "*   min_samples_leaf = min number of data points allowed in a leaf node\n",
        "*   bootstrap = method for sampling data points (with or without replacement)"
      ]
    },
    {
      "cell_type": "code",
      "execution_count": null,
      "metadata": {
        "colab": {
          "base_uri": "https://localhost:8080/"
        },
        "id": "scIYgq3n5yf7",
        "outputId": "bf2065e7-5bc1-4e53-8e9f-67695c0050fc"
      },
      "outputs": [
        {
          "output_type": "stream",
          "name": "stdout",
          "text": [
            "{'bootstrap': [True, False],\n",
            " 'max_depth': [10, 20, 30, 40, 50],\n",
            " 'max_features': [2, 4, 6, 8, 10],\n",
            " 'min_samples_leaf': [1, 2, 4],\n",
            " 'min_samples_split': [2, 5, 10],\n",
            " 'n_estimators': [200, 288, 377, 466, 555, 644, 733, 822, 911, 1000]}\n"
          ]
        }
      ],
      "source": [
        "#Creation of a parameter grid to sample from during fitting. On each iteration, the algorithm will choose a different, random combination of parameter values.\n",
        "\n",
        "from sklearn.model_selection import RandomizedSearchCV\n",
        "\n",
        "# Number of trees in random forest\n",
        "n_estimators = [int(x) for x in np.linspace(start = 200, stop = 1000, num = 10)]\n",
        "\n",
        "# Number of features to consider at every split\n",
        "max_features = [2, 4, 6, 8, 10]\n",
        "\n",
        "# Maximum number of levels in tree\n",
        "max_depth = [10, 20, 30, 40, 50]\n",
        "\n",
        "# Minimum number of samples required to split a node\n",
        "min_samples_split = [2, 5, 10]\n",
        "\n",
        "# Minimum number of samples required at each leaf node\n",
        "min_samples_leaf = [1, 2, 4]\n",
        "\n",
        "# Method of selecting samples for training each tree\n",
        "bootstrap = [True, False]\n",
        "\n",
        "# Create the random grid\n",
        "random_grid = {'n_estimators': n_estimators,\n",
        "               'max_features': max_features,\n",
        "               'max_depth': max_depth,\n",
        "               'min_samples_split': min_samples_split,\n",
        "               'min_samples_leaf': min_samples_leaf,\n",
        "               'bootstrap': bootstrap}\n",
        "\n",
        "pprint(random_grid)"
      ]
    },
    {
      "cell_type": "code",
      "execution_count": null,
      "metadata": {
        "colab": {
          "base_uri": "https://localhost:8080/"
        },
        "id": "eXYWbga57b3z",
        "outputId": "247d0945-3a0d-4f35-c08f-8a6883f14e39"
      },
      "outputs": [
        {
          "metadata": {
            "tags": null
          },
          "name": "stdout",
          "output_type": "stream",
          "text": [
            "Fitting 3 folds for each of 50 candidates, totalling 150 fits\n"
          ]
        },
        {
          "metadata": {
            "tags": null
          },
          "name": "stderr",
          "output_type": "stream",
          "text": [
            "/usr/local/lib/python3.7/dist-packages/joblib/externals/loky/process_executor.py:705: UserWarning: A worker stopped while some jobs were given to the executor. This can be caused by a too short worker timeout or by a memory leak.\n",
            "  \"timeout or by a memory leak.\", UserWarning\n"
          ]
        },
        {
          "output_type": "execute_result",
          "data": {
            "text/plain": [
              "{'bootstrap': False,\n",
              " 'max_depth': 30,\n",
              " 'max_features': 8,\n",
              " 'min_samples_leaf': 1,\n",
              " 'min_samples_split': 5,\n",
              " 'n_estimators': 555}"
            ]
          },
          "metadata": {},
          "execution_count": 11
        }
      ],
      "source": [
        "#Using the random grid to search for best parameters\n",
        "\n",
        "#Create the base model to tune\n",
        "model = RandomForestClassifier(random_state=888)\n",
        "\n",
        "#Random search of parameters across 100 different combinations, using 3 fold cross validation\n",
        "model_random = RandomizedSearchCV(estimator = model, param_distributions = random_grid, n_iter = 50, cv = 3, scoring = 'recall', verbose=2, random_state=42, n_jobs = -1)\n",
        "\n",
        "#Fit the random search model\n",
        "model_random.fit(X_train, y_train)\n",
        "\n",
        "#View the best parameters from fitting the random search (based on model with the best recall)\n",
        "model_random.best_params_"
      ]
    },
    {
      "cell_type": "code",
      "execution_count": null,
      "metadata": {
        "colab": {
          "base_uri": "https://localhost:8080/"
        },
        "id": "1-d3wDrE9kGu",
        "outputId": "a2d5b584-95a1-4a56-e5d6-198795870409"
      },
      "outputs": [
        {
          "output_type": "stream",
          "name": "stdout",
          "text": [
            "Accuracy: 0.7560623556581986\n",
            "Precision: 0.8255175327418673\n",
            "Recall: 0.8189438390611903\n",
            "F1-score: 0.8222175468125394\n",
            "Area Under Curve (AUC): 0.7179134779721535\n",
            "Brier Score: 0.24393764434180137\n"
          ]
        }
      ],
      "source": [
        "#Evaluation of best model from random search\n",
        "best = model_random.best_estimator_\n",
        "y_pred=best.predict(X_test)\n",
        "\n",
        "print(\"Accuracy:\", metrics.accuracy_score(y_test, y_pred))\n",
        "print(\"Precision:\", metrics.precision_score(y_test, y_pred))\n",
        "print(\"Recall:\", metrics.recall_score(y_test, y_pred))\n",
        "print(\"F1-score:\", metrics.f1_score(y_test, y_pred))\n",
        "print(\"Area Under Curve (AUC):\", metrics.roc_auc_score(y_test, y_pred))\n",
        "print(\"Brier Score:\", metrics.brier_score_loss(y_test, y_pred))"
      ]
    },
    {
      "cell_type": "markdown",
      "metadata": {
        "id": "gm5d7menMdol"
      },
      "source": [
        "Compared to the default random forest parameters used in the prior \"All Features in Working Dataset - Evaluation using Train-Test Split\" section, the best model from the grid search only resulted in a 1.9% increase in Recall (the metric chosen for scoring).\n",
        "*   Accuracy increased by 0.4% and the F1-score increased by 0.6%, whereas the Precision, AUC, and Brier Score actually decreased by 0.8%, 0.5%, and 0.4% respectively.\n",
        "\n",
        "The best model found in the random search has the same values for 1 of the 6 parameters as the default model (i.e. min_samples_leaf = 1)."
      ]
    },
    {
      "cell_type": "markdown",
      "metadata": {
        "id": "joxQEDTQ_IOm"
      },
      "source": [
        "### 2.2 Grid Search with Cross Validation\n",
        "The random search above narrowed down the range for each hyperparameter. In this section, every combination of settings is defined."
      ]
    },
    {
      "cell_type": "code",
      "execution_count": null,
      "metadata": {
        "colab": {
          "base_uri": "https://localhost:8080/"
        },
        "id": "Ea7Vp_MD-1Dh",
        "outputId": "1c7c61be-7249-4398-f84f-45ed7027cbf0"
      },
      "outputs": [
        {
          "metadata": {
            "tags": null
          },
          "name": "stdout",
          "output_type": "stream",
          "text": [
            "Fitting 3 folds for each of 162 candidates, totalling 486 fits\n"
          ]
        },
        {
          "output_type": "execute_result",
          "data": {
            "text/plain": [
              "{'bootstrap': False,\n",
              " 'max_depth': 30,\n",
              " 'max_features': 7,\n",
              " 'min_samples_leaf': 1,\n",
              " 'min_samples_split': 5,\n",
              " 'n_estimators': 550}"
            ]
          },
          "metadata": {},
          "execution_count": 16
        }
      ],
      "source": [
        "from sklearn.model_selection import GridSearchCV\n",
        "\n",
        "#Create the parameter grid based on the results of previous random search. This will try out 1 * 3 * 3 * 2 * 3 * 3 = 162 combinations of settings.\n",
        "param_grid = {\n",
        "    'bootstrap': [False],\n",
        "    'max_depth': [25, 30, 35],\n",
        "    'max_features': [7, 8, 9],\n",
        "    'min_samples_leaf': [1, 2],\n",
        "    'min_samples_split': [4, 5, 6],\n",
        "    'n_estimators': [500, 550, 600]\n",
        "}\n",
        "\n",
        "#Create the base model to tune\n",
        "model = RandomForestClassifier(random_state=888)\n",
        "\n",
        "#Instantiate the grid search model\n",
        "grid_search = GridSearchCV(estimator = model, param_grid = param_grid, cv = 3, scoring = 'recall', n_jobs = -1, verbose = 2)\n",
        "\n",
        "#Fit the grid search model\n",
        "grid_search.fit(X_train, y_train)\n",
        "\n",
        "#View the best parameters from fitting the grid search (based on model with the best recall)\n",
        "grid_search.best_params_"
      ]
    },
    {
      "cell_type": "code",
      "execution_count": null,
      "metadata": {
        "colab": {
          "base_uri": "https://localhost:8080/"
        },
        "id": "9U_mq3VmBcTD",
        "outputId": "a889988c-77c9-4e23-bb45-9cd70ebfd209"
      },
      "outputs": [
        {
          "output_type": "stream",
          "name": "stdout",
          "text": [
            "Accuracy: 0.7592378752886836\n",
            "Precision: 0.8268744734625105\n",
            "Recall: 0.8227158424140821\n",
            "F1-score: 0.8247899159663865\n",
            "Area Under Curve (AUC): 0.7207271234333863\n",
            "Brier Score: 0.2407621247113164\n"
          ]
        }
      ],
      "source": [
        "#Evaluate performance of best model from grid search\n",
        "best = grid_search.best_estimator_\n",
        "y_pred=best.predict(X_test)\n",
        "\n",
        "print(\"Accuracy:\", metrics.accuracy_score(y_test, y_pred))\n",
        "print(\"Precision:\", metrics.precision_score(y_test, y_pred))\n",
        "print(\"Recall:\", metrics.recall_score(y_test, y_pred))\n",
        "print(\"F1-score:\", metrics.f1_score(y_test, y_pred))\n",
        "print(\"Area Under Curve (AUC):\", metrics.roc_auc_score(y_test, y_pred))\n",
        "print(\"Brier Score:\", metrics.brier_score_loss(y_test, y_pred))"
      ]
    },
    {
      "cell_type": "markdown",
      "metadata": {
        "id": "cfXclwtMUzVk"
      },
      "source": [
        "Compared to the default random forest parameters used in the prior \"All Features in Working Dataset - Evaluation using Train-Test Split\" section, the best model from the random search only resulted in a 2.3% increase in Recall (the metric chosen for scoring).\n",
        "*   Accuracy increased by 0.9% and the F1-score increased by 0.9%, whereas the Precision, AUC, and Brier Score actually decreased by 0.6%, 0.2%, and 0.8% respectively.\n",
        "\n",
        "The best model found in the grid search has the same value for 1 of the 6 parameters as the default model (i.e. min_samples_leaf = 1)."
      ]
    },
    {
      "cell_type": "markdown",
      "metadata": {
        "id": "FU8T_RVC5Hab"
      },
      "source": [
        "# 3. All Features in Working Dataset, Using Parameters from Grid Search - Evaluation using Repeated 10-fold Cross Validation"
      ]
    },
    {
      "cell_type": "code",
      "execution_count": 5,
      "metadata": {
        "id": "oxghPk-35Haj"
      },
      "outputs": [],
      "source": [
        "X = df.drop(['Worse_MH'],axis=1)\n",
        "y = df['Worse_MH']"
      ]
    },
    {
      "cell_type": "code",
      "execution_count": 6,
      "metadata": {
        "id": "UIkjlOBt5Hak",
        "colab": {
          "base_uri": "https://localhost:8080/"
        },
        "outputId": "e48ba26b-1cc5-4ef6-fe32-32e12e8100af"
      },
      "outputs": [
        {
          "output_type": "stream",
          "name": "stdout",
          "text": [
            "Accuracy: 0.7569332428758021\n",
            "Precision: 0.8283452469587776\n",
            "Recall: 0.8163572789444765\n",
            "F1-score: 0.8222505685914855\n",
            "Area Under Curve (AUC): 0.7208873593238152\n",
            "Brier Score: 0.24306675712419765\n",
            "Execution time in seconds: 21.255816308700027\n"
          ]
        }
      ],
      "source": [
        "from sklearn.model_selection import RepeatedStratifiedKFold\n",
        "\n",
        "#Set cross-validation to 10-folds, repeated 3 times\n",
        "folds = 10\n",
        "repeats = 3\n",
        "rkf = RepeatedStratifiedKFold(n_splits=folds, n_repeats=repeats, random_state=888)\n",
        "\n",
        "#Random forest classification model\n",
        "model = RandomForestClassifier(bootstrap='False', max_depth=30, max_features=7, min_samples_leaf=1, min_samples_split=5, n_estimators=550, random_state=888)\n",
        "\n",
        "#Performance metrics\n",
        "accuracy = precision = recall = f1 = auc = brier = ex_time = 0\n",
        "\n",
        "for train_index, test_index in rkf.split(X, y):\n",
        "  X_train, X_test = X.iloc[train_index], X.iloc[test_index]\n",
        "  y_train, y_test = y.iloc[train_index], y.iloc[test_index]\n",
        "\n",
        "  #Apply Synthetic Minority Oversampling Technique (SMOTE) to training set to correct class imbalance\n",
        "  smote = SMOTE(random_state = 888)\n",
        "  X_train, y_train = smote.fit_resample(X_train, y_train)\n",
        "\n",
        "  t1 = time.perf_counter() #time counter start\n",
        "\n",
        "  model.fit(X_train, y_train)\n",
        "  y_pred=model.predict(X_test)\n",
        "\n",
        "  t2 = time.perf_counter() #time counter ends\n",
        "\n",
        "  accuracy = accuracy + metrics.accuracy_score(y_test, y_pred)\n",
        "  precision = precision + metrics.precision_score(y_test, y_pred)\n",
        "  recall = recall + metrics.recall_score(y_test, y_pred)\n",
        "  f1 = f1 + metrics.f1_score(y_test, y_pred)\n",
        "  auc = auc + metrics.roc_auc_score(y_test, y_pred)\n",
        "  brier = brier + metrics.brier_score_loss(y_test, y_pred)\n",
        "  ex_time = ex_time + t2-t1\n",
        "\n",
        "#Save results into dictionary\n",
        "rf_all_tuned = {'Accuracy':accuracy/(folds*repeats), 'Precision':precision/(folds*repeats),'Recall':recall/(folds*repeats),\\\n",
        "          'F1-Score':f1/(folds*repeats),'AUC':auc/(folds*repeats),'Brier Score':brier/(folds*repeats),'Execution Time (sec)':ex_time/(folds*repeats)}\n",
        "\n",
        "#Evaluation of random forest classification model\n",
        "print(\"Accuracy:\", accuracy/(folds*repeats))\n",
        "print(\"Precision:\", precision/(folds*repeats))\n",
        "print(\"Recall:\", recall/(folds*repeats))\n",
        "print(\"F1-score:\", f1/(folds*repeats))\n",
        "print(\"Area Under Curve (AUC):\", auc/(folds*repeats))\n",
        "print(\"Brier Score:\", brier/(folds*repeats))\n",
        "print('Execution time in seconds:', ex_time/(folds*repeats))"
      ]
    },
    {
      "cell_type": "markdown",
      "metadata": {
        "id": "sJ0GaV2p_-_p"
      },
      "source": [
        "# 4A. Selected Features - Filter Method"
      ]
    },
    {
      "cell_type": "markdown",
      "metadata": {
        "id": "jDNqtF89m3xB"
      },
      "source": [
        "## 4A.1 Top Features Ranked by Importance"
      ]
    },
    {
      "cell_type": "code",
      "execution_count": 7,
      "metadata": {
        "id": "K0kI7wzsBz8b"
      },
      "outputs": [],
      "source": [
        "#Identify top features based on model above\n",
        "feature_names = df.drop(['Worse_MH'],axis=1).columns\n",
        "\n",
        "feature_imp = pd.Series(model.feature_importances_,index=feature_names).sort_values(ascending=False)"
      ]
    },
    {
      "cell_type": "code",
      "execution_count": 8,
      "metadata": {
        "colab": {
          "base_uri": "https://localhost:8080/",
          "height": 0
        },
        "id": "YM5hdPAjDLmn",
        "outputId": "e9d63e62-577d-4642-afc0-07b208f6e3de"
      },
      "outputs": [
        {
          "output_type": "display_data",
          "data": {
            "image/png": "[encoded data removed]",
            "text/plain": [
              "<Figure size 432x288 with 1 Axes>"
            ]
          },
          "metadata": {
            "needs_background": "light"
          }
        }
      ],
      "source": [
        "#Plot features in terms of importance\n",
        "import seaborn as sns\n",
        "\n",
        "%matplotlib inline\n",
        "# Creating a bar plot\n",
        "sns.barplot(x=feature_imp, y=feature_imp.index)\n",
        "# Add labels to your graph\n",
        "plt.xlabel('Feature Importance Score')\n",
        "plt.ylabel('Features')\n",
        "plt.title(\"Visualizing Important Features\")\n",
        "plt.show()"
      ]
    },
    {
      "cell_type": "markdown",
      "source": [
        "After the top 17 features, the importance of the remaining features tapers off at a steady rate."
      ],
      "metadata": {
        "id": "6_I1BSM2qxTQ"
      }
    },
    {
      "cell_type": "code",
      "source": [
        "#Plot top 17 features in terms of importance\n",
        "\n",
        "feature_imp = feature_imp[:17]\n",
        "%matplotlib inline\n",
        "# Creating a bar plot\n",
        "sns.barplot(x=feature_imp, y=feature_imp.index)\n",
        "# Add labels to your graph\n",
        "plt.xlabel('Feature Importance Score')\n",
        "plt.ylabel('Features')\n",
        "plt.title(\"Visualizing Important Features\")\n",
        "plt.show()"
      ],
      "metadata": {
        "colab": {
          "base_uri": "https://localhost:8080/",
          "height": 0
        },
        "id": "TBkdGBeirMFL",
        "outputId": "ca8bd40c-bd7b-4b54-c776-b15a572ff6ca"
      },
      "execution_count": 9,
      "outputs": [
        {
          "output_type": "display_data",
          "data": {
            "image/png": "[encoded data removed]",
            "text/plain": [
              "<Figure size 432x288 with 1 Axes>"
            ]
          },
          "metadata": {
            "needs_background": "light"
          }
        }
      ]
    },
    {
      "cell_type": "markdown",
      "metadata": {
        "id": "8GQ7eAJts4XL"
      },
      "source": [
        "## 4A.2 Top 1 to 20 Features - Filter Method\n",
        "Based on the bar graph above, it was decided to build random forest models using only the top 1 to 20 features to compare performance."
      ]
    },
    {
      "cell_type": "code",
      "execution_count": 10,
      "metadata": {
        "id": "0jcbKYH2HVd7"
      },
      "outputs": [],
      "source": [
        "#Build classification model using 1 to 20 of the top features and compare performance on Recall\n",
        "\n",
        "recall_test = []\n",
        "\n",
        "for n in range(1, 21):\n",
        "  #Obtain names of top n variables\n",
        "  top = feature_imp[:n].index\n",
        "\n",
        "  #Split dataframe, using 80% for training and 20% for testing\n",
        "  #Only select top n variables for X\n",
        "  X = df.loc[:,top]\n",
        "  y = df['Worse_MH']\n",
        "  X_train, X_test, y_train, y_test = train_test_split(X, y, test_size=0.2, random_state=888, stratify=y)\n",
        "\n",
        "  #Apply Synthetic Minority Oversampling Technique (SMOTE) to training set to correct class imbalance\n",
        "  smote = SMOTE(random_state = 888)\n",
        "  X_train, y_train = smote.fit_resample(X_train, y_train)\n",
        "\n",
        "  #Random forest classification model, using the parameters identified during hyperparameter tuning, except for max_features\n",
        "  model = RandomForestClassifier(bootstrap='False', max_depth=30, min_samples_leaf=1, min_samples_split=5, n_estimators=550, random_state=888)\n",
        "  model.fit(X_train, y_train)\n",
        "  y_pred=model.predict(X_test)\n",
        "\n",
        "  #Save results into list\n",
        "  recall_test.append(metrics.recall_score(y_test, y_pred))"
      ]
    },
    {
      "cell_type": "code",
      "source": [
        "#Plot recall scores against number of features used\n",
        "plt.plot(range(1,21), recall_test, marker='o')\n",
        "plt.ylabel('Recall Score')\n",
        "plt.xlabel('Number of Features')\n",
        "plt.show()"
      ],
      "metadata": {
        "colab": {
          "base_uri": "https://localhost:8080/",
          "height": 0
        },
        "id": "DihJZArvw_eH",
        "outputId": "55069b74-e322-4f08-c4a2-af437acb0742"
      },
      "execution_count": 11,
      "outputs": [
        {
          "output_type": "display_data",
          "data": {
            "image/png": "[encoded data removed]",
            "text/plain": [
              "<Figure size 432x288 with 1 Axes>"
            ]
          },
          "metadata": {
            "needs_background": "light"
          }
        }
      ]
    },
    {
      "cell_type": "markdown",
      "metadata": {
        "id": "4fD6ecliZ4fO"
      },
      "source": [
        "Based on the plot above, it appears that model performance is more unstable when less than 8 features are used, and then it generally increases thereafter, reaching a plateau when 15 features are used. That said, Recall only increases by 2% from using 8 features to 15 features.\n",
        "*   During previous hyperparameter tuning, only the use of up 10 features was selected to test, where the best model found used 7 features. Based on the plot above, results would likely have differed if a higher number of features had been selected to test.\n",
        "\n"
      ]
    },
    {
      "cell_type": "markdown",
      "metadata": {
        "id": "asxAnAY_WvIG"
      },
      "source": [
        "## 4A.3 Top 11 Features, Filter Method - Evaluation using Repeated 10-fold Cross Validation\n",
        "Based on the results above, it was decided to build a random forest model using the top 11 features."
      ]
    },
    {
      "cell_type": "code",
      "execution_count": 12,
      "metadata": {
        "id": "04Dt9u07WvIQ"
      },
      "outputs": [],
      "source": [
        "#Obtain names of top 11 variables\n",
        "top_eleven = feature_imp[:11].index\n",
        "top_eleven\n",
        "\n",
        "#Only select top 11 variables for X\n",
        "X = df.loc[:,top_eleven]\n",
        "y = df['Worse_MH']"
      ]
    },
    {
      "cell_type": "code",
      "execution_count": 13,
      "metadata": {
        "colab": {
          "base_uri": "https://localhost:8080/"
        },
        "id": "lKxGcX4HaZc4",
        "outputId": "87dc799d-0210-4795-fbf0-a190544054f2"
      },
      "outputs": [
        {
          "output_type": "stream",
          "name": "stdout",
          "text": [
            "Accuracy: 0.7388996290529666\n",
            "Precision: 0.8335068075953681\n",
            "Recall: 0.7760083522261666\n",
            "F1-score: 0.8036774579611449\n",
            "Area Under Curve (AUC): 0.7163900759275545\n",
            "Brier Score: 0.26110037094703337\n",
            "Execution time in seconds: 10.251541886133335\n"
          ]
        }
      ],
      "source": [
        "#Set cross-validation to 10-folds, repeated 3 times\n",
        "folds = 10\n",
        "repeats = 3\n",
        "rkf = RepeatedStratifiedKFold(n_splits=folds, n_repeats=repeats, random_state=888)\n",
        "\n",
        "#Random forest classification model, using the parameters identified during hyperparameter tuning, except for max_features\n",
        "model = RandomForestClassifier(bootstrap='False', max_depth=30, min_samples_leaf=1, min_samples_split=5, n_estimators=550, random_state=888)\n",
        "\n",
        "#Performance metrics\n",
        "accuracy = precision = recall = f1 = auc = brier = ex_time = 0\n",
        "\n",
        "for train_index, test_index in rkf.split(X, y):\n",
        "  X_train, X_test = X.iloc[train_index], X.iloc[test_index]\n",
        "  y_train, y_test = y.iloc[train_index], y.iloc[test_index]\n",
        "\n",
        "  #Apply Synthetic Minority Oversampling Technique (SMOTE) to training set to correct class imbalance\n",
        "  smote = SMOTE(random_state = 888)\n",
        "  X_train, y_train = smote.fit_resample(X_train, y_train)\n",
        "\n",
        "  t1 = time.perf_counter() #time counter start\n",
        "\n",
        "  model.fit(X_train, y_train)\n",
        "  y_pred=model.predict(X_test)\n",
        "\n",
        "  t2 = time.perf_counter() #time counter ends\n",
        "\n",
        "  accuracy = accuracy + metrics.accuracy_score(y_test, y_pred)\n",
        "  precision = precision + metrics.precision_score(y_test, y_pred)\n",
        "  recall = recall + metrics.recall_score(y_test, y_pred)\n",
        "  f1 = f1 + metrics.f1_score(y_test, y_pred)\n",
        "  auc = auc + metrics.roc_auc_score(y_test, y_pred)\n",
        "  brier = brier + metrics.brier_score_loss(y_test, y_pred)\n",
        "  ex_time = ex_time + t2-t1\n",
        "\n",
        "#Save results into dictionary\n",
        "rf_eleven_features_filter = {'Accuracy':accuracy/(folds*repeats), 'Precision':precision/(folds*repeats),'Recall':recall/(folds*repeats),\\\n",
        "          'F1-Score':f1/(folds*repeats),'AUC':auc/(folds*repeats),'Brier Score':brier/(folds*repeats),'Execution Time (sec)':ex_time/(folds*repeats)}\n",
        "\n",
        "#Evaluation of random forest classification model\n",
        "print(\"Accuracy:\", accuracy/(folds*repeats))\n",
        "print(\"Precision:\", precision/(folds*repeats))\n",
        "print(\"Recall:\", recall/(folds*repeats))\n",
        "print(\"F1-score:\", f1/(folds*repeats))\n",
        "print(\"Area Under Curve (AUC):\", auc/(folds*repeats))\n",
        "print(\"Brier Score:\", brier/(folds*repeats))\n",
        "print('Execution time in seconds:', ex_time/(folds*repeats))"
      ]
    },
    {
      "cell_type": "markdown",
      "metadata": {
        "id": "-BLzkAIPL13c"
      },
      "source": [
        "# 4B. 7 Selected Features using Recursive Feature Elimination (RFE) - Wrapper Method\n",
        "The model obtained in section 4A.3, which used the top 11 features, did not perform as well as the base model or the tuned model in sections 1 (all features) and 3 (max features to consider at each split = 7). Thus, it was decided to try building a model using RFE with only 7 features.\n",
        "\n"
      ]
    },
    {
      "cell_type": "code",
      "execution_count": 16,
      "metadata": {
        "id": "AXhqkw7tMcG0"
      },
      "outputs": [],
      "source": [
        "X = df.drop(['Worse_MH'],axis=1)\n",
        "y = df['Worse_MH']"
      ]
    },
    {
      "cell_type": "code",
      "execution_count": 17,
      "metadata": {
        "id": "ZOMEadLPMdzr",
        "colab": {
          "base_uri": "https://localhost:8080/"
        },
        "outputId": "ac8167cc-b182-430a-c6e2-4a7ebfa7fda6"
      },
      "outputs": [
        {
          "output_type": "stream",
          "name": "stdout",
          "text": [
            "Accuracy: 0.7085282060165138\n",
            "Precision: 0.8335406901300134\n",
            "Recall: 0.7207646178807824\n",
            "F1-score: 0.7730237647090923\n",
            "Area Under Curve (AUC): 0.7011056449549233\n",
            "Brier Score: 0.2914717939834863\n",
            "Execution time in seconds: 583.1915418246672\n"
          ]
        }
      ],
      "source": [
        "#Random forest classification model with RFE for 7 features\n",
        "\n",
        "#Set cross-validation to 5-folds, repeated 3 times\n",
        "folds = 5\n",
        "repeats = 3\n",
        "rkf = RepeatedStratifiedKFold(n_splits=folds, n_repeats=repeats, random_state=888)\n",
        "\n",
        "#Random forest classification model, using the parameters identified during hyperparameter tuning, except for max_features.\n",
        "'''\n",
        "Execution of this cell was interrupted after 6 hours, when it was still not yet finished.\n",
        "Thus, to reduce computational time, n_estimators (corresponding to the number of trees) was reduced from 550 to 100.\n",
        "This seemed reasonable considering that the performance of the tuned models was only slightly better than the original base model, where n_estimators=100.\n",
        "The number of folds during cross-validation was also reduced from 10 to 5.\n",
        "'''\n",
        "\n",
        "model = RandomForestClassifier(bootstrap='False', max_depth=30, min_samples_leaf=1, min_samples_split=5, n_estimators=100, random_state=888)\n",
        "\n",
        "#Performance metrics\n",
        "accuracy = precision = recall = f1 = auc = brier = ex_time = 0\n",
        "\n",
        "for train_index, test_index in rkf.split(X, y):\n",
        "  X_train, X_test = X.iloc[train_index], X.iloc[test_index]\n",
        "  y_train, y_test = y.iloc[train_index], y.iloc[test_index]\n",
        "\n",
        "  #Apply Synthetic Minority Oversampling Technique (SMOTE) to training set to correct class imbalance\n",
        "  smote = SMOTE(random_state = 888)\n",
        "  X_train, y_train = smote.fit_resample(X_train, y_train)\n",
        "\n",
        "  t1 = time.perf_counter() #time counter start\n",
        "\n",
        "  model = RandomForestClassifier(bootstrap='False', max_depth=30, min_samples_leaf=1, min_samples_split=5, n_estimators=550, random_state=888)\n",
        "\n",
        "  #7 chosen as the number of features\n",
        "  rfe = RFE(estimator=model, n_features_to_select=7) \n",
        "  rfe_fitted = rfe.fit(X_train, y_train)\n",
        "\n",
        "  y_pred=rfe_fitted.predict(X_test)\n",
        "\n",
        "  t2 = time.perf_counter() #time counter ends\n",
        "\n",
        "  accuracy = accuracy + metrics.accuracy_score(y_test, y_pred)\n",
        "  precision = precision + metrics.precision_score(y_test, y_pred)\n",
        "  recall = recall + metrics.recall_score(y_test, y_pred)\n",
        "  f1 = f1 + metrics.f1_score(y_test, y_pred)\n",
        "  auc = auc + metrics.roc_auc_score(y_test, y_pred)\n",
        "  brier = brier + metrics.brier_score_loss(y_test, y_pred)\n",
        "  ex_time = ex_time + t2-t1\n",
        "\n",
        "#Save results into dictionary\n",
        "rf_seven_features_rfe = {'Accuracy':accuracy/(folds*repeats), 'Precision':precision/(folds*repeats),'Recall':recall/(folds*repeats),\\\n",
        "          'F1-Score':f1/(folds*repeats),'AUC':auc/(folds*repeats),'Brier Score':brier/(folds*repeats),'Execution Time (sec)':ex_time/(folds*repeats)}\n",
        "\n",
        "#Evaluation of random forest classification model\n",
        "print(\"Accuracy:\", accuracy/(folds*repeats))\n",
        "print(\"Precision:\", precision/(folds*repeats))\n",
        "print(\"Recall:\", recall/(folds*repeats))\n",
        "print(\"F1-score:\", f1/(folds*repeats))\n",
        "print(\"Area Under Curve (AUC):\", auc/(folds*repeats))\n",
        "print(\"Brier Score:\", brier/(folds*repeats))\n",
        "print('Execution time in seconds:', ex_time/(folds*repeats))"
      ]
    },
    {
      "cell_type": "markdown",
      "metadata": {
        "id": "o-gMsEa1Xgno"
      },
      "source": [
        "# 5. Comparison of Models"
      ]
    },
    {
      "cell_type": "code",
      "execution_count": 22,
      "metadata": {
        "colab": {
          "base_uri": "https://localhost:8080/",
          "height": 175
        },
        "id": "F5_U_uSHXlO6",
        "outputId": "d231ac7f-a20a-4220-9f86-91d3e940aa44"
      },
      "outputs": [
        {
          "output_type": "execute_result",
          "data": {
            "text/html": [
              "\n",
              "  <div id=\"df-9bb32f1a-79e2-4e06-91ea-4f648f0ecaa1\">\n",
              "    <div class=\"colab-df-container\">\n",
              "      <div>\n",
              "<style scoped>\n",
              "    .dataframe tbody tr th:only-of-type {\n",
              "        vertical-align: middle;\n",
              "    }\n",
              "\n",
              "    .dataframe tbody tr th {\n",
              "        vertical-align: top;\n",
              "    }\n",
              "\n",
              "    .dataframe thead th {\n",
              "        text-align: right;\n",
              "    }\n",
              "</style>\n",
              "<table border=\"1\" class=\"dataframe\">\n",
              "  <thead>\n",
              "    <tr style=\"text-align: right;\">\n",
              "      <th></th>\n",
              "      <th>Accuracy</th>\n",
              "      <th>Precision</th>\n",
              "      <th>Recall</th>\n",
              "      <th>F1-Score</th>\n",
              "      <th>AUC</th>\n",
              "      <th>Brier Score</th>\n",
              "      <th>Execution Time (sec)</th>\n",
              "    </tr>\n",
              "  </thead>\n",
              "  <tbody>\n",
              "    <tr>\n",
              "      <th>RF All Features - Base</th>\n",
              "      <td>0.751732</td>\n",
              "      <td>0.833188</td>\n",
              "      <td>0.799665</td>\n",
              "      <td>0.816082</td>\n",
              "      <td>0.722652</td>\n",
              "      <td>0.248268</td>\n",
              "      <td>3.000000</td>\n",
              "    </tr>\n",
              "    <tr>\n",
              "      <th>RF All Features - Tuned</th>\n",
              "      <td>0.756933</td>\n",
              "      <td>0.828345</td>\n",
              "      <td>0.816357</td>\n",
              "      <td>0.822251</td>\n",
              "      <td>0.720887</td>\n",
              "      <td>0.243067</td>\n",
              "      <td>21.255816</td>\n",
              "    </tr>\n",
              "    <tr>\n",
              "      <th>RF 11 Features - Filter</th>\n",
              "      <td>0.738900</td>\n",
              "      <td>0.833507</td>\n",
              "      <td>0.776008</td>\n",
              "      <td>0.803677</td>\n",
              "      <td>0.716390</td>\n",
              "      <td>0.261100</td>\n",
              "      <td>10.251542</td>\n",
              "    </tr>\n",
              "    <tr>\n",
              "      <th>RF 7 Features - RFE</th>\n",
              "      <td>0.708528</td>\n",
              "      <td>0.833541</td>\n",
              "      <td>0.720765</td>\n",
              "      <td>0.773024</td>\n",
              "      <td>0.701106</td>\n",
              "      <td>0.291472</td>\n",
              "      <td>583.191542</td>\n",
              "    </tr>\n",
              "  </tbody>\n",
              "</table>\n",
              "</div>\n",
              "      <button class=\"colab-df-convert\" onclick=\"convertToInteractive('df-9bb32f1a-79e2-4e06-91ea-4f648f0ecaa1')\"\n",
              "              title=\"Convert this dataframe to an interactive table.\"\n",
              "              style=\"display:none;\">\n",
              "        \n",
              "  <svg xmlns=\"http://www.w3.org/2000/svg\" height=\"24px\"viewBox=\"0 0 24 24\"\n",
              "       width=\"24px\">\n",
              "    <path d=\"M0 0h24v24H0V0z\" fill=\"none\"/>\n",
              "    <path d=\"M18.56 5.44l.94 2.06.94-2.06 2.06-.94-2.06-.94-.94-2.06-.94 2.06-2.06.94zm-11 1L8.5 8.5l.94-2.06 2.06-.94-2.06-.94L8.5 2.5l-.94 2.06-2.06.94zm10 10l.94 2.06.94-2.06 2.06-.94-2.06-.94-.94-2.06-.94 2.06-2.06.94z\"/><path d=\"M17.41 7.96l-1.37-1.37c-.4-.4-.92-.59-1.43-.59-.52 0-1.04.2-1.43.59L10.3 9.45l-7.72 7.72c-.78.78-.78 2.05 0 2.83L4 21.41c.39.39.9.59 1.41.59.51 0 1.02-.2 1.41-.59l7.78-7.78 2.81-2.81c.8-.78.8-2.07 0-2.86zM5.41 20L4 18.59l7.72-7.72 1.47 1.35L5.41 20z\"/>\n",
              "  </svg>\n",
              "      </button>\n",
              "      \n",
              "  <style>\n",
              "    .colab-df-container {\n",
              "      display:flex;\n",
              "      flex-wrap:wrap;\n",
              "      gap: 12px;\n",
              "    }\n",
              "\n",
              "    .colab-df-convert {\n",
              "      background-color: #E8F0FE;\n",
              "      border: none;\n",
              "      border-radius: 50%;\n",
              "      cursor: pointer;\n",
              "      display: none;\n",
              "      fill: #1967D2;\n",
              "      height: 32px;\n",
              "      padding: 0 0 0 0;\n",
              "      width: 32px;\n",
              "    }\n",
              "\n",
              "    .colab-df-convert:hover {\n",
              "      background-color: #E2EBFA;\n",
              "      box-shadow: 0px 1px 2px rgba(60, 64, 67, 0.3), 0px 1px 3px 1px rgba(60, 64, 67, 0.15);\n",
              "      fill: #174EA6;\n",
              "    }\n",
              "\n",
              "    [theme=dark] .colab-df-convert {\n",
              "      background-color: #3B4455;\n",
              "      fill: #D2E3FC;\n",
              "    }\n",
              "\n",
              "    [theme=dark] .colab-df-convert:hover {\n",
              "      background-color: #434B5C;\n",
              "      box-shadow: 0px 1px 3px 1px rgba(0, 0, 0, 0.15);\n",
              "      filter: drop-shadow(0px 1px 2px rgba(0, 0, 0, 0.3));\n",
              "      fill: #FFFFFF;\n",
              "    }\n",
              "  </style>\n",
              "\n",
              "      <script>\n",
              "        const buttonEl =\n",
              "          document.querySelector('#df-9bb32f1a-79e2-4e06-91ea-4f648f0ecaa1 button.colab-df-convert');\n",
              "        buttonEl.style.display =\n",
              "          google.colab.kernel.accessAllowed ? 'block' : 'none';\n",
              "\n",
              "        async function convertToInteractive(key) {\n",
              "          const element = document.querySelector('#df-9bb32f1a-79e2-4e06-91ea-4f648f0ecaa1');\n",
              "          const dataTable =\n",
              "            await google.colab.kernel.invokeFunction('convertToInteractive',\n",
              "                                                     [key], {});\n",
              "          if (!dataTable) return;\n",
              "\n",
              "          const docLinkHtml = 'Like what you see? Visit the ' +\n",
              "            '<a target=\"_blank\" href=https://colab.research.google.com/notebooks/data_table.ipynb>data table notebook</a>'\n",
              "            + ' to learn more about interactive tables.';\n",
              "          element.innerHTML = '';\n",
              "          dataTable['output_type'] = 'display_data';\n",
              "          await google.colab.output.renderOutput(dataTable, element);\n",
              "          const docLink = document.createElement('div');\n",
              "          docLink.innerHTML = docLinkHtml;\n",
              "          element.appendChild(docLink);\n",
              "        }\n",
              "      </script>\n",
              "    </div>\n",
              "  </div>\n",
              "  "
            ],
            "text/plain": [
              "                         Accuracy  Precision    Recall  F1-Score       AUC  \\\n",
              "RF All Features - Base   0.751732   0.833188  0.799665  0.816082  0.722652   \n",
              "RF All Features - Tuned  0.756933   0.828345  0.816357  0.822251  0.720887   \n",
              "RF 11 Features - Filter  0.738900   0.833507  0.776008  0.803677  0.716390   \n",
              "RF 7 Features - RFE      0.708528   0.833541  0.720765  0.773024  0.701106   \n",
              "\n",
              "                         Brier Score  Execution Time (sec)  \n",
              "RF All Features - Base      0.248268              3.000000  \n",
              "RF All Features - Tuned     0.243067             21.255816  \n",
              "RF 11 Features - Filter     0.261100             10.251542  \n",
              "RF 7 Features - RFE         0.291472            583.191542  "
            ]
          },
          "metadata": {},
          "execution_count": 22
        }
      ],
      "source": [
        "#Combine performance metrics for all models into one dataframe\n",
        "comparison = pd.DataFrame([rf_all_base, rf_all_tuned, rf_eleven_features_filter, rf_seven_features_rfe], index=['RF All Features - Base','RF All Features - Tuned','RF 11 Features - Filter','RF 7 Features - RFE'])\n",
        "comparison"
      ]
    },
    {
      "cell_type": "markdown",
      "metadata": {
        "id": "gsxLJXpE85p9"
      },
      "source": [
        "'RF All Features - Tuned', the random forest model using all features and the parameters identified during hyperparameter tuning, had the best Accuracy, Recall, F1-Score, and Brier Score, with a reasonable execution time of 10 seconds. It had the second best Precision and AUC, which was extremely close to the best scores achieves by the 'RF All Features - Base' model."
      ]
    },
    {
      "cell_type": "markdown",
      "metadata": {
        "id": "_NNehIPfbl-s"
      },
      "source": [
        "# 6. Stability of Best Model by Varying k-folds for Cross Validation"
      ]
    },
    {
      "cell_type": "markdown",
      "source": [
        "The stability of the best model identified above was tested by performing repeated k-folds cross-validation, with values of k from 3 to 15."
      ],
      "metadata": {
        "id": "UB4q5YNU1wN8"
      }
    },
    {
      "cell_type": "code",
      "execution_count": 23,
      "metadata": {
        "id": "d9QaiTshb7V_",
        "colab": {
          "base_uri": "https://localhost:8080/",
          "height": 280
        },
        "outputId": "5dee0fa2-fe55-4c50-c15d-6751ad7d0cce"
      },
      "outputs": [
        {
          "output_type": "display_data",
          "data": {
            "image/png": "[encoded data removed]",
            "text/plain": [
              "<Figure size 432x288 with 1 Axes>"
            ]
          },
          "metadata": {
            "needs_background": "light"
          }
        }
      ],
      "source": [
        "recall_test = []\n",
        "\n",
        "for k in range(3, 16):\n",
        "  #Set cross-validation to k-folds, repeated 3 times\n",
        "  repeats = 3\n",
        "  rkf = RepeatedStratifiedKFold(n_splits=k, n_repeats=3, random_state=888)\n",
        "\n",
        "  #Best random forest classification model identified in section 5, 'RF All Features - Tuned'\n",
        "  model = RandomForestClassifier(bootstrap='False', max_depth=30, min_samples_leaf=1, min_samples_split=5, n_estimators=550, random_state=888)\n",
        "\n",
        "  #Performance metrics\n",
        "  recall = 0\n",
        "\n",
        "  for train_index, test_index in rkf.split(X, y):\n",
        "    X_train, X_test = X.iloc[train_index], X.iloc[test_index]\n",
        "    y_train, y_test = y.iloc[train_index], y.iloc[test_index]\n",
        "\n",
        "    #Apply Synthetic Minority Oversampling Technique (SMOTE) to training set to correct class imbalance\n",
        "    smote = SMOTE(random_state = 888)\n",
        "    X_train, y_train = smote.fit_resample(X_train, y_train)\n",
        "\n",
        "    model.fit(X_train, y_train)\n",
        "    y_pred=model.predict(X_test)\n",
        "\n",
        "    recall = recall + metrics.recall_score(y_test, y_pred)\n",
        "\n",
        "  #Calculate average recall, append to list\n",
        "  recall_test.append(recall/(k*repeats))\n",
        "\n",
        "#Plot recall scores against number of features used\n",
        "plt.plot(range(3, 16), recall_test, marker='o')\n",
        "plt.ylabel('Recall Score')\n",
        "plt.xlabel('Number of Folds')\n",
        "plt.show()\n",
        "\n",
        "print(\"Range of Recall Scores:\", (max(recall_test)-min(recall_test))*100)"
      ]
    },
    {
      "cell_type": "markdown",
      "source": [
        "The model appears to be quite stable, with Recall ranging by less than 1%."
      ],
      "metadata": {
        "id": "5VceQ5ad4R0A"
      }
    }
  ],
  "metadata": {
    "colab": {
      "collapsed_sections": [
        "ofVkrVUQdzpi",
        "g9TAizYxQy3G"
      ],
      "name": "4. Random Forest Classification Models.ipynb",
      "provenance": [],
      "authorship_tag": "ABX9TyPTOaweB+PghMlqC0F7ouvN",
      "include_colab_link": true
    },
    "kernelspec": {
      "display_name": "Python 3",
      "name": "python3"
    },
    "language_info": {
      "name": "python"
    }
  },
  "nbformat": 4,
  "nbformat_minor": 0
}