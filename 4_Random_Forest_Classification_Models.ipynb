{
  "nbformat": 4,
  "nbformat_minor": 0,
  "metadata": {
    "colab": {
      "name": "4. Random Forest Classification Models.ipynb",
      "provenance": [],
      "collapsed_sections": [],
      "authorship_tag": "ABX9TyPvgRNOYGiO8WFZ4oljYL07",
      "include_colab_link": true
    },
    "kernelspec": {
      "name": "python3",
      "display_name": "Python 3"
    },
    "language_info": {
      "name": "python"
    }
  },
  "cells": [
    {
      "cell_type": "markdown",
      "metadata": {
        "id": "view-in-github",
        "colab_type": "text"
      },
      "source": [
        "<a href=\"https://colab.research.google.com/github/YinYinTan/CIND820FinalProject/blob/main/4_Random_Forest_Classification_Models.ipynb\" target=\"_parent\"><img src=\"https://colab.research.google.com/assets/colab-badge.svg\" alt=\"Open In Colab\"/></a>"
      ]
    },
    {
      "cell_type": "markdown",
      "source": [
        "# Random Forest Classification Models\n",
        "Evaluations using Train-Test Split"
      ],
      "metadata": {
        "id": "ofVkrVUQdzpi"
      }
    },
    {
      "cell_type": "code",
      "source": [
        "from imblearn.over_sampling import SMOTE\n",
        "from sklearn.ensemble import RandomForestClassifier\n",
        "from sklearn import metrics\n",
        "from sklearn.feature_selection import RFE\n",
        "import time"
      ],
      "metadata": {
        "id": "qULcocLREKTX"
      },
      "execution_count": 99,
      "outputs": []
    },
    {
      "cell_type": "code",
      "source": [
        "import pandas as pd\n",
        "\n",
        "#Read file\n",
        "df = pd.read_csv('3a. Working Dataset.csv', index_col=None)"
      ],
      "metadata": {
        "id": "x2NItT3gdNOp"
      },
      "execution_count": 100,
      "outputs": []
    },
    {
      "cell_type": "markdown",
      "source": [
        "# All Features in Working Dataset"
      ],
      "metadata": {
        "id": "g9TAizYxQy3G"
      }
    },
    {
      "cell_type": "code",
      "source": [
        "#Split dataframe, using 80% for training and 20% for testing\n",
        "from sklearn.model_selection import train_test_split\n",
        "\n",
        "X = df.drop(['Worse_MH'],axis=1)\n",
        "y = df['Worse_MH']\n",
        "\n",
        "X_train, X_test, y_train, y_test = train_test_split(X, y, test_size=0.2, random_state=888, stratify=y)"
      ],
      "metadata": {
        "id": "dmarvx_-MKaI"
      },
      "execution_count": 101,
      "outputs": []
    },
    {
      "cell_type": "code",
      "source": [
        "#Apply Synthetic Minority Oversampling Technique (SMOTE) to training set to correct class imbalance\n",
        "smote = SMOTE(random_state = 888)\n",
        "X_train, y_train = smote.fit_resample(X_train, y_train)\n",
        "\n",
        "#Random forest classification model\n",
        "\n",
        "t1 = time.perf_counter() #time counter start\n",
        "\n",
        "model = RandomForestClassifier(random_state=888)\n",
        "model.fit(X_train, y_train)\n",
        "y_pred=model.predict(X_test)\n",
        "\n",
        "t2 = time.perf_counter() #time counter ends\n",
        "\n",
        "print('Execution time in seconds:', int(t2-t1), \"\\n\")\n",
        "\n",
        "#Save results into dictionary\n",
        "rf_all = {'Accuracy':metrics.accuracy_score(y_test, y_pred), 'Precision':metrics.precision_score(y_test, y_pred),'Recall':metrics.recall_score(y_test, y_pred),\\\n",
        "          'F1-Score':metrics.f1_score(y_test, y_pred),'AUC':metrics.roc_auc_score(y_test, y_pred),'Brier Score':metrics.brier_score_loss(y_test, y_pred)}\n",
        "\n",
        "#Evaluation of random forest classification model\n",
        "print(\"Accuracy:\", metrics.accuracy_score(y_test, y_pred))\n",
        "print(\"Precision:\", metrics.precision_score(y_test, y_pred))\n",
        "print(\"Recall:\", metrics.recall_score(y_test, y_pred))\n",
        "print(\"F1-score:\", metrics.f1_score(y_test, y_pred))\n",
        "print(\"Area Under Curve (AUC):\", metrics.roc_auc_score(y_test, y_pred))\n",
        "print(\"Brier Score:\", metrics.brier_score_loss(y_test, y_pred))"
      ],
      "metadata": {
        "colab": {
          "base_uri": "https://localhost:8080/"
        },
        "id": "fbEvfWsxEYPq",
        "outputId": "757376b9-8a33-4471-a506-b836eed9ca17"
      },
      "execution_count": 102,
      "outputs": [
        {
          "output_type": "stream",
          "name": "stdout",
          "text": [
            "Execution time in seconds: 2 \n",
            "\n",
            "Accuracy: 0.7517321016166282\n",
            "Precision: 0.8331877729257642\n",
            "Recall: 0.7996647108130763\n",
            "F1-score: 0.8160821214713431\n",
            "Area Under Curve (AUC): 0.7226523925122894\n",
            "Brier Score: 0.24826789838337182\n"
          ]
        }
      ]
    },
    {
      "cell_type": "markdown",
      "source": [
        "# Selected Features - Filter Method\n",
        "[Previous \"All Features\" section must be run first]"
      ],
      "metadata": {
        "id": "sJ0GaV2p_-_p"
      }
    },
    {
      "cell_type": "code",
      "source": [
        "#Identify top 20 features\n",
        "model = RandomForestClassifier(random_state=888)\n",
        "model.fit(X_train, y_train)\n",
        "\n",
        "feature_names = df.drop(['Worse_MH'],axis=1).columns\n",
        "\n",
        "feature_imp = pd.Series(model.feature_importances_,index=feature_names).sort_values(ascending=False)\n",
        "feature_imp = feature_imp[:20]"
      ],
      "metadata": {
        "id": "K0kI7wzsBz8b"
      },
      "execution_count": 103,
      "outputs": []
    },
    {
      "cell_type": "code",
      "source": [
        "#Plot top 20 features\n",
        "import matplotlib.pyplot as plt\n",
        "import seaborn as sns\n",
        "%matplotlib inline\n",
        "# Creating a bar plot\n",
        "sns.barplot(x=feature_imp, y=feature_imp.index)\n",
        "# Add labels to your graph\n",
        "plt.xlabel('Feature Importance Score')\n",
        "plt.ylabel('Features')\n",
        "plt.title(\"Visualizing Important Features\")\n",
        "plt.show()"
      ],
      "metadata": {
        "colab": {
          "base_uri": "https://localhost:8080/",
          "height": 0
        },
        "id": "YM5hdPAjDLmn",
        "outputId": "0ec13046-1e98-4c0e-dee1-68b1913e7a8e"
      },
      "execution_count": 104,
      "outputs": [
        {
          "output_type": "display_data",
          "data": {
            "image/png": "[encoded data removed]",
            "text/plain": [
              "<Figure size 432x288 with 1 Axes>"
            ]
          },
          "metadata": {
            "needs_background": "light"
          }
        }
      ]
    },
    {
      "cell_type": "markdown",
      "source": [
        "## Top 5 Features - Filter Method\n",
        "Based on the bar graph above, it was decided to build a random forest model using only the top 5 features."
      ],
      "metadata": {
        "id": "8GQ7eAJts4XL"
      }
    },
    {
      "cell_type": "code",
      "source": [
        "#Obtain names of top 5 variables\n",
        "top_five = feature_imp[:5].index\n",
        "top_five"
      ],
      "metadata": {
        "colab": {
          "base_uri": "https://localhost:8080/"
        },
        "id": "0jcbKYH2HVd7",
        "outputId": "e498cb0e-8b9f-4220-9deb-4d88c5cf1fb7"
      },
      "execution_count": 105,
      "outputs": [
        {
          "output_type": "execute_result",
          "data": {
            "text/plain": [
              "Index(['GEN_05', 'GEN_20', 'AGEDVG4', 'PPE_50E', 'PPE_50F'], dtype='object')"
            ]
          },
          "metadata": {},
          "execution_count": 105
        }
      ]
    },
    {
      "cell_type": "code",
      "source": [
        "#Split dataframe, using 80% for training and 20% for testing\n",
        "from sklearn.model_selection import train_test_split\n",
        "\n",
        "#Only select top 5 variables for X\n",
        "X = df.loc[:,top_five]\n",
        "y = df['Worse_MH']\n",
        "X_train, X_test, y_train, y_test = train_test_split(X, y, test_size=0.2, random_state=888, stratify=y)"
      ],
      "metadata": {
        "id": "xUi1EVsCAnCM"
      },
      "execution_count": 106,
      "outputs": []
    },
    {
      "cell_type": "code",
      "source": [
        "#Apply Synthetic Minority Oversampling Technique (SMOTE) to training set to correct class imbalance\n",
        "smote = SMOTE(random_state = 888)\n",
        "X_train, y_train = smote.fit_resample(X_train, y_train)\n",
        "\n",
        "#Random forest classification model\n",
        "\n",
        "t1 = time.perf_counter() #time counter start\n",
        "\n",
        "model = RandomForestClassifier(random_state=888)\n",
        "model.fit(X_train, y_train)\n",
        "y_pred=model.predict(X_test)\n",
        "\n",
        "t2 = time.perf_counter() #time counter ends\n",
        "\n",
        "print('Execution time in seconds:', int(t2-t1), \"\\n\")\n",
        "\n",
        "#Save results into dictionary\n",
        "rf_five_features_filter = {'Accuracy':metrics.accuracy_score(y_test, y_pred), 'Precision':metrics.precision_score(y_test, y_pred),'Recall':metrics.recall_score(y_test, y_pred),\\\n",
        "          'F1-Score':metrics.f1_score(y_test, y_pred),'AUC':metrics.roc_auc_score(y_test, y_pred),'Brier Score':metrics.brier_score_loss(y_test, y_pred)}\n",
        "\n",
        "#Evaluation of random forest classification model\n",
        "print(\"Accuracy:\", metrics.accuracy_score(y_test, y_pred))\n",
        "print(\"Precision:\", metrics.precision_score(y_test, y_pred))\n",
        "print(\"Recall:\", metrics.recall_score(y_test, y_pred))\n",
        "print(\"F1-score:\", metrics.f1_score(y_test, y_pred))\n",
        "print(\"Area Under Curve (AUC):\", metrics.roc_auc_score(y_test, y_pred))\n",
        "print(\"Brier Score:\", metrics.brier_score_loss(y_test, y_pred))"
      ],
      "metadata": {
        "colab": {
          "base_uri": "https://localhost:8080/"
        },
        "id": "gMkTSCYRGaN8",
        "outputId": "b90e0de2-c6d8-4798-88d2-34f984304e92"
      },
      "execution_count": 107,
      "outputs": [
        {
          "output_type": "stream",
          "name": "stdout",
          "text": [
            "Execution time in seconds: 0 \n",
            "\n",
            "Accuracy: 0.7323903002309469\n",
            "Precision: 0.852245292129406\n",
            "Recall: 0.739731768650461\n",
            "F1-score: 0.7920125645052727\n",
            "Area Under Curve (AUC): 0.7279363852528743\n",
            "Brier Score: 0.26760969976905313\n"
          ]
        }
      ]
    },
    {
      "cell_type": "markdown",
      "source": [
        "## Top 10 Features - Filter Method\n",
        "A random forest model using the top 10 features, to see if model performance improves."
      ],
      "metadata": {
        "id": "XtC5dK3QsLrq"
      }
    },
    {
      "cell_type": "code",
      "source": [
        "#Obtain names of top 10 variables\n",
        "top_ten = feature_imp[:10].index\n",
        "top_ten"
      ],
      "metadata": {
        "colab": {
          "base_uri": "https://localhost:8080/"
        },
        "id": "x7ADM2B9sQi6",
        "outputId": "76e510f4-12d9-4e7e-b018-7316b5f15797"
      },
      "execution_count": 108,
      "outputs": [
        {
          "output_type": "execute_result",
          "data": {
            "text/plain": [
              "Index(['GEN_05', 'GEN_20', 'AGEDVG4', 'PPE_50E', 'PPE_50F', 'PPE_50C',\n",
              "       'PPE_50D', 'PPE_50B', 'PPE_30C', 'PPE_50A'],\n",
              "      dtype='object')"
            ]
          },
          "metadata": {},
          "execution_count": 108
        }
      ]
    },
    {
      "cell_type": "code",
      "source": [
        "#Split dataframe, using 80% for training and 20% for testing\n",
        "from sklearn.model_selection import train_test_split\n",
        "\n",
        "#Only select top 10 variables for X\n",
        "X = df.loc[:,top_ten]\n",
        "y = df['Worse_MH']\n",
        "X_train, X_test, y_train, y_test = train_test_split(X, y, test_size=0.2, random_state=888, stratify=y)"
      ],
      "metadata": {
        "id": "przBdm8rsU6q"
      },
      "execution_count": 109,
      "outputs": []
    },
    {
      "cell_type": "code",
      "source": [
        "#Apply Synthetic Minority Oversampling Technique (SMOTE) to training set to correct class imbalance\n",
        "smote = SMOTE(random_state = 888)\n",
        "X_train, y_train = smote.fit_resample(X_train, y_train)\n",
        "\n",
        "#Random forest classification model\n",
        "\n",
        "t1 = time.perf_counter() #time counter start\n",
        "\n",
        "model = RandomForestClassifier(random_state=888)\n",
        "model.fit(X_train, y_train)\n",
        "y_pred=model.predict(X_test)\n",
        "\n",
        "t2 = time.perf_counter() #time counter ends\n",
        "\n",
        "print('Execution time in seconds:', int(t2-t1), \"\\n\")\n",
        "\n",
        "#Save results into dictionary\n",
        "rf_ten_features_filter = {'Accuracy':metrics.accuracy_score(y_test, y_pred), 'Precision':metrics.precision_score(y_test, y_pred),'Recall':metrics.recall_score(y_test, y_pred),\\\n",
        "          'F1-Score':metrics.f1_score(y_test, y_pred),'AUC':metrics.roc_auc_score(y_test, y_pred),'Brier Score':metrics.brier_score_loss(y_test, y_pred)}\n",
        "\n",
        "#Evaluation of random forest classification model\n",
        "print(\"Accuracy:\", metrics.accuracy_score(y_test, y_pred))\n",
        "print(\"Precision:\", metrics.precision_score(y_test, y_pred))\n",
        "print(\"Recall:\", metrics.recall_score(y_test, y_pred))\n",
        "print(\"F1-score:\", metrics.f1_score(y_test, y_pred))\n",
        "print(\"Area Under Curve (AUC):\", metrics.roc_auc_score(y_test, y_pred))\n",
        "print(\"Brier Score:\", metrics.brier_score_loss(y_test, y_pred))"
      ],
      "metadata": {
        "colab": {
          "base_uri": "https://localhost:8080/"
        },
        "id": "9oppA01ksdaL",
        "outputId": "506bfcf2-12ac-426e-9cd9-42845b078b4c"
      },
      "execution_count": 110,
      "outputs": [
        {
          "output_type": "stream",
          "name": "stdout",
          "text": [
            "Execution time in seconds: 1 \n",
            "\n",
            "Accuracy: 0.7297921478060047\n",
            "Precision: 0.8310502283105022\n",
            "Recall: 0.7627829002514669\n",
            "F1-score: 0.7954545454545454\n",
            "Area Under Curve (AUC): 0.7097773499402047\n",
            "Brier Score: 0.2702078521939954\n"
          ]
        }
      ]
    },
    {
      "cell_type": "markdown",
      "source": [
        "# 5 Selected Features using Recursive Feature Elimination (RFE) - Wrapper Method"
      ],
      "metadata": {
        "id": "-BLzkAIPL13c"
      }
    },
    {
      "cell_type": "code",
      "source": [
        "#Split dataframe, using 80% for training and 20% for testing\n",
        "from sklearn.model_selection import train_test_split\n",
        "\n",
        "X = df.drop(['Worse_MH'],axis=1)\n",
        "y = df['Worse_MH']\n",
        "\n",
        "X_train, X_test, y_train, y_test = train_test_split(X, y, test_size=0.2, random_state=888, stratify=y)"
      ],
      "metadata": {
        "id": "AXhqkw7tMcG0"
      },
      "execution_count": 111,
      "outputs": []
    },
    {
      "cell_type": "code",
      "source": [
        "#Apply Synthetic Minority Oversampling Technique (SMOTE) to training set to correct class imbalance\n",
        "smote = SMOTE(random_state = 888)\n",
        "X_train, y_train = smote.fit_resample(X_train, y_train)"
      ],
      "metadata": {
        "id": "ZOMEadLPMdzr"
      },
      "execution_count": 112,
      "outputs": []
    },
    {
      "cell_type": "code",
      "source": [
        "#Random forest classification model with RFE for 5 features\n",
        "\n",
        "t1 = time.perf_counter() #time counter start\n",
        "\n",
        "model = RandomForestClassifier(random_state=888)\n",
        "\n",
        "#5 chosen as the number of features based on the previous models using the filter method for feature selection, where 5 features performed similarly to 10\n",
        "rfe = RFE(estimator=model, n_features_to_select=5) \n",
        "fit = rfe.fit(X_train, y_train)\n",
        "\n",
        "t2 = time.perf_counter() #time counter ends\n",
        "\n",
        "for feature in fit.support_.nonzero():\n",
        "  print('5 selected features:', X_train.columns[feature])\n",
        "\n",
        "print('Execution time in seconds:', int(t2-t1))"
      ],
      "metadata": {
        "colab": {
          "base_uri": "https://localhost:8080/"
        },
        "id": "E1LgoyU1cGnG",
        "outputId": "91d2476e-ff92-47bc-bd19-a655050d01e7"
      },
      "execution_count": 113,
      "outputs": [
        {
          "output_type": "stream",
          "name": "stdout",
          "text": [
            "5 selected features: Index(['PPE_50A', 'PPE_50C', 'PPE_50E', 'GEN_05', 'GEN_20'], dtype='object')\n",
            "Execution time in seconds: 120\n"
          ]
        }
      ]
    },
    {
      "cell_type": "code",
      "source": [
        "y_pred=fit.predict(X_test)\n",
        "\n",
        "#Save results into dictionary\n",
        "rf_five_features_rfe = {'Accuracy':metrics.accuracy_score(y_test, y_pred), 'Precision':metrics.precision_score(y_test, y_pred),'Recall':metrics.recall_score(y_test, y_pred),\\\n",
        "          'F1-Score':metrics.f1_score(y_test, y_pred),'AUC':metrics.roc_auc_score(y_test, y_pred),'Brier Score':metrics.brier_score_loss(y_test, y_pred)}\n",
        "\n",
        "#Evaluation of random forest classification model\n",
        "print(\"Accuracy:\", metrics.accuracy_score(y_test, y_pred))\n",
        "print(\"Precision:\", metrics.precision_score(y_test, y_pred))\n",
        "print(\"Recall:\", metrics.recall_score(y_test, y_pred))\n",
        "print(\"F1-score:\", metrics.f1_score(y_test, y_pred))\n",
        "print(\"Area Under Curve (AUC):\", metrics.roc_auc_score(y_test, y_pred))\n",
        "print(\"Brier Score:\", metrics.brier_score_loss(y_test, y_pred))"
      ],
      "metadata": {
        "colab": {
          "base_uri": "https://localhost:8080/"
        },
        "id": "S0ImhnnlJqIW",
        "outputId": "ea388330-12d6-4bde-b2a9-000cc1c6129d"
      },
      "execution_count": 114,
      "outputs": [
        {
          "output_type": "stream",
          "name": "stdout",
          "text": [
            "Accuracy: 0.6986143187066974\n",
            "Precision: 0.8465909090909091\n",
            "Recall: 0.6869237217099748\n",
            "F1-score: 0.7584451642757983\n",
            "Area Under Curve (AUC): 0.7057067588141711\n",
            "Brier Score: 0.30138568129330257\n"
          ]
        }
      ]
    },
    {
      "cell_type": "markdown",
      "source": [
        "# Comparison of Models"
      ],
      "metadata": {
        "id": "o-gMsEa1Xgno"
      }
    },
    {
      "cell_type": "code",
      "source": [
        "#Combine performance metrics for all models into one dataframe\n",
        "comparison = pd.DataFrame([rf_all, rf_five_features_filter, rf_ten_features_filter, rf_five_features_rfe], index=['RF All Features','RF 5 Features - Filter','RF 10 Features - Filter','RF 5 Features - RFE'])\n",
        "comparison"
      ],
      "metadata": {
        "colab": {
          "base_uri": "https://localhost:8080/",
          "height": 175
        },
        "id": "F5_U_uSHXlO6",
        "outputId": "da2e189d-bb78-4b71-a066-21fad0b8aabc"
      },
      "execution_count": 115,
      "outputs": [
        {
          "output_type": "execute_result",
          "data": {
            "text/html": [
              "\n",
              "  <div id=\"df-2e4ad125-4f21-4cda-a91a-aca6da9f3c47\">\n",
              "    <div class=\"colab-df-container\">\n",
              "      <div>\n",
              "<style scoped>\n",
              "    .dataframe tbody tr th:only-of-type {\n",
              "        vertical-align: middle;\n",
              "    }\n",
              "\n",
              "    .dataframe tbody tr th {\n",
              "        vertical-align: top;\n",
              "    }\n",
              "\n",
              "    .dataframe thead th {\n",
              "        text-align: right;\n",
              "    }\n",
              "</style>\n",
              "<table border=\"1\" class=\"dataframe\">\n",
              "  <thead>\n",
              "    <tr style=\"text-align: right;\">\n",
              "      <th></th>\n",
              "      <th>Accuracy</th>\n",
              "      <th>Precision</th>\n",
              "      <th>Recall</th>\n",
              "      <th>F1-Score</th>\n",
              "      <th>AUC</th>\n",
              "      <th>Brier Score</th>\n",
              "    </tr>\n",
              "  </thead>\n",
              "  <tbody>\n",
              "    <tr>\n",
              "      <th>RF All Features</th>\n",
              "      <td>0.751732</td>\n",
              "      <td>0.833188</td>\n",
              "      <td>0.799665</td>\n",
              "      <td>0.816082</td>\n",
              "      <td>0.722652</td>\n",
              "      <td>0.248268</td>\n",
              "    </tr>\n",
              "    <tr>\n",
              "      <th>RF 5 Features - Filter</th>\n",
              "      <td>0.732390</td>\n",
              "      <td>0.852245</td>\n",
              "      <td>0.739732</td>\n",
              "      <td>0.792013</td>\n",
              "      <td>0.727936</td>\n",
              "      <td>0.267610</td>\n",
              "    </tr>\n",
              "    <tr>\n",
              "      <th>RF 10 Features - Filter</th>\n",
              "      <td>0.729792</td>\n",
              "      <td>0.831050</td>\n",
              "      <td>0.762783</td>\n",
              "      <td>0.795455</td>\n",
              "      <td>0.709777</td>\n",
              "      <td>0.270208</td>\n",
              "    </tr>\n",
              "    <tr>\n",
              "      <th>RF 5 Features - RFE</th>\n",
              "      <td>0.698614</td>\n",
              "      <td>0.846591</td>\n",
              "      <td>0.686924</td>\n",
              "      <td>0.758445</td>\n",
              "      <td>0.705707</td>\n",
              "      <td>0.301386</td>\n",
              "    </tr>\n",
              "  </tbody>\n",
              "</table>\n",
              "</div>\n",
              "      <button class=\"colab-df-convert\" onclick=\"convertToInteractive('df-2e4ad125-4f21-4cda-a91a-aca6da9f3c47')\"\n",
              "              title=\"Convert this dataframe to an interactive table.\"\n",
              "              style=\"display:none;\">\n",
              "        \n",
              "  <svg xmlns=\"http://www.w3.org/2000/svg\" height=\"24px\"viewBox=\"0 0 24 24\"\n",
              "       width=\"24px\">\n",
              "    <path d=\"M0 0h24v24H0V0z\" fill=\"none\"/>\n",
              "    <path d=\"M18.56 5.44l.94 2.06.94-2.06 2.06-.94-2.06-.94-.94-2.06-.94 2.06-2.06.94zm-11 1L8.5 8.5l.94-2.06 2.06-.94-2.06-.94L8.5 2.5l-.94 2.06-2.06.94zm10 10l.94 2.06.94-2.06 2.06-.94-2.06-.94-.94-2.06-.94 2.06-2.06.94z\"/><path d=\"M17.41 7.96l-1.37-1.37c-.4-.4-.92-.59-1.43-.59-.52 0-1.04.2-1.43.59L10.3 9.45l-7.72 7.72c-.78.78-.78 2.05 0 2.83L4 21.41c.39.39.9.59 1.41.59.51 0 1.02-.2 1.41-.59l7.78-7.78 2.81-2.81c.8-.78.8-2.07 0-2.86zM5.41 20L4 18.59l7.72-7.72 1.47 1.35L5.41 20z\"/>\n",
              "  </svg>\n",
              "      </button>\n",
              "      \n",
              "  <style>\n",
              "    .colab-df-container {\n",
              "      display:flex;\n",
              "      flex-wrap:wrap;\n",
              "      gap: 12px;\n",
              "    }\n",
              "\n",
              "    .colab-df-convert {\n",
              "      background-color: #E8F0FE;\n",
              "      border: none;\n",
              "      border-radius: 50%;\n",
              "      cursor: pointer;\n",
              "      display: none;\n",
              "      fill: #1967D2;\n",
              "      height: 32px;\n",
              "      padding: 0 0 0 0;\n",
              "      width: 32px;\n",
              "    }\n",
              "\n",
              "    .colab-df-convert:hover {\n",
              "      background-color: #E2EBFA;\n",
              "      box-shadow: 0px 1px 2px rgba(60, 64, 67, 0.3), 0px 1px 3px 1px rgba(60, 64, 67, 0.15);\n",
              "      fill: #174EA6;\n",
              "    }\n",
              "\n",
              "    [theme=dark] .colab-df-convert {\n",
              "      background-color: #3B4455;\n",
              "      fill: #D2E3FC;\n",
              "    }\n",
              "\n",
              "    [theme=dark] .colab-df-convert:hover {\n",
              "      background-color: #434B5C;\n",
              "      box-shadow: 0px 1px 3px 1px rgba(0, 0, 0, 0.15);\n",
              "      filter: drop-shadow(0px 1px 2px rgba(0, 0, 0, 0.3));\n",
              "      fill: #FFFFFF;\n",
              "    }\n",
              "  </style>\n",
              "\n",
              "      <script>\n",
              "        const buttonEl =\n",
              "          document.querySelector('#df-2e4ad125-4f21-4cda-a91a-aca6da9f3c47 button.colab-df-convert');\n",
              "        buttonEl.style.display =\n",
              "          google.colab.kernel.accessAllowed ? 'block' : 'none';\n",
              "\n",
              "        async function convertToInteractive(key) {\n",
              "          const element = document.querySelector('#df-2e4ad125-4f21-4cda-a91a-aca6da9f3c47');\n",
              "          const dataTable =\n",
              "            await google.colab.kernel.invokeFunction('convertToInteractive',\n",
              "                                                     [key], {});\n",
              "          if (!dataTable) return;\n",
              "\n",
              "          const docLinkHtml = 'Like what you see? Visit the ' +\n",
              "            '<a target=\"_blank\" href=https://colab.research.google.com/notebooks/data_table.ipynb>data table notebook</a>'\n",
              "            + ' to learn more about interactive tables.';\n",
              "          element.innerHTML = '';\n",
              "          dataTable['output_type'] = 'display_data';\n",
              "          await google.colab.output.renderOutput(dataTable, element);\n",
              "          const docLink = document.createElement('div');\n",
              "          docLink.innerHTML = docLinkHtml;\n",
              "          element.appendChild(docLink);\n",
              "        }\n",
              "      </script>\n",
              "    </div>\n",
              "  </div>\n",
              "  "
            ],
            "text/plain": [
              "                         Accuracy  Precision  ...       AUC  Brier Score\n",
              "RF All Features          0.751732   0.833188  ...  0.722652     0.248268\n",
              "RF 5 Features - Filter   0.732390   0.852245  ...  0.727936     0.267610\n",
              "RF 10 Features - Filter  0.729792   0.831050  ...  0.709777     0.270208\n",
              "RF 5 Features - RFE      0.698614   0.846591  ...  0.705707     0.301386\n",
              "\n",
              "[4 rows x 6 columns]"
            ]
          },
          "metadata": {},
          "execution_count": 115
        }
      ]
    },
    {
      "cell_type": "code",
      "source": [
        "#Friedman test to compare results of the three models???\n",
        "from scipy.stats import friedmanchisquare\n",
        "\n",
        "stat, p = friedmanchisquare(comparison.iloc[0], comparison.iloc[1], comparison.iloc[2])\n",
        "print('Statistics=%.3f, p=%.3f' % (stat, p))"
      ],
      "metadata": {
        "colab": {
          "base_uri": "https://localhost:8080/"
        },
        "id": "1g_6VbTQZBe9",
        "outputId": "04987ca0-4d5a-4877-f254-1ded44eeee2b"
      },
      "execution_count": 116,
      "outputs": [
        {
          "output_type": "stream",
          "name": "stdout",
          "text": [
            "Statistics=1.333, p=0.513\n"
          ]
        }
      ]
    }
  ]
}